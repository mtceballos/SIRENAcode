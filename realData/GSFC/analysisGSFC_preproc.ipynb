{
 "cells": [
  {
   "cell_type": "markdown",
   "metadata": {},
   "source": [
    "# LIBRARY CREATION for ANALYSIS OF REAL DATA (GSFC)"
   ]
  },
  {
   "cell_type": "markdown",
   "metadata": {},
   "source": [
    "From real MnKa1, MnKa2 (+other lines) data, it creates a library of optimal filters and reconstruct (and calibrate) data calculating FWHM of lines\n",
    "\n",
    "**Energy units are (k)eV**\n",
    "\n",
    "**PKH= PeaK Height** (independent of reconstruction method)\n",
    "\n",
    "**PH= Pulse Height ~ Energy** (dependent of reconstruction method)\n",
    "\n",
    "Imports and definitions\n",
    "\n",
    "PREPROCESSING\n",
    "\n",
    "1. Clean multiple-pulse records\n",
    "\n",
    "    1.1. Detect pulses in records file\n",
    "     \n",
    "    1.2. Identify multiple pulse records\n",
    "    \n",
    "    1.3. Remove multiple-pulse records (to select only single records)\n",
    "\n",
    "2. Monocrhomatic (Mn Ka) library creation\n",
    "\n",
    "    2.1. Plot histogram of maximum values in single-pulse records\n",
    "    \n",
    "    2.2. Select records around Ka1 and Ka2 lines (by limiting max(ADC))\n",
    "    \n",
    "    2.3. Create a library (using filtered noise) with this new file with PKH-Kas photons in single records\n",
    "    \n",
    "    2.4. Reconstruct PKH-Kas data with initial PKH-Kas library\n",
    "    \n",
    "    2.5. Read data from HR PKH-Kas evt file to identify Ka1 and Ka2\n",
    "    \n",
    "    2.6. Select Ka1+Ka2 pulses according to PH(reconstructed \"energy\")\n",
    "    \n",
    "    2.7. Create data file with pulses only from Mn Kas surviving quality criteria\n",
    "    \n",
    "        2.7.1. Select Kas events according to reconstructed PH\n",
    "        \n",
    "        2.7.2 Template of PH_Kas pulses: pulses will be compared with template\n",
    "        \n",
    "        2.7.3 Clean Kas according to GSFC criteria\n",
    "        \n",
    "        2.7.4 Clean Kas events according to chi2 value of comparison with template\n",
    "        \n",
    "        2.7.5 Plot results of pulse qualification\n",
    "    \n",
    "    2.8. Create library of clean Kas using filtered noise\n",
    "        "
   ]
  },
  {
   "cell_type": "markdown",
   "metadata": {},
   "source": [
    "## Imports and definitions"
   ]
  },
  {
   "cell_type": "code",
   "execution_count": 2,
   "metadata": {},
   "outputs": [],
   "source": [
    "import ipywidgets as widgets\n",
    "#%matplotlib widget\n",
    "\n",
    "from subprocess import check_call, STDOUT\n",
    "import os\n",
    "from astropy.io import fits\n",
    "import numpy.polynomial.polynomial as poly\n",
    "from numpy.polynomial import Polynomial as P\n",
    "import tempfile\n",
    "from datetime import datetime\n",
    "import shutil, shlex\n",
    "import numpy as np\n",
    "import matplotlib.pyplot as plt\n",
    "from mpl_toolkits.axes_grid1.inset_locator import inset_axes\n",
    "import pandas\n",
    "from getMaximaDensity import getMaximaDensity\n",
    "from GSFC import averagePulse, autoDeterminePulseWindowAndThreshold, categorize, deviatonFromAveragePulse,nrecs_larger_than,chi2\n",
    "from commands import run_comm\n",
    "from clean_records import remove_invalid_records\n",
    "import matplotlib.transforms as transforms\n",
    "from matplotlib.gridspec import GridSpec\n",
    "from numpy import random\n",
    "from calibLines import *\n",
    "from annote import AnnoteFinder\n",
    "from scipy.interpolate import interp1d\n",
    "\n",
    "cwd = os.getcwd()\n",
    "tmpDir = tempfile.mkdtemp()\n",
    "os.environ[\"PFILES\"] = tmpDir + \":\" + os.environ[\"PFILES\"]\n",
    "os.environ[\"HEADASNOQUERY\"] = \"\"\n",
    "os.environ[\"HEADASPROMPT\"] = \"/dev/null/\"\n",
    "xmlfileSX = os.environ[\"SIXTE\"] + \"/share/sixte/instruments/athena-xifu/xifu_detector_lpa_75um_AR0.5_pixoffset_mux40_pitch275um_GSFC.xml\"\n",
    "#print(xmlfileSX)"
   ]
  },
  {
   "cell_type": "code",
   "execution_count": 3,
   "metadata": {},
   "outputs": [],
   "source": [
    "# data files for library creation\n",
    "channel = 1\n",
    "resDir = \"channel_\" + str(channel)\n",
    "suffix = \"_filt_thS3.5\"\n",
    "if not os.path.exists(resDir):\n",
    "    os.makedirs(resDir)\n",
    "ratio = 5 # ratio Ka1_gaussProb/Ka2_gaussProb\n",
    "fileph  = \"pulse/pulse_chan\" + str(channel) + \".fits\" # initial data file with all records and PH_ID column populated\n",
    "fileph_singles = resDir + \"/pulse_chan\" + str(channel) + \"_singles.fits\" # initial data file with all records and PH_ID column populated\n",
    "filephHR  = resDir + \"/pulse_chan\" + str(channel) + \"_HR.fits\" # initial data file with all records and PH_ID column populated and High Res events\n",
    "fileph_KasPKH = resDir + \"/pulse_chan\" + str(channel) + \"_KasPKH.fits\" # data file with only those records with Kas lines selected by Peak Heigth\n",
    "fileph_Kas = resDir + \"/pulse_chan\" + str(channel) + \"_Kas.fits\" # data file with only those records with Kas lines \n",
    "noiseph = \"noise/noise_chan\" + str(channel) + suffix + \".fits\"\n",
    "noisefile = \"noise/noise_chan\" + str(channel) + suffix + \"_spec.fits\""
   ]
  },
  {
   "cell_type": "code",
   "execution_count": null,
   "metadata": {},
   "outputs": [],
   "source": [
    "# select SIRENA parameters for library Kas creation and reconstruction of data files\n",
    "samprate=195312.5\n",
    "# plen = 8192 # length comming from number of samples - noise spectrum - not needed by library\n",
    "oflen = 8000 # filter used for reconstructions\n",
    "liblen = 8000 # length of maximum optimal filter for library creation == largeFilter\n",
    "preBuffer = 2000\n",
    "pBstr = \"\"\n",
    "if preBuffer > 0:\n",
    "    pBstr = \"_pB\" + str(preBuffer)\n",
    "    suffix = pBstr + suffix\n",
    "method = \"OPTFILT\"\n",
    "F0orB0 = \"F0\"\n",
    "nS = 5\n",
    "sU = 3\n",
    "sD = 4\n",
    "#KaseV = 5895 # eV reference energy: 8.2%*5.88765(Ka2)+16.2%*5.89875(Ka1) for initial Kas library\n",
    "libKasPKH = resDir + \"/\" + \"library_KasPKH_\" + str(liblen) +  suffix + \".fits\" # initial lib with PKH selected Kas pulses\n",
    "libKas = resDir + \"/\" + \"library_Kas_\" + str(liblen) +  suffix + \".fits\" # final lib of Kas pulses (PH+clean) selected pulses"
   ]
  },
  {
   "cell_type": "code",
   "execution_count": null,
   "metadata": {},
   "outputs": [],
   "source": [
    "# reconstructed files\n",
    "evtKasPKH_libKas = resDir + \"/\" + \"evtKasPKH_pulse_chan\" + str(channel) + \"_libKas_\" + \"pL\" + str(oflen) + \"_\" + method + str(oflen) + \".fits\"\n",
    "evtKasPKH_libKas_HR = resDir + \"/\" + \"evtKasPKH_pulse_chan\" + str(channel) + \"_libKas_\" + \"pL\" + str(oflen) + \"_\" + method + str(oflen) + \"_HR.fits\"\n",
    "evtKas_libKas = resDir + \"/\" + \"evtKas_pulse_chan\" + str(channel) + \"_libKas_\" + \"pL\" + str(oflen) + \"_\" + method + str(oflen) + \".fits\"\n",
    "evtKas_libKas_HR = resDir + \"/\" + \"evtKas_pulse_chan\" + str(channel) + \"_libKas_\" + \"pL\" + str(oflen) + \"_\" + method + str(oflen) + \"_HR.fits\""
   ]
  },
  {
   "cell_type": "markdown",
   "metadata": {},
   "source": [
    "## PREPROCESSING"
   ]
  },
  {
   "cell_type": "markdown",
   "metadata": {},
   "source": [
    "## 1. Clean multiple-pulse records"
   ]
  },
  {
   "cell_type": "markdown",
   "metadata": {},
   "source": [
    "### 1.1) Detect pulses in records file"
   ]
  },
  {
   "cell_type": "code",
   "execution_count": null,
   "metadata": {},
   "outputs": [],
   "source": [
    "%%script false --no-raise-error\n",
    "# calculate noise spectrum\n",
    "comm = (\"gennoisespec inFile=\" + noiseph + \" outFile=\" + noisefile + \" intervalMinSamples=\" + str(liblen) +\n",
    "        \" nintervals=1830 pulse_length=\" + str(plen) + \" clobber=yes rmNoiseIntervals=yes\")\n",
    "mess = \"Getting noise spectrum\"\n",
    "run_comm(comm, mess)"
   ]
  },
  {
   "cell_type": "code",
   "execution_count": null,
   "metadata": {},
   "outputs": [],
   "source": [
    "%%script false --no-raise-error\n",
    "# build fake library to detect pulses and identify multiple-pulse records\n",
    "tmpFile = resDir + \"/\" + \"detections0.fits\"\n",
    "tmpFile2 = resDir + \"/\" + \"fakeLib.fits\"\n",
    "comm = (\"tesreconstruction Recordfile=\" + fileph + \" TesEventFile=\" + tmpFile + \" PulseLength=\" + str(liblen) + \n",
    "        \" LibraryFile=\" + tmpFile2 + \" samplesUp=\" + str(sU) + \" nSgms=\" + str(nS) + \" samplesDown=\" + str(sD) + \n",
    "        \" opmode=0 FilterMethod=\" + F0orB0 + \" clobber=yes EnergyMethod=\" + method + \" NoiseFile=\" + noisefile +\n",
    "        \" XMLFile=\" + xmlfileSX + \" monoenergy=\" + str(MnKas_cmass) + \" preBuffer=\" + str(preBuffer))\n",
    "mess = \"Do initial detection\"\n",
    "run_comm(comm, mess)\n",
    "os.remove(tmpFile2)\n",
    "print(\"##########################################\")\n",
    "print(\"Finished creation of fake detection-Library\")\n",
    "print(\"##########################################\")"
   ]
  },
  {
   "cell_type": "markdown",
   "metadata": {},
   "source": [
    "### 1.2) Identify multiple pulse records"
   ]
  },
  {
   "cell_type": "code",
   "execution_count": null,
   "metadata": {},
   "outputs": [],
   "source": [
    "%%script false --no-raise-error\n",
    "pulsesFile = resDir + \"/pulses.txt\"\n",
    "# dump records info\n",
    "colname = \"'SIGNAL, PH_ID, GRADE1, GRADE2'\" \n",
    "comm = (\"fdump wrap=yes infile=\" + tmpFile + \"+1 columns=\" + colname + \" rows='-' prhead=no \" +\n",
    "        \"showcol=yes showunit=no showrow=no outfile=\" + pulsesFile + \" clobber=yes\")\n",
    "mess = \"FDUMPing evt file\"\n",
    "run_comm(comm,mess)    "
   ]
  },
  {
   "cell_type": "code",
   "execution_count": null,
   "metadata": {},
   "outputs": [],
   "source": [
    "%%script false --no-raise-error\n",
    "\n",
    "# find single records\n",
    "dataAll = pandas.read_csv(pulsesFile, skiprows=0, sep=\"\\s+\")\n",
    "display(dataAll)\n",
    "n_ocurr = dataAll.PH_ID.value_counts() # number of ocurrences of each PH_ID\n",
    "#print(n_ocurr)\n",
    "all_PH_ID = np.unique(dataAll.PH_ID.to_list())   # all PH_ID \n",
    "single_PH_ID = list()             # single records \n",
    "multiple_PH_ID = list()             # multiple records \n",
    "for key in sorted(n_ocurr.keys()):\n",
    "    if n_ocurr[key] == 1:\n",
    "        #print(\"Single record for PH_ID=\", key)\n",
    "        single_PH_ID.append(key)\n",
    "    else:\n",
    "        multiple_PH_ID.append(key)\n",
    "os.remove(pulsesFile)\n",
    "\n",
    "print(\"Number of records in\",fileph, \"=\", len(all_PH_ID))\n",
    "print(\"Number of Single records in\",fileph, \"=\", len(single_PH_ID))\n",
    "#print(single_PH_ID)\n",
    "print(\"Number of Multiple records in\",fileph, \"=\", len(multiple_PH_ID))\n",
    "#print(multiple_PH_ID)"
   ]
  },
  {
   "cell_type": "markdown",
   "metadata": {},
   "source": [
    "### 1.3) Remove multiple pulse records (to select only single records)"
   ]
  },
  {
   "cell_type": "code",
   "execution_count": null,
   "metadata": {},
   "outputs": [],
   "source": [
    "%%script false --no-raise-error\n",
    "\n",
    "remove_invalid_records(infile=fileph, ext=1, id_list=multiple_PH_ID, colname=\"PH_ID\", outfile=fileph_singles)"
   ]
  },
  {
   "cell_type": "markdown",
   "metadata": {},
   "source": [
    "## 2. Monochromatic library creation"
   ]
  },
  {
   "cell_type": "markdown",
   "metadata": {},
   "source": [
    "### 2.1) Plot histogram of maximum values in single-pulse records"
   ]
  },
  {
   "cell_type": "code",
   "execution_count": null,
   "metadata": {},
   "outputs": [],
   "source": [
    "plt.close()\n",
    "f = fits.open(fileph_singles)\n",
    "ADCdata = f[\"TESRECORDS\"].data['ADC']\n",
    "baselines = np.mean(ADCdata[:,0:1950], axis=1)\n",
    "ADCmax = np.amax(ADCdata, axis=1)\n",
    "\n",
    "fig = plt.figure(figsize=(9,4))\n",
    "ax1 = fig.add_subplot(1, 2, 1)\n",
    "bin_heights, bin_borders, _ = ax1.hist(ADCmax, bins=20, alpha=0.4)\n",
    "ax1.set_xlabel(\"Maximum value of ADC in record\")\n",
    "ax1.set_ylabel(\"Number of records\")\n",
    "ax1.set_title(\"Histogram of max(ADC)\")\n",
    "PKHmin = 22000 # ADC units to limit Kas lines\n",
    "ax1.axvline(PKHmin, linestyle=\"--\", color=\"gray\")\n",
    "PKHmax = 25000 # ADC units to limit Kas lines\n",
    "ax1.axvline(PKHmax, linestyle=\"--\", color=\"gray\")\n",
    "\n",
    "# Identify 'unusual' baselines (fragments of pulses)\n",
    "ax2 = fig.add_subplot(1, 2, 2)\n",
    "ax2.hist(baselines, bins=25, alpha=0.4)\n",
    "ax2.set_title(\"Histogram of record baselines\")\n",
    "ax2.set_xlabel(\"Mean value of baseline\")\n",
    "ax2.annotate('partial initial (undetected) pulse', xy=(9500,10000), xytext=(9000, 30000),\n",
    "            arrowprops=dict(facecolor='black', shrink=0.05),\n",
    "            )\n",
    "print(\"Max baseline=\", np.max(baselines))\n",
    "print(\"Indices of baselines:\", np.where(baselines>8400))\n",
    "print(\"Largest baselines:\", baselines[baselines>8400])\n",
    "f.close()\n",
    "fig.tight_layout()"
   ]
  },
  {
   "cell_type": "markdown",
   "metadata": {},
   "source": [
    "### 2.2) Select records around Ka1 and Ka2 lines (by limiting max(ADC))"
   ]
  },
  {
   "cell_type": "code",
   "execution_count": null,
   "metadata": {},
   "outputs": [],
   "source": [
    "%%script false --no-raise-error\n",
    "\n",
    "comm = (\"fselect  infile=\" + fileph_singles + \"+1 outfile=\" + fileph_KasPKH + \n",
    "        \" expr='max(ADC)>\" + str(PKHmin) + \" && max(ADC)<\" + str(PKHmax) + \"' clobber=yes\")\n",
    "mess = \"Selecting Kas by Pulse Height\"\n",
    "run_comm(comm,mess)"
   ]
  },
  {
   "cell_type": "markdown",
   "metadata": {},
   "source": [
    "### 2.3) Create a library with this new file with PKH-Kas photons in single records"
   ]
  },
  {
   "cell_type": "code",
   "execution_count": null,
   "metadata": {},
   "outputs": [],
   "source": [
    "%%script false --no-raise-error\n",
    "\n",
    "# build library Kas\n",
    "tmpFile = resDir + \"/\" + \"pp\" + str(int(datetime.timestamp(datetime.now()))) + \".fits\"\n",
    "comm = (\"tesreconstruction Recordfile=\" + fileph_KasPKH + \" TesEventFile=\" + tmpFile + \" PulseLength=\" + str(4096) + \n",
    "        \" LibraryFile=\" + libKasPKH + \" samplesUp=\" + str(sU) + \" nSgms=\" + str(nS) + \" samplesDown=\" + str(sD) + \n",
    "        \" opmode=0 FilterMethod=\" + F0orB0 + \" clobber=yes EnergyMethod=\" + method + \" NoiseFile=\" + noisefile + \n",
    "        \" largeFilter=\" + str(liblen) + \" XMLFile=\" + xmlfileSX + \" monoenergy=\" + str(MnKas_cmass) + \n",
    "        \" preBuffer=\" + str(preBuffer))\n",
    "run_comm(comm, \"Building initial library (Kas)\")\n",
    "os.remove(tmpFile)\n",
    "print(\"##############################################\")\n",
    "print(\"Finished creation of Library of PKH-Kas events\")\n",
    "print(\"##############################################\")"
   ]
  },
  {
   "cell_type": "markdown",
   "metadata": {},
   "source": [
    "### 2.4) Reconstruct PKH-Kas data with initial (PKH-Kas) library"
   ]
  },
  {
   "cell_type": "code",
   "execution_count": null,
   "metadata": {},
   "outputs": [],
   "source": [
    "#%%script false --no-raise-error\n",
    "\n",
    "# check that records have enough samples to recons with 8000 samples: look for position of max(pulse)\n",
    "plt.close()\n",
    "f = fits.open(fileph_KasPKH)\n",
    "ADCdataPKH = f[\"TESRECORDS\"].data['ADC']\n",
    "ADCmax_index = np.argmax(ADCdataPKH, axis=1)\n",
    "print(ADCmax_index)\n",
    "iimin = np.argmin(ADCmax_index)\n",
    "iimax = np.argmax(ADCmax_index)\n",
    "print(\"Indices of max(ADC) goes from:\", np.min(ADCmax_index), \"in record \", iimin, \"+1 to\", \n",
    "      np.max(ADCmax_index), \"for record\", iimax, \"+1\")\n",
    "print(\"ADCmax_index[\",iimin,\"]=\", ADCmax_index[iimin])\n",
    "print(\"ADCmax_index[\",iimax,\"]=\", ADCmax_index[iimax])\n",
    "fig = plt.figure(figsize=(9,4))\n",
    "ax1 = fig.add_subplot(1, 2, 1)\n",
    "bin_heights, bin_borders, _ = ax1.hist(ADCmax_index, bins=100, alpha=0.4)\n",
    "ax1.set_xlabel(\"Indices of Maximum values of ADC in record\")\n",
    "ax1.set_ylabel(\"Number of records\")\n",
    "ax1.set_title(\"Histogram of indices of max(ADC)\")"
   ]
  },
  {
   "cell_type": "code",
   "execution_count": null,
   "metadata": {},
   "outputs": [],
   "source": [
    "%%script false --no-raise-error\n",
    "comm = (\"tesreconstruction Recordfile=\" + fileph_KasPKH + \" TesEventFile=\" + evtKasPKH_libKas + \" PulseLength=\" + str(oflen) +\n",
    "        \" LibraryFile=\" + libKasPKH + \" samplesUp=\" + str(sU) + \" nSgms=\" + str(nS) + \" samplesDown=\" + str(sD) + \" opmode=1 \" +\n",
    "        \" clobber=yes EnergyMethod=\" + method + \" filtEeV=\" + str(MnKas_cmass) + \" OFStrategy=FIXED OFLib=yes OFLength=\" + str(liblen) + \n",
    "        \" preBuffer=\" + str(preBuffer) + \" XMLFile=\" + xmlfileSX)\n",
    "run_comm(comm, \"Reconstructing Kas data w/ initial library (Kas)\")\n",
    "\n",
    "# Select only HR events\n",
    "comm = (\"fselect  infile=\" + evtKasPKH_libKas + \" outfile=\" + evtKasPKH_libKas_HR + \" expr='GRADE1 == \" + str(liblen) + \n",
    "       \" && GRADE2 > 500' clobber=yes\")\n",
    "run_comm(comm, \"Selecting HR Kas evts\")"
   ]
  },
  {
   "cell_type": "markdown",
   "metadata": {},
   "source": [
    "### 2.5) Read data from HR PKH-Kas evt file to identify Ka1 and Ka2"
   ]
  },
  {
   "cell_type": "code",
   "execution_count": null,
   "metadata": {},
   "outputs": [],
   "source": [
    "#%%script false --no-raise-error\n",
    "pulseFile = resDir + \"/pulsesKas.txt\"\n",
    "colname = \"'TIME,SIGNAL, PH_ID, GRADE1, GRADE2, PHI'\" \n",
    "comm = (\"fdump wrap=yes infile=\" + evtKasPKH_libKas_HR + \"+1 columns=\" + colname + \" pagewidth=256 rows='-' prhead=no \" +\n",
    "        \"showcol=yes showunit=no showrow=no outfile=\" + pulseFile + \" clobber=yes\")\n",
    "run_comm(comm, \"FDUMPing evt file\")\n",
    "\n",
    "dataKasPKH_HR = pandas.read_csv(pulseFile, skiprows=0,sep=\"\\s+\")\n",
    "os.remove(pulseFile)\n",
    "print(\"\\nNumber of PKH-HR Kas pulses in\",fileph_KasPKH, \"=\", len(dataKasPKH_HR))\n",
    "display(dataKasPKH_HR)\n",
    "print(\"Kas events with PHI==0. (double pulses):\", dataKasPKH_HR[dataKasPKH_HR.PHI == 0.])"
   ]
  },
  {
   "cell_type": "markdown",
   "metadata": {},
   "source": [
    "### 2.6) Select Ka1+Ka2 pulses according to initial PH (reconstructed \"energy\")"
   ]
  },
  {
   "cell_type": "code",
   "execution_count": null,
   "metadata": {},
   "outputs": [],
   "source": [
    "#%%script false --no-raise-error\n",
    "plt.close()\n",
    "# select data in Kas range (otherwise there is always a smaller pulse comimg from multiple-pulse rows)\n",
    "# print(min(dataKas_HR.SIGNAL), max(dataKas_HR.SIGNAL))\n",
    "PHminKas, PHmaxKas = 5.82, 5.875\n",
    "data_Ka2Ka1 = dataKasPKH_HR[(dataKasPKH_HR.SIGNAL>PHminKas) & (dataKasPKH_HR.SIGNAL<PHmaxKas)]\n",
    "print(\"Number of PH-Kas pulses:\", len(data_Ka2Ka1))\n",
    "fig = plt.figure(figsize=(5,4))\n",
    "ax = fig.add_subplot(1, 1, 1)\n",
    "ax.hist(data_Ka2Ka1.SIGNAL, bins=50, alpha=0.4, density=True)\n",
    "ax.set_xlabel(\"Reconstructed PH (a.u.)\")\n",
    "ax.set_ylabel(\"# photons\")\n",
    "ax.set_title(\"Mn Ka photons\")"
   ]
  },
  {
   "cell_type": "markdown",
   "metadata": {},
   "source": [
    "### 2.7) Create clean data file with pulses only from Mn Kas and quality > criteria"
   ]
  },
  {
   "cell_type": "markdown",
   "metadata": {},
   "source": [
    "#### 2.7.1) Select Kas **pulses** according to reconstructed PH"
   ]
  },
  {
   "cell_type": "code",
   "execution_count": null,
   "metadata": {},
   "outputs": [],
   "source": [
    "#According to ENERGY value: select PH_IDs to exclude non-truly-Kas in single-pulse records\n",
    "PH_ID_Kas = np.sort(data_Ka2Ka1.PH_ID.to_list())\n",
    "PH_ID_noKas = np.sort(list(set(dataKasPKH_HR.PH_ID.to_list()).difference(PH_ID_Kas)))\n",
    "\n",
    "print(\"Number of PKH-Kas pulses:\", len(dataKasPKH_HR.SIGNAL))\n",
    "print(\"Number of PH-Kas pulses:\", len(data_Ka2Ka1.SIGNAL))\n",
    "print(\"Number of PKH-Kas pulses which are non-truly PH-Kas pulses:\", len(PH_ID_noKas))\n",
    "print(\"Example of PH-Kas pulses (PH_ID):\", PH_ID_Kas[:20])\n",
    "print(\"Example of PKH-Kas pulses which are non-truly Kas pulses (PH_ID):\", PH_ID_noKas[:10])"
   ]
  },
  {
   "cell_type": "code",
   "execution_count": null,
   "metadata": {},
   "outputs": [],
   "source": [
    "# select data based on PH\n",
    "f = fits.open(fileph_KasPKH)\n",
    "ADCdata_KasPKH = f[\"TESRECORDS\"].data['ADC']\n",
    "PHIDdata_KasPKH = f[\"TESRECORDS\"].data['PH_ID']\n",
    "\n",
    "PHIDdata_KasPH = PHIDdata_KasPKH[np.isin(PHIDdata_KasPKH,PH_ID_Kas)]\n",
    "ADCdata_KasPH = ADCdata_KasPKH[np.isin(PHIDdata_KasPKH,PH_ID_Kas)]\n",
    "f.close()\n",
    "print(\"Example PHID of PKH-Kas pulses:\", PHIDdata_KasPKH[0:20])\n",
    "print(\"Example PHID of PH-Kas pulses:\", PHIDdata_KasPH[0:20])"
   ]
  },
  {
   "cell_type": "markdown",
   "metadata": {},
   "source": [
    "#### 2.7.2) Template of PH-Kas pulses: pulses will be compared with template"
   ]
  },
  {
   "cell_type": "code",
   "execution_count": null,
   "metadata": {},
   "outputs": [],
   "source": [
    "nrecords = ADCdata_KasPH.shape[0]\n",
    "lenrec = ADCdata_KasPH.shape[1]\n",
    "len_ave = 5000\n",
    "ave_KasPH = np.zeros(len_ave)\n",
    "fig = plt.figure(figsize=(6,3))\n",
    "ax1 = fig.add_subplot(1, 1, 1)\n",
    "\n",
    "istart, iend, thresh, ave_KasPH = autoDeterminePulseWindowAndThreshold(ADCdata_KasPH, \n",
    "                                nbase=700, nsigma=100, numSamples=len_ave, plot=True, ax=ax1)\n",
    "# autodeterminePulseAndWindow places start of template in sample=1000 \n",
    "\n",
    "# get exact point where template crosses threshold to better align pulses later\n",
    "icross = 999 + (thresh-ave_KasPH[999])/(ave_KasPH[1000]-ave_KasPH[999])\n",
    "nobsln_KasPH = np.zeros((ADCdata_KasPH.shape)) # remove baseline\n",
    "ax1.plot(icross,thresh,marker='x')\n",
    "\n",
    "print(\"Pulse window in average:\", istart, iend, thresh)\n",
    "\n"
   ]
  },
  {
   "cell_type": "markdown",
   "metadata": {},
   "source": [
    "#### 2.7.3) Clean Kas events according GSFC criteria (difference w/ template)"
   ]
  },
  {
   "cell_type": "code",
   "execution_count": null,
   "metadata": {},
   "outputs": [],
   "source": [
    "invalid_records = list()\n",
    "\n",
    "GSFCrejected = list()\n",
    "GSFCrejected_comm = list()\n",
    "for irec in range(nrecords):\n",
    "    base = np.mean(ADCdata_KasPH[irec,1000:1800])\n",
    "    nobsln_KasPH[irec,:] = ADCdata_KasPH[irec,:] - base \n",
    "    #print(\"For irec=\",irec,\"base=\",np.mean(nobsln_Ka1[irec,1000:1800]))\n",
    "    rec_class = categorize(nobsln_KasPH[irec,:], istart, iend, thresh, joff=10) # initial offset is needed to avoid jitter effects\n",
    "    #print(\"irec=\", irec, \"rec_class=\", rec_class)\n",
    "    if rec_class[\"rejected\"] == 1:\n",
    "        GSFCrejected.append(irec)\n",
    "        GSFCrejected_comm.append(rec_class[\"rejected_comm\"])\n",
    "print(\"List of rejected pulses:\", GSFCrejected)                        \n",
    "print(\"Cause of rejection:\", GSFCrejected_comm)            \n",
    "\n",
    "invalid_records = GSFCrejected"
   ]
  },
  {
   "cell_type": "markdown",
   "metadata": {},
   "source": [
    "#### 2.7.4) Clean Kas events according to $\\chi^2$ value of comparison with template"
   ]
  },
  {
   "cell_type": "code",
   "execution_count": null,
   "metadata": {},
   "outputs": [],
   "source": [
    "# align pulses with average record and calculate chisq\n",
    "chisq = np.zeros(nrecords)\n",
    "nobsln_KasPH_cut = np.zeros((nrecords, len_ave))\n",
    "meanstd = 8.7\n",
    "#chth = 1e4 # threshld in Chisq to remove records\n",
    "chi2_ths = {\"1\" : 8e3,    #channel 1\n",
    "            \"3\" : 1.6e4,  #channel 3\n",
    "            \"5\" : 1.4e4}  #channel 3\n",
    "chth = chi2_ths[str(channel)]\n",
    "chi2rejected = list()\n",
    "icross_cut = list()\n",
    "for irec in range(nrecords):\n",
    "    s0 = np.where(nobsln_KasPH[irec,:] > thresh)[0][0]\n",
    "    stSample = s0-istart\n",
    "    fnSample = stSample + len_ave\n",
    "    if stSample < 0:\n",
    "        print(\"Possible pulse in preBuffer:\")\n",
    "        print(\"      For irec=\",irec,\"s0,ini,fin=\", s0,stSample,fnSample)\n",
    "        chi2rejected.append(irec)\n",
    "        chisq[irec] = 1e6\n",
    "        icross_cut.append(1000)\n",
    "    else:\n",
    "        nobsln_KasPH_cut[irec,:] = nobsln_KasPH[irec,stSample:fnSample]\n",
    "        # assuming template window IS IN SAMPLE=1000\n",
    "        ic = 999 + (thresh-nobsln_KasPH_cut[irec,999])/(nobsln_KasPH_cut[irec,1000]-nobsln_KasPH_cut[irec,999])\n",
    "        icross_cut.append(ic)\n",
    "        off = icross-ic\n",
    "        xx = np.array(range(len_ave))\n",
    "        off_func = interp1d(xx, nobsln_KasPH_cut[irec,:], kind='linear', fill_value='extrapolate')\n",
    "        off_cut = off_func(xx-off)\n",
    "        chisq[irec] = chi2(off_cut, ave_KasPH, meanstd)\n",
    "        if chisq[irec] > chth:\n",
    "            chi2rejected.append(irec)"
   ]
  },
  {
   "cell_type": "markdown",
   "metadata": {},
   "source": [
    "#### 2.7.4) Plot results of pulse qualification"
   ]
  },
  {
   "cell_type": "code",
   "execution_count": null,
   "metadata": {},
   "outputs": [],
   "source": [
    "# Plots of selection of pulses\n",
    "plt.close()\n",
    "fig = plt.figure(figsize=(9,6))\n",
    "\n",
    "# 1) Plot difference between average pulse and rejected/invalid/tocheck pulses\n",
    "# -----------------------------------------------------------------------------\n",
    "test_pulses = [8933] # index number of record in KasPH file\n",
    "ax1 = fig.add_subplot(2, 2, 1)\n",
    "ax1.plot(range(len(ave_KasPH)), len(ave_KasPH)*[0], ls='')\n",
    "for irej in test_pulses:\n",
    "    index = test_pulses.index(irej)\n",
    "    color = \"C\"+ str(index+3)\n",
    "    xx = np.array(range(len_ave))\n",
    "    off_func = interp1d(xx, nobsln_KasPH_cut[irej,:], kind='linear', fill_value='extrapolate')\n",
    "    off = icross-icross_cut[irej]\n",
    "    off_rej = off_func(xx-off)\n",
    "    diff_record = off_rej - ave_KasPH\n",
    "    ax1.plot(range(len_ave), diff_record, color=color, label=(\"Test pulse (\" + str(irej) + \")\"))\n",
    "ax1.axvline(istart, color=\"gray\", ls=\"--\")\n",
    "ax1.axvline(iend, color=\"gray\", ls=\"--\")\n",
    "ax1.set_title(\"Difference with Average pulse\")\n",
    "ax1.set_ylabel(\"Record in ADC - Average (a.u.)\")\n",
    "ax1.set_xlabel(\"Record sample\")\n",
    "ax1.legend(fontsize=\"xx-small\", loc=\"upper right\")\n",
    "\n",
    "# 2) Average and test pulse\n",
    "# ----------------------------\n",
    "ax2 = fig.add_subplot(2, 2, 2)\n",
    "ax2.plot(range(len(ave_KasPH)), ave_KasPH, label=(\"Average pulse\"), color=\"black\")\n",
    "for irej in test_pulses:\n",
    "    index = test_pulses.index(irej)\n",
    "    color = \"C\"+ str(index+3)\n",
    "    rej_record = nobsln_KasPH_cut[irej,:]\n",
    "    #ax2.plot(range(len(ave_KasPH)), rej_record, label=(\"Test pulse (\" + str(irej) + \")\"), color=color)\n",
    "    ax2.plot(icross_cut[irej], thresh, color=color, marker=\"x\")\n",
    "    off = icross-icross_cut[irej]\n",
    "    ax2.plot(np.arange(len(ave_KasPH))+off, rej_record, label=(\"Test pulse (\" + str(irej) + \") offset\"), color=color, ls=\"--\")\n",
    "ax2.axvline(istart, color=\"gray\", ls=\"--\")\n",
    "ax2.axvline(iend, color=\"gray\", ls=\"--\")\n",
    "ax2.axhline(thresh, color=\"gray\", ls=\"--\")\n",
    "ax2.set_title(\"Average & Test pulse\")\n",
    "ax2.set_ylabel(\"ADC (a.u.)\")\n",
    "ax2.set_xlabel(\"Record sample\")\n",
    "ax2.legend(fontsize=\"xx-small\")\n",
    "\n",
    "# 3) Cumulative Chisq deviation between average record and every record\n",
    "# ----------------------------------------------------------------------\n",
    "ax3 = fig.add_subplot(2, 2, 3)\n",
    "nofrecs = nrecs_larger_than(chisq, chisq)\n",
    "ax3.plot(nofrecs, chisq, marker='.', ls='')\n",
    "ax3.fill_between(nofrecs, min(chisq), max(chisq), where=chisq > chth, color='gray', alpha=0.05)\n",
    "ax3.set_yscale('log')\n",
    "ax3.set_ylabel(\"Deviation\")\n",
    "ax3.set_xlabel(\"# records to remove (Dev>deviation)\")\n",
    "\n",
    "# 4) Individual Chisq deviation\n",
    "# ------------------------------\n",
    "ax4 = fig.add_subplot(2, 2, 4)\n",
    "ax4.scatter(range(nrecords), chisq, alpha=0.5, marker='.')\n",
    "ax4.scatter(GSFCrejected, chisq[GSFCrejected], alpha=0.3, marker='.', s=200, label='GSFC invalid')\n",
    "ax4.scatter(chi2rejected, chisq[chi2rejected], alpha=0.3, marker='x', label='Chi2 invalid')\n",
    "for irej in test_pulses:\n",
    "    index = test_pulses.index(irej)\n",
    "    color = \"C\"+ str(index+3)\n",
    "    ax4.plot(irej, chisq[irej], marker='s', fillstyle='none',ls=\"\", markersize=5, \n",
    "             color=color,label=(\"Test pulse (\" + str(irej) + \")\"))\n",
    "ax4.legend(fontsize=\"x-small\", loc=\"best\")\n",
    "print(\"Using th=\",chth)\n",
    "ax4.axhline(chth, color=\"gray\", ls='-')\n",
    "annotes = range(nrecords)\n",
    "af =  AnnoteFinder(range(nrecords), chisq, annotes, ax=ax4)\n",
    "fig.canvas.mpl_connect('button_press_event', af)\n",
    "ax4.set_yscale('log')\n",
    "ax4.set_ylim(0.8*np.amin(chisq), 2*np.amax(chisq))\n",
    "ax4.set_ylabel(\"Chisq of deviation\")\n",
    "ax4.set_xlabel(\"Record number\")\n",
    "fig.tight_layout()\n",
    "\n",
    "invalid_records_1_2 = list(set(GSFCrejected + chi2rejected))\n",
    "PH_ID_rejected_1_2 = PHIDdata_KasPH[invalid_records_1_2]\n",
    "PH_ID_invalid_0_1_2 = np.append(PH_ID_noKas, PH_ID_rejected_1_2)\n"
   ]
  },
  {
   "cell_type": "code",
   "execution_count": null,
   "metadata": {},
   "outputs": [],
   "source": [
    "plt.close()\n",
    "clean_indices = np.isin(PHIDdata_KasPKH, PH_ID_invalid_0_1_2, invert=True)\n",
    "ADCdata_clean = ADCdata_KasPKH[clean_indices]\n",
    "PHID_clean = PHIDdata_KasPKH[clean_indices]\n",
    "#display(ADCdata_good)\n",
    "stds0 = np.std(ADCdata_clean[:,1000:1800],axis=1)\n",
    "stds0_median = np.median(stds0)\n",
    "stds0_sigma = np.std(stds0)\n",
    "stds_large = np.std(ADCdata_clean[:,10:1800],axis=1)\n",
    "fig = plt.figure(figsize=(9,4))\n",
    "ax1 = fig.add_subplot(1, 2, 1)\n",
    "ax1.hist(stds0, log=True, bins=100, label=\"Close Baseline (800sam bf. pulse)\")\n",
    "ax1.hist(stds_large, log=True, bins=100, alpha=0.4, label=\"Full baseline\")\n",
    "ax1.set_xlabel(\"STD of baseline\")\n",
    "ax1.legend()\n",
    "\n",
    "ax2 = fig.add_subplot(1, 2, 2)\n",
    "ax2.plot(PHID_clean, stds0, marker=\"x\", ls=\"\", label=\"Close baseline\")\n",
    "ax2.axhline(stds0_median, ls=\"--\", color=\"gray\")\n",
    "ax2.axhline(stds0_median+1.5*stds0_sigma, ls=\"--\", color=\"gray\")\n",
    "ax2.axhline(stds0_median-1.5*stds0_sigma, ls=\"--\", color=\"gray\")\n",
    "#ax2.plot(PHID_clean, stds_large, marker=\"x\", ls=\"\", label=\"Full baseline\")#, alpha=0.3)\n",
    "ax2.set_xlabel(\"PH_ID of valid records\")\n",
    "ax2.set_ylabel(\"STD of baseline\")\n",
    "ax2.legend()\n",
    "annotes = PHID_clean\n",
    "af =  AnnoteFinder(PHID_clean, stds0, annotes, ax=ax2)\n",
    "fig.canvas.mpl_connect('button_press_event', af)\n",
    "\n",
    "# identify index of record in KasPH file to plot above\n",
    "out_PHID = 15747\n",
    "idx = np.where(PHIDdata_KasPH == out_PHID)[0]\n",
    "print(\"Index in KasPH file is:\", idx)\n",
    "fig.tight_layout()\n",
    "\n",
    "PH_ID_STDrejected = PHID_clean[np.where(stds0>10)[0]]\n",
    "print(\"Number of STD-rejected records:\", len(PH_ID_STDrejected))\n",
    "#print(PHID_STDrejected)"
   ]
  },
  {
   "cell_type": "code",
   "execution_count": null,
   "metadata": {},
   "outputs": [],
   "source": [
    "%%script false --no-raise-error\n",
    "PH_ID_invalid_total = np.append(PH_ID_invalid_0_1_2, PH_ID_STDrejected)\n",
    "print(\"Number of PKH-Kas pulses=\",len(dataKasPKH_HR.SIGNAL))\n",
    "print(\"Number of excluded by PH=\", len(PH_ID_noKas))\n",
    "print(\"Number of excluded by GSFC & Chi2=\", len(PH_ID_rejected_1_2))\n",
    "print(\"Number of excluded by STD=\", len(PH_ID_STDrejected))\n",
    "print(\"Number of final Kas pulses\", len(dataKasPKH_HR)-len(PH_ID_invalid_total))\n",
    "print(\"Final list of invalid PH_ID:\",PH_ID_invalid_total)\n",
    "# exclude non-truly Kas pulses (PH-rejected, GSFC-rejected, chi2-rejected) from PKH-Kas file\n",
    "remove_invalid_records(infile=fileph_KasPKH, ext=1, id_list=PH_ID_invalid_total, colname=\"PH_ID\", outfile=fileph_Kas)"
   ]
  },
  {
   "cell_type": "markdown",
   "metadata": {},
   "source": [
    "## 2.8) Create library of clean Kas"
   ]
  },
  {
   "cell_type": "code",
   "execution_count": null,
   "metadata": {},
   "outputs": [],
   "source": [
    "#%%script false --no-raise-error\n",
    "# build library Kas\n",
    "noisefile = \"noise/noise_chan\" + str(channel) + \"_filt_thS3.5_spec.fits\"\n",
    "libKas = resDir + \"/\" + \"library_Kas_\" + str(liblen) +  pBstr + \"_filt_thS3.5.fits\" \n",
    "tmpFile = resDir + \"/\" + \"pp\" + str(int(datetime.timestamp(datetime.now()))) + \".fits\"\n",
    "comm = (\"tesreconstruction Recordfile=\" + fileph_Kas + \" TesEventFile=\" + tmpFile + \n",
    "        \" LibraryFile=\" + libKas + \" samplesUp=\" + str(sU) + \" nSgms=\" + str(nS) + \" samplesDown=\" + str(sD) + \n",
    "        \" opmode=0 FilterMethod=\" + F0orB0 + \" clobber=yes EnergyMethod=\" + method + \n",
    "        \" largeFilter=\" + str(liblen) + \" NoiseFile=\" + noisefile +\n",
    "        \" XMLFile=\" + xmlfileSX + \" monoenergy=\" + str(MnKas_cmass) + \" preBuffer=\" + str(preBuffer))\n",
    "#print(comm)\n",
    "run_comm(comm, \"Building final library (Kas)\")\n",
    "os.remove(tmpFile)\n",
    "print(\"##########################################\")\n",
    "print(\"Finished creation of Library of Kas events\")\n",
    "print(\"##########################################\")"
   ]
  },
  {
   "cell_type": "code",
   "execution_count": null,
   "metadata": {},
   "outputs": [],
   "source": []
  }
 ],
 "metadata": {
  "kernelspec": {
   "display_name": "Python 3",
   "language": "python",
   "name": "python3"
  },
  "language_info": {
   "codemirror_mode": {
    "name": "ipython",
    "version": 3
   },
   "file_extension": ".py",
   "mimetype": "text/x-python",
   "name": "python",
   "nbconvert_exporter": "python",
   "pygments_lexer": "ipython3",
   "version": "3.8.3"
  },
  "toc": {
   "base_numbering": 1,
   "nav_menu": {},
   "number_sections": true,
   "sideBar": true,
   "skip_h1_title": false,
   "title_cell": "Table of Contents",
   "title_sidebar": "Contents",
   "toc_cell": false,
   "toc_position": {
    "height": "calc(100% - 180px)",
    "left": "10px",
    "top": "150px",
    "width": "183.333px"
   },
   "toc_section_display": true,
   "toc_window_display": false
  },
  "toc-autonumbering": false,
  "toc-showcode": true,
  "toc-showmarkdowntxt": false,
  "toc-showtags": false,
  "varInspector": {
   "cols": {
    "lenName": 16,
    "lenType": 16,
    "lenVar": 40
   },
   "kernels_config": {
    "python": {
     "delete_cmd_postfix": "",
     "delete_cmd_prefix": "del ",
     "library": "var_list.py",
     "varRefreshCmd": "print(var_dic_list())"
    },
    "r": {
     "delete_cmd_postfix": ") ",
     "delete_cmd_prefix": "rm(",
     "library": "var_list.r",
     "varRefreshCmd": "cat(var_dic_list()) "
    }
   },
   "types_to_exclude": [
    "module",
    "function",
    "builtin_function_or_method",
    "instance",
    "_Feature"
   ],
   "window_display": false
  }
 },
 "nbformat": 4,
 "nbformat_minor": 4
}
