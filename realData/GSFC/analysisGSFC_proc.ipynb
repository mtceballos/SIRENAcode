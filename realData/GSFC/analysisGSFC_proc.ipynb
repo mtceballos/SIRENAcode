{
 "cells": [
  {
   "cell_type": "markdown",
   "metadata": {},
   "source": [
    "# ANALYSIS OF REAL DATA (GSFC)"
   ]
  },
  {
   "cell_type": "markdown",
   "metadata": {},
   "source": [
    "From real MnKa1, MnKa2 (+other lines) data, it creates a library of optimal filters and reconstruct (and calibrate) data calculating FWHM of lines\n",
    "\n",
    "**Energy units are (k)eV**\n",
    "\n",
    "Imports and definitions\n",
    "\n",
    "PROCESSING\n",
    "\n",
    "0. Reconstruct data file (singles) with selected record length and library Ka1 and select HR events\n",
    "\n",
    "1. Read reconstructed events\n",
    "\n",
    "    1.1. Have a look to events distribution and to variations with baseline and jitter\n",
    "   \n",
    "   STUDY OF MnK COMPLEX\n",
    "\n",
    "2. Jitter correction\n",
    "\n",
    "    2.1 Plot recon PH vs PHASE (distance between trigger and parabola fit=PHI+LAGS) & Fit a polynomial\n",
    "    \n",
    "3. Baseline drift correction\n",
    "\n",
    "    3.1 Plot jiterr_recon PH vs Baseline & Fit polynomial\n",
    "    \n",
    "    3.2 Fit gaussians, create new Gain scale and re-calibrate energies\n",
    "    \n",
    "4. Fit histogram of baseline-jitter-corrected energies\n",
    "\n",
    "    4.1. Test different number of bins and see how residuals respond\n",
    "    \n",
    "    4.2. Use the range of number of bins where residuals are quite estable and use them to get different FWHM; then take median value\n",
    "    \n",
    "5. Recalibrate energies\n",
    "\n",
    "6. Plot ALL calibrated energies (No correction for non Mn energies)\n",
    "    - get new gain scale with fitted line centres\n",
    "    - recalibrate energies\n",
    "    - fit again to get FWHM more precisely\n",
    "    \n",
    "7. Plot FWHM comparison of different reconstruction methods/lengths    \n",
    "        "
   ]
  },
  {
   "cell_type": "markdown",
   "metadata": {},
   "source": [
    "## Imports and definitions"
   ]
  },
  {
   "cell_type": "code",
   "execution_count": 2,
   "metadata": {},
   "outputs": [
    {
     "name": "stdout",
     "output_type": "stream",
     "text": [
      "/home/ceballos/sw/SIXTE/git/gitInstall/share/sixte/instruments/athena-xifu/xifu_detector_lpa_75um_AR0.5_pixoffset_mux40_pitch275um_GSFC.xml\n"
     ]
    }
   ],
   "source": [
    "from subprocess import check_call, STDOUT\n",
    "import os\n",
    "from astropy.io import fits\n",
    "import numpy.polynomial.polynomial as poly\n",
    "from numpy.polynomial import Polynomial as P\n",
    "import tempfile\n",
    "from datetime import datetime\n",
    "import shutil, shlex\n",
    "import numpy as np\n",
    "import matplotlib.pyplot as plt\n",
    "from mpl_toolkits.axes_grid1.inset_locator import inset_axes\n",
    "import pandas\n",
    "from RxLines import RxLines\n",
    "from fit2GaussAndRatio import fit2GaussAndRatio\n",
    "from getMaximaDensity import getMaximaDensity\n",
    "from fit2gauss2hist import fit2gauss2hist\n",
    "from fit3gauss2hist import fit3gauss2hist\n",
    "from gainScaleFit import gainScaleLinearFit, gainScalePolyFit\n",
    "from fitVoigt2hist import fitVoigt2hist\n",
    "from jitterCorr import jitterCorr\n",
    "from baseCorr import baseCorr\n",
    "from applyCorr import applyCorr\n",
    "from commands import run_comm\n",
    "from clean_records import remove_invalid_records\n",
    "from annote import AnnoteFinder\n",
    "from GSFC import averagePulse, autoDeterminePulseWindowAndThreshold, categorize, deviatonFromAveragePulse,nrecs_larger_than,chi2\n",
    "\n",
    "\n",
    "import matplotlib.transforms as transforms\n",
    "from matplotlib.gridspec import GridSpec\n",
    "from numpy import random\n",
    "from calibLines import *\n",
    "\n",
    "import ipywidgets as widgets\n",
    "%matplotlib widget\n",
    "\n",
    "cwd = os.getcwd()\n",
    "tmpDir = tempfile.mkdtemp()\n",
    "os.environ[\"PFILES\"] = tmpDir + \":\" + os.environ[\"PFILES\"]\n",
    "os.environ[\"HEADASNOQUERY\"] = \"\"\n",
    "os.environ[\"HEADASPROMPT\"] = \"/dev/null/\"\n",
    "xmlfileSX = os.environ[\"SIXTE\"] + \"/share/sixte/instruments/athena-xifu/xifu_detector_lpa_75um_AR0.5_pixoffset_mux40_pitch275um_GSFC.xml\"\n",
    "print(xmlfileSX)"
   ]
  },
  {
   "cell_type": "code",
   "execution_count": 11,
   "metadata": {},
   "outputs": [],
   "source": [
    "# data files\n",
    "channels = (1,3,5,7,9,11,13,15,17,19)\n",
    "channel = 5\n",
    "resDir = \"channel_\" + str(channel)\n",
    "if not os.path.exists(resDir):\n",
    "    os.makedirs(resDir)\n",
    "fileph_singles = resDir + \"/pulse_chan\" + str(channel) + \"_singles.fits\" # initial data file with all records and PH_ID column populated\n",
    "fileph_Kas = resDir + \"/pulse_chan\" + str(channel) + \"_Kas.fits\" # data file with only those records with Kas lines (selected by max(ADC))"
   ]
  },
  {
   "cell_type": "code",
   "execution_count": 5,
   "metadata": {},
   "outputs": [],
   "source": [
    "# select SIRENA parameters for library Kas creation and reconstruction of data files\n",
    "samprate=195312.5\n",
    "plen = 8192\n",
    "oflen = 8000\n",
    "liblen = 4096 # length of maximum optimal filter for library creation\n",
    "preBuffer = 1000\n",
    "pBstr = \"\"\n",
    "if preBuffer > 0:\n",
    "    pBstr = \"_pB\" + str(preBuffer)\n",
    "method = \"OPTFILT\"\n",
    "F0orB0 = \"F0\"\n",
    "nS = 5\n",
    "sU = 3\n",
    "sD = 4\n",
    "\n",
    "suffix = pBstr + \"_filt_thS3.5\""
   ]
  },
  {
   "cell_type": "code",
   "execution_count": 6,
   "metadata": {},
   "outputs": [],
   "source": [
    "# reconstructed files\n",
    "evt_libKas = resDir + \"/\" + \"evt_pulse_chan\" + str(channel) + \"_libKas_\" + \"pL\" + str(plen) + \"_\" + method + str(oflen) + suffix + \".fits\"\n",
    "evt_libKas_HR = resDir + \"/\" + \"evt_pulse_chan\" + str(channel) + \"_libKas_\" + \"pL\" + str(plen) + \"_\" + method + str(oflen) + suffix + \"_HR.fits\"\n",
    "evtKas_libKas = resDir + \"/\" + \"evtKas_pulse_chan\" + str(channel) + \"_libKas_\" + \"pL\" + str(plen) + \"_\" + method + str(oflen) + suffix + \".fits\"\n",
    "evtKas_libKas_HR = resDir + \"/\" + \"evtKas_pulse_chan\" + str(channel) + \"_libKas_\" + \"pL\" + str(plen) + \"_\" + method + str(oflen) + suffix + \"_HR.fits\"\n",
    "\n",
    "# library Kas\n",
    "libKas = resDir + \"/\" + \"library_Kas_\"+ str(liblen) + suffix + \".fits\""
   ]
  },
  {
   "cell_type": "code",
   "execution_count": 7,
   "metadata": {},
   "outputs": [],
   "source": [
    "# gain scale\n",
    "deg = 2 # degree of polynomial for gainscale fit 1=linear; >1: polynomial\n",
    "lines = (MnKa2_cmass, MnKa1_cmass, MnKb_cmass)"
   ]
  },
  {
   "cell_type": "code",
   "execution_count": 8,
   "metadata": {
    "jupyter": {
     "source_hidden": true
    }
   },
   "outputs": [],
   "source": [
    "def plotMainXlines(ax, alp_l=0.3, alp_t=0.5):\n",
    "    \"\"\" Plot main X line\n",
    "    ax: axis of plot\n",
    "    alp_l: transparency (alpha) of calibration lines markers\n",
    "    alp_t: transparency (alpha) of calibration lines text\n",
    "    \"\"\"\n",
    "    trans=ax.get_xaxis_transform()\n",
    "    colors = 3*[\"green\"] + 3*[\"red\"] + 3*[\"magenta\"] + 3*[\"blue\"] + 3*[\"darkorange\"]\n",
    "    lxx = [\"Ka11\",\"Ka21\",\"Kb11\"]\n",
    "    lx = [\"Ka1\",\"Ka2\",\"Kb\"]\n",
    "    labels = [\"Cr\"+ll for ll in lxx] + [\"Mn\"+ll for ll in lxx] + [\"Cu\"+ll for ll in lxx] + [\"Fe\"+ll for ll in lx] + [\"Co\"+ll for ll in lx]\n",
    "    xpos   = (5414.874,5405.551,5947.000,  #Cr\n",
    "              5898.882,5887.772,6490.890,  #Mn\n",
    "              8047.837,8027.993,8905.532,  #Cu\n",
    "              6403.840,6390.840,7057.980,  #Fe https://xdb.lbl.gov/Section1/Table_1-2.pdf\n",
    "              6930.320,6915.300,7649.400)  #Co https://xdb.lbl.gov/Section1/Table_1-2.pdf\n",
    "    ypos   = np.linspace(0.95,0.05,num=len(colors))\n",
    "    for i in range(len(colors)):\n",
    "        if xpos[i] < ax.get_xlim()[0] or xpos[i] > ax.get_xlim()[1]:\n",
    "            continue\n",
    "        x=xpos[i]\n",
    "        ax.axvline(x, color=colors[i], ls=\":\", alpha=alp_l)\n",
    "        plt.text(x, ypos[i], labels[i], color=colors[i], transform=trans, alpha=alp_t)"
   ]
  },
  {
   "cell_type": "code",
   "execution_count": 9,
   "metadata": {},
   "outputs": [],
   "source": [
    "def format_axes(fig):\n",
    "    for i, ax in enumerate(fig.axes):\n",
    "        ax.text(0.5, 0.5, \"ax%d\" % (i+1), va=\"center\", ha=\"center\")\n",
    "        ax.tick_params(labelbottom=False, labelleft=False)"
   ]
  },
  {
   "cell_type": "markdown",
   "metadata": {},
   "source": [
    "# PROCESSING"
   ]
  },
  {
   "cell_type": "markdown",
   "metadata": {},
   "source": [
    "## 0. Reconstruct data file (singles & Kas) with selected record length and select HR events\n",
    "(try different record lengths to get variation of FWHM)"
   ]
  },
  {
   "cell_type": "code",
   "execution_count": 12,
   "metadata": {},
   "outputs": [
    {
     "name": "stdout",
     "output_type": "stream",
     "text": [
      "Reconstructing ALL data w/ library (Kas)\n",
      "tesreconstruction Recordfile=channel_5/pulse_chan5_singles.fits TesEventFile=channel_5/evt_pulse_chan5_libKas_pL4096_OPTFILT4096_pB1000_filt_thS3.5.fits PulseLength=4096 LibraryFile=channel_5/library_Kas_4096_pB1000_filt_thS3.5.fits samplesUp=3 nSgms=5 samplesDown=4 opmode=1 clobber=yes EnergyMethod=OPTFILT XMLFile=/home/ceballos/sw/SIXTE/git/gitInstall/share/sixte/instruments/athena-xifu/xifu_detector_lpa_75um_AR0.5_pixoffset_mux40_pitch275um_GSFC.xml LbT=0.01 filtEeV=5894.40 OFStrategy=FIXED OFLength=4096 preBuffer=1000\n",
      "####################################\n",
      "Reconstruction of ALL pulses finished\n",
      "####################################\n"
     ]
    }
   ],
   "source": [
    "#%%script false --no-raise-error\n",
    "#reconstruct ALL events\n",
    "comm = (\"tesreconstruction Recordfile=\" + fileph_singles + \" TesEventFile=\" + evt_libKas + \" PulseLength=\" + str(plen) +\n",
    "        \" LibraryFile=\" + libKas + \" samplesUp=\" + str(sU) + \" nSgms=\" + str(nS) + \" samplesDown=\" + str(sD) +\n",
    "        \" opmode=1 clobber=yes EnergyMethod=\" + method + \" XMLFile=\" + xmlfileSX + \" LbT=0.01\" + \n",
    "        \" filtEeV=\" + str(MnKas_cmass) + \" OFStrategy=FIXED OFLength=\" + str(oflen) + \" preBuffer=\" + str(preBuffer))\n",
    "mess = \"Reconstructing ALL data w/ library (Kas)\"\n",
    "run_comm(comm,msg=mess)\n",
    "print(\"####################################\")\n",
    "print(\"Reconstruction of ALL pulses finished\")\n",
    "print(\"####################################\")"
   ]
  },
  {
   "cell_type": "code",
   "execution_count": 14,
   "metadata": {},
   "outputs": [
    {
     "name": "stdout",
     "output_type": "stream",
     "text": [
      "Reconstructing Kas data w/ library (Kas)\n",
      "tesreconstruction Recordfile=channel_5/pulse_chan5_Kas.fits TesEventFile=channel_5/evtKas_pulse_chan5_libKas_pL4096_OPTFILT4096_pB1000_filt_thS3.5.fits PulseLength=4096 LibraryFile=channel_5/library_Kas_4096_pB1000_filt_thS3.5.fits samplesUp=3 nSgms=5 samplesDown=4 opmode=1 clobber=yes EnergyMethod=OPTFILT XMLFile=/home/ceballos/sw/SIXTE/git/gitInstall/share/sixte/instruments/athena-xifu/xifu_detector_lpa_75um_AR0.5_pixoffset_mux40_pitch275um_GSFC.xml LbT=0.01 filtEeV=5894.40 OFStrategy=FIXED OFLength=4096 preBuffer=1000\n",
      "####################################\n",
      "Reconstruction of Kas pulses finished\n",
      "####################################\n"
     ]
    }
   ],
   "source": [
    "#%%script false --no-raise-error\n",
    "#reconstruct Mn Kas events\n",
    "comm = (\"tesreconstruction Recordfile=\" + fileph_Kas + \" TesEventFile=\" + evtKas_libKas + \" PulseLength=\" + str(plen) +\n",
    "        \" LibraryFile=\" + libKas + \" samplesUp=\" + str(sU) + \" nSgms=\" + str(nS) + \" samplesDown=\" + str(sD) +\n",
    "        \" opmode=1 clobber=yes EnergyMethod=\" + method + \" XMLFile=\" + xmlfileSX + \" LbT=0.01\" + \n",
    "        \" filtEeV=\" + str(MnKas_cmass) + \" OFStrategy=FIXED OFLength=\" + str(oflen) + \" preBuffer=\" + str(preBuffer))\n",
    "mess = \"Reconstructing Kas data w/ library (Kas)\"\n",
    "run_comm(comm,msg=mess)\n",
    "print(\"####################################\")\n",
    "print(\"Reconstruction of Kas pulses finished\")\n",
    "print(\"####################################\")"
   ]
  },
  {
   "cell_type": "code",
   "execution_count": 15,
   "metadata": {},
   "outputs": [
    {
     "name": "stdout",
     "output_type": "stream",
     "text": [
      "Selecting HR evts\n",
      "fselect  infile=channel_5/evt_pulse_chan5_libKas_pL4096_OPTFILT4096_pB1000_filt_thS3.5.fits outfile=channel_5/evt_pulse_chan5_libKas_pL4096_OPTFILT4096_pB1000_filt_thS3.5_HR.fits expr='GRADE1 >= 4096 && GRADE2 > 500' clobber=yes\n"
     ]
    }
   ],
   "source": [
    "#%%script false --no-raise-error\n",
    "# select only HR events (ALL)\n",
    "comm = (\"fselect  infile=\" + evt_libKas + \" outfile=\" + evt_libKas_HR + \" expr='GRADE1 >= \" + str(min(plen,oflen)) + \n",
    "       \" && GRADE2 > 500' clobber=yes\")\n",
    "run_comm(comm, msg=\"Selecting HR evts\")"
   ]
  },
  {
   "cell_type": "code",
   "execution_count": 16,
   "metadata": {},
   "outputs": [
    {
     "name": "stdout",
     "output_type": "stream",
     "text": [
      "Selecting HR evts\n",
      "fselect  infile=channel_5/evtKas_pulse_chan5_libKas_pL4096_OPTFILT4096_pB1000_filt_thS3.5.fits outfile=channel_5/evtKas_pulse_chan5_libKas_pL4096_OPTFILT4096_pB1000_filt_thS3.5_HR.fits expr='GRADE1 >= 4096 && GRADE2 > 500' clobber=yes\n"
     ]
    }
   ],
   "source": [
    "#%%script false --no-raise-error\n",
    "# select only HR events (Mn Kas)\n",
    "comm = (\"fselect  infile=\" + evtKas_libKas + \" outfile=\" + evtKas_libKas_HR + \" expr='GRADE1 >= \" + str(min(plen,oflen)) + \n",
    "       \" && GRADE2 > 500' clobber=yes\")\n",
    "run_comm(comm, msg=\"Selecting HR evts\")"
   ]
  },
  {
   "cell_type": "markdown",
   "metadata": {},
   "source": [
    "## 1. Read reconstructed (ALL) events"
   ]
  },
  {
   "cell_type": "code",
   "execution_count": 17,
   "metadata": {},
   "outputs": [
    {
     "name": "stdout",
     "output_type": "stream",
     "text": [
      "FDUMPing evt file\n",
      "fdump wrap=yes infile=channel_5/evt_pulse_chan5_libKas_pL4096_OPTFILT4096_pB1000_filt_thS3.5_HR.fits+1 columns='SIGNAL, PH_ID, GRADE1, GRADE2, PHI, LAGS, BSLN' rows='-' prhead=no showcol=yes showunit=no showrow=no outfile=channel_5/pulse.txt clobber=yes pagewidth=256\n",
      "\n",
      "Number of initial (all energies) HR pulses: 45018\n",
      "\n",
      "Number of non-excluded events (all energies) HR pulses (after PHI selection): 45008\n",
      "\n",
      "Number of non-excluded events (all energies) HR pulses (after BSLN selection): 45006\n",
      "MinSIGNAL, MaxSIGNAL= 0.2376232451539499 12.89560871484251\n",
      "MinBSLN, MaxBSLN= 7746.215053763442 8112.046594982079\n"
     ]
    },
    {
     "data": {
      "text/html": [
       "<div>\n",
       "<style scoped>\n",
       "    .dataframe tbody tr th:only-of-type {\n",
       "        vertical-align: middle;\n",
       "    }\n",
       "\n",
       "    .dataframe tbody tr th {\n",
       "        vertical-align: top;\n",
       "    }\n",
       "\n",
       "    .dataframe thead th {\n",
       "        text-align: right;\n",
       "    }\n",
       "</style>\n",
       "<table border=\"1\" class=\"dataframe\">\n",
       "  <thead>\n",
       "    <tr style=\"text-align: right;\">\n",
       "      <th></th>\n",
       "      <th>SIGNAL</th>\n",
       "      <th>PH_ID</th>\n",
       "      <th>GRADE1</th>\n",
       "      <th>GRADE2</th>\n",
       "      <th>PHI</th>\n",
       "      <th>LAGS</th>\n",
       "      <th>BSLN</th>\n",
       "    </tr>\n",
       "  </thead>\n",
       "  <tbody>\n",
       "    <tr>\n",
       "      <th>0</th>\n",
       "      <td>5.902065</td>\n",
       "      <td>0</td>\n",
       "      <td>4096</td>\n",
       "      <td>4096</td>\n",
       "      <td>0.496958</td>\n",
       "      <td>0</td>\n",
       "      <td>7815.443932</td>\n",
       "    </tr>\n",
       "    <tr>\n",
       "      <th>1</th>\n",
       "      <td>6.360335</td>\n",
       "      <td>1</td>\n",
       "      <td>4096</td>\n",
       "      <td>4096</td>\n",
       "      <td>-0.198424</td>\n",
       "      <td>0</td>\n",
       "      <td>7816.058884</td>\n",
       "    </tr>\n",
       "    <tr>\n",
       "      <th>2</th>\n",
       "      <td>5.901323</td>\n",
       "      <td>2</td>\n",
       "      <td>4096</td>\n",
       "      <td>4096</td>\n",
       "      <td>0.036803</td>\n",
       "      <td>0</td>\n",
       "      <td>7813.750640</td>\n",
       "    </tr>\n",
       "    <tr>\n",
       "      <th>3</th>\n",
       "      <td>5.895881</td>\n",
       "      <td>3</td>\n",
       "      <td>4096</td>\n",
       "      <td>4096</td>\n",
       "      <td>0.020946</td>\n",
       "      <td>0</td>\n",
       "      <td>7816.303123</td>\n",
       "    </tr>\n",
       "    <tr>\n",
       "      <th>4</th>\n",
       "      <td>6.367134</td>\n",
       "      <td>4</td>\n",
       "      <td>4096</td>\n",
       "      <td>4096</td>\n",
       "      <td>0.379146</td>\n",
       "      <td>0</td>\n",
       "      <td>7814.694316</td>\n",
       "    </tr>\n",
       "    <tr>\n",
       "      <th>...</th>\n",
       "      <td>...</td>\n",
       "      <td>...</td>\n",
       "      <td>...</td>\n",
       "      <td>...</td>\n",
       "      <td>...</td>\n",
       "      <td>...</td>\n",
       "      <td>...</td>\n",
       "    </tr>\n",
       "    <tr>\n",
       "      <th>45013</th>\n",
       "      <td>5.895983</td>\n",
       "      <td>46870</td>\n",
       "      <td>4096</td>\n",
       "      <td>4096</td>\n",
       "      <td>-0.004100</td>\n",
       "      <td>0</td>\n",
       "      <td>7773.057860</td>\n",
       "    </tr>\n",
       "    <tr>\n",
       "      <th>45014</th>\n",
       "      <td>5.892729</td>\n",
       "      <td>46871</td>\n",
       "      <td>4096</td>\n",
       "      <td>4096</td>\n",
       "      <td>0.386678</td>\n",
       "      <td>0</td>\n",
       "      <td>7773.845366</td>\n",
       "    </tr>\n",
       "    <tr>\n",
       "      <th>45015</th>\n",
       "      <td>5.900808</td>\n",
       "      <td>46872</td>\n",
       "      <td>4096</td>\n",
       "      <td>4096</td>\n",
       "      <td>0.278368</td>\n",
       "      <td>0</td>\n",
       "      <td>7772.790579</td>\n",
       "    </tr>\n",
       "    <tr>\n",
       "      <th>45016</th>\n",
       "      <td>5.898329</td>\n",
       "      <td>46873</td>\n",
       "      <td>4096</td>\n",
       "      <td>4096</td>\n",
       "      <td>-0.425834</td>\n",
       "      <td>0</td>\n",
       "      <td>7774.009217</td>\n",
       "    </tr>\n",
       "    <tr>\n",
       "      <th>45017</th>\n",
       "      <td>5.762740</td>\n",
       "      <td>46874</td>\n",
       "      <td>4096</td>\n",
       "      <td>4096</td>\n",
       "      <td>-0.306360</td>\n",
       "      <td>0</td>\n",
       "      <td>7770.928315</td>\n",
       "    </tr>\n",
       "  </tbody>\n",
       "</table>\n",
       "<p>45006 rows × 7 columns</p>\n",
       "</div>"
      ],
      "text/plain": [
       "         SIGNAL  PH_ID  GRADE1  GRADE2       PHI  LAGS         BSLN\n",
       "0      5.902065      0    4096    4096  0.496958     0  7815.443932\n",
       "1      6.360335      1    4096    4096 -0.198424     0  7816.058884\n",
       "2      5.901323      2    4096    4096  0.036803     0  7813.750640\n",
       "3      5.895881      3    4096    4096  0.020946     0  7816.303123\n",
       "4      6.367134      4    4096    4096  0.379146     0  7814.694316\n",
       "...         ...    ...     ...     ...       ...   ...          ...\n",
       "45013  5.895983  46870    4096    4096 -0.004100     0  7773.057860\n",
       "45014  5.892729  46871    4096    4096  0.386678     0  7773.845366\n",
       "45015  5.900808  46872    4096    4096  0.278368     0  7772.790579\n",
       "45016  5.898329  46873    4096    4096 -0.425834     0  7774.009217\n",
       "45017  5.762740  46874    4096    4096 -0.306360     0  7770.928315\n",
       "\n",
       "[45006 rows x 7 columns]"
      ]
     },
     "metadata": {},
     "output_type": "display_data"
    }
   ],
   "source": [
    "pulseFile = resDir + \"/pulse.txt\"\n",
    "colname = \"'SIGNAL, PH_ID, GRADE1, GRADE2, PHI, LAGS, BSLN'\" \n",
    "comm = (\"fdump wrap=yes infile=\" + evt_libKas_HR + \"+1 columns=\" + colname + \" rows='-' prhead=no \" +\n",
    "        \"showcol=yes showunit=no showrow=no outfile=\" + pulseFile + \" clobber=yes pagewidth=256\")\n",
    "run_comm(comm, msg=\"FDUMPing evt file\")\n",
    "\n",
    "data_HR = pandas.read_csv(pulseFile, skiprows=0,sep=\"\\s+\")\n",
    "print(\"\\nNumber of initial (all energies) HR pulses:\", len(data_HR)) \n",
    "os.remove(pulseFile)\n",
    "#display(data_HR)\n",
    "\n",
    "# exclude events with PHI=0. It'll mean that there is a pulse (undetected) over the rise of another one\n",
    "data_HR = data_HR[(data_HR.PHI>0.) | (data_HR.PHI<0)]\n",
    "print(\"\\nNumber of non-excluded events (all energies) HR pulses (after PHI selection):\", len(data_HR)) \n",
    "\n",
    "# exclude high baseline events: they have a truncated pulse at the beginnig of the record\n",
    "data_HR = data_HR[(data_HR.BSLN<8325)]\n",
    "print(\"\\nNumber of non-excluded events (all energies) HR pulses (after BSLN selection):\", len(data_HR)) \n",
    "\n",
    "print(\"MinSIGNAL, MaxSIGNAL=\", min(data_HR.SIGNAL), max(data_HR.SIGNAL))\n",
    "print(\"MinBSLN, MaxBSLN=\", min(data_HR.BSLN), max(data_HR.BSLN))\n",
    "display(data_HR)\n"
   ]
  },
  {
   "cell_type": "markdown",
   "metadata": {},
   "source": [
    "### 1.1 Have a look to (ALL) events distribution and to variations with baseline and jitter"
   ]
  },
  {
   "cell_type": "code",
   "execution_count": 18,
   "metadata": {},
   "outputs": [],
   "source": [
    "# main lines in reconstructed PH units\n",
    "PHlines = dict()\n",
    "PHlines = {\"Sc-Ka\": (4.250,4.400),\n",
    "           \"Ti-Ka\": (4.675,4.750),\n",
    "           \"V-Ka\":  (5.050,5.125),\n",
    "           \"Cr-Ka\": (5.400,5.600),\n",
    "           \"Mn-Ka\": (5.860,5.920),\n",
    "           #\"Mn-Ka\": (5.875,5.910),\n",
    "           \"Fe-Ka\": (6.250,6.350),\n",
    "           \"Mn-Kb\": (6.340,6.400),\n",
    "           \"Co-Ka\": (6.630,6.800),\n",
    "           \"Ni-Ka\": (7.050,7.240),\n",
    "           \"Cu-Ka\": (7.520,7.600),\n",
    "           \"Zn-Ka\": (7.920,8.050),\n",
    "           \"Ge-Ka\": (8.750,8.860),\n",
    "           \"Br-Ka\": (9.970,10.190)\n",
    "          }\n"
   ]
  },
  {
   "cell_type": "code",
   "execution_count": 19,
   "metadata": {},
   "outputs": [
    {
     "data": {
      "application/vnd.jupyter.widget-view+json": {
       "model_id": "bfae19916b524024a99953bebbf8b5e2",
       "version_major": 2,
       "version_minor": 0
      },
      "text/plain": [
       "Canvas(toolbar=Toolbar(toolitems=[('Home', 'Reset original view', 'home', 'home'), ('Back', 'Back to previous …"
      ]
     },
     "metadata": {},
     "output_type": "display_data"
    },
    {
     "data": {
      "text/plain": [
       "(6340.0, 6400.0)"
      ]
     },
     "execution_count": 19,
     "metadata": {},
     "output_type": "execute_result"
    }
   ],
   "source": [
    "#%%script false --no-raise-error\n",
    "\n",
    "# Events PH distribution\n",
    "plt.close()\n",
    "fig = plt.figure(constrained_layout=True, figsize=(10,8))\n",
    "gs = GridSpec(2, 2, figure=fig)\n",
    "\n",
    "# Have a look to histogram of ALL reconstructed data\n",
    "ax1 = fig.add_subplot(gs[0, :])\n",
    "npulses = len(data_HR.SIGNAL)\n",
    "ax1.set_xlabel(\"Reconstructed PH (ma.u.)\")\n",
    "ax1.set_ylabel(\"#events\")\n",
    "ax1.set_title((\"Distribution of ALL events (\" + str(npulses) + \")\"))\n",
    "ax1.hist(1e3*data_HR.SIGNAL, bins=2000, density=False, label=\"Histogram\", alpha=0.5, log=True)\n",
    "ax1.set_xlim(2000,11000)\n",
    "for line in PHlines:\n",
    "    PHmin,PHmax = PHlines[line]\n",
    "    if line == \"Mn-Ka\":\n",
    "        ax1.text(1e3*PHmin, 4e3, line)\n",
    "    else:\n",
    "        ax1.text(1e3*PHmin, 3e3*random.uniform(0.1,0.7), line)\n",
    "\n",
    "# Have a look to histogram of Mn Kas\n",
    "ax2 = fig.add_subplot(gs[1, 0])\n",
    "minPH,maxPH = PHlines[\"Mn-Ka\"]\n",
    "npulses = len(data_HR[(data_HR.SIGNAL>minPH) & (data_HR.SIGNAL<maxPH)].SIGNAL)\n",
    "ax2.hist(1e3*data_HR[(data_HR.SIGNAL>minPH) & (data_HR.SIGNAL<maxPH)].SIGNAL, bins=100, density=False, label=\"Histogram\", alpha=0.5, color=\"tab:red\")\n",
    "ax2.set_xlabel(\"Reconstructed PH (a.u.)\")\n",
    "ax2.set_ylabel(\"# events\")\n",
    "ax2.set_title((\"Distribution of Mn Kas events (\" + str(npulses) + \")\"))\n",
    "ax2.set_xlim(1e3*minPH,1e3*maxPH)\n",
    "#ax3.set_xlim(8650,8900) # 0-pad 2048\n",
    "#ax3.set_xlim(9750,9900) # 0-pad 1024\n",
    "\n",
    "# Have a look to histogram of Kb\n",
    "ax3 = fig.add_subplot(gs[1, 1])\n",
    "(minPH,maxPH) = PHlines[\"Mn-Kb\"]\n",
    "#(minKb,maxKb) = (9.210, 9.310) # 0-pad 2048\n",
    "#(minKb,maxKb) = (10.275, 10.350) # 0-pad\n",
    "npulses = len(data_HR[(data_HR.SIGNAL>minPH) & (data_HR.SIGNAL<maxPH)].SIGNAL)\n",
    "ax3.hist(1e3*data_HR[(data_HR.SIGNAL>minPH) & (data_HR.SIGNAL<maxPH)].SIGNAL, bins=100, density=False, label=\"Histogram\", alpha=0.5, color=\"tab:red\")\n",
    "ax3.set_xlabel(\"Reconstructed PH (a.u.)\")\n",
    "ax3.set_ylabel(\"# events\")\n",
    "ax3.set_title((\"Distribution of Mn Kb events (\" + str(npulses) + \")\"))\n",
    "ax3.set_xlim(1e3*minPH,1e3*maxPH)\n",
    "#ax4.set_xlim(9210,9310) # 0-pad 2048\n",
    "#ax4.set_xlim(10275,10350) # 0-pad 1024\n",
    "\n"
   ]
  },
  {
   "cell_type": "code",
   "execution_count": 20,
   "metadata": {
    "collapsed": true,
    "jupyter": {
     "outputs_hidden": true
    }
   },
   "outputs": [
    {
     "data": {
      "application/vnd.jupyter.widget-view+json": {
       "model_id": "41d75df678d541bcb0e97a2b234c29ac",
       "version_major": 2,
       "version_minor": 0
      },
      "text/plain": [
       "Canvas(toolbar=Toolbar(toolitems=[('Home', 'Reset original view', 'home', 'home'), ('Back', 'Back to previous …"
      ]
     },
     "metadata": {},
     "output_type": "display_data"
    }
   ],
   "source": [
    "fig = plt.figure(figsize=(10,10))\n",
    "i = 0\n",
    "for line in PHlines:\n",
    "    i+=1\n",
    "    color=\"C\"+str(i)\n",
    "    #print(\"Plotting line=\", PHlines[line])\n",
    "    PHmin,PHmax = PHlines[line]\n",
    "    npulses = len(data_HR[(data_HR.SIGNAL>PHmin) & (data_HR.SIGNAL<PHmax)].SIGNAL)\n",
    "    ax = fig.add_subplot(4, 4, i)\n",
    "    dataLine = data_HR[(data_HR.SIGNAL>PHmin) & (data_HR.SIGNAL<PHmax)].SIGNAL\n",
    "    ax.hist(1e3*dataLine, bins=80, density=False, alpha=0.5, color=color, label=line)\n",
    "    ax.set_xlabel(\"Reconstructed PH (a.u.)\")\n",
    "    ax.set_ylabel(\"# events\")\n",
    "    ax.set_xlim(1e3*PHmin,1e3*PHmax)\n",
    "    ax.legend()\n",
    "\n",
    "fig.tight_layout()\n"
   ]
  },
  {
   "cell_type": "code",
   "execution_count": 21,
   "metadata": {
    "collapsed": true,
    "jupyter": {
     "outputs_hidden": true,
     "source_hidden": true
    }
   },
   "outputs": [
    {
     "data": {
      "application/vnd.jupyter.widget-view+json": {
       "model_id": "9333393860ba442ea8c95326929873ca",
       "version_major": 2,
       "version_minor": 0
      },
      "text/plain": [
       "Canvas(toolbar=Toolbar(toolitems=[('Home', 'Reset original view', 'home', 'home'), ('Back', 'Back to previous …"
      ]
     },
     "metadata": {},
     "output_type": "display_data"
    }
   ],
   "source": [
    "# plot jitters\n",
    "plt.close()\n",
    "phase_HR = data_HR.PHI + data_HR.LAGS\n",
    "base_HR = data_HR.BSLN\n",
    "\n",
    "fig = plt.figure(figsize=(11,10))\n",
    "i = 0\n",
    "for line in PHlines:\n",
    "    i+=1\n",
    "    #print(\"Plotting line=\", PHlines[line])\n",
    "    PHmin,PHmax = PHlines[line]\n",
    "    dataLine = data_HR[(data_HR.SIGNAL>PHmin) & (data_HR.SIGNAL<PHmax)]\n",
    "    dataLine_norm = dataLine.SIGNAL/(np.median(dataLine.SIGNAL))\n",
    "    phase_HR = dataLine.PHI + dataLine.LAGS\n",
    "    phase_HR = dataLine.PHI \n",
    "    ax1 = fig.add_subplot(4, 4, i)\n",
    "    ax1.set_xlabel(\"Phase (samples)\")\n",
    "    ax1.set_ylabel(\"Reconstructed PH (a.u.)\")\n",
    "    title = \"Distribution of \" + line + \" events\"\n",
    "    ax1.set_title(title)\n",
    "    ax1.scatter(phase_HR, dataLine_norm, alpha=0.5,s=5)\n",
    "    #ax1.scatter(phase_HR, dataLine.LAGS, alpha=0.5)\n",
    "\n",
    "fig.tight_layout()"
   ]
  },
  {
   "cell_type": "code",
   "execution_count": 22,
   "metadata": {
    "collapsed": true,
    "jupyter": {
     "outputs_hidden": true,
     "source_hidden": true
    }
   },
   "outputs": [
    {
     "data": {
      "application/vnd.jupyter.widget-view+json": {
       "model_id": "b1b830e5c75f444b901e72c88d22f266",
       "version_major": 2,
       "version_minor": 0
      },
      "text/plain": [
       "Canvas(toolbar=Toolbar(toolitems=[('Home', 'Reset original view', 'home', 'home'), ('Back', 'Back to previous …"
      ]
     },
     "metadata": {},
     "output_type": "display_data"
    }
   ],
   "source": [
    "# Jitter and baseline distribution\n",
    "plt.close()\n",
    "phase_HR = data_HR.PHI + data_HR.LAGS\n",
    "base_HR = data_HR.BSLN\n",
    "\n",
    "fig = plt.figure(figsize=(10,4))\n",
    "ax1 = fig.add_subplot(1, 2, 1)\n",
    "ax1.set_xlabel(\"Phase (samples)\")\n",
    "ax1.set_ylabel(\"Reconstructed PH (a.u.)\")\n",
    "ax1.set_title(\"Distribution of ALL events\")\n",
    "ax1.scatter(phase_HR, data_HR.SIGNAL, alpha=0.5)\n",
    "\n",
    "ax2 = fig.add_subplot(1, 2, 2)\n",
    "ax2.set_xlabel(\"Baseline (ADC a.u.)\")\n",
    "ax2.set_ylabel(\"Reconstructed PH (a.u.)\")\n",
    "ax2.set_title(\"Distribution of ALL events\")\n",
    "ax2.scatter(base_HR, data_HR.SIGNAL, alpha=0.1)\n",
    "fig.tight_layout()"
   ]
  },
  {
   "cell_type": "markdown",
   "metadata": {},
   "source": [
    "# STUDY Mn K complex "
   ]
  },
  {
   "cell_type": "markdown",
   "metadata": {},
   "source": [
    "## 1. Read reconstructed (Kas) events"
   ]
  },
  {
   "cell_type": "code",
   "execution_count": 23,
   "metadata": {},
   "outputs": [
    {
     "name": "stdout",
     "output_type": "stream",
     "text": [
      "FDUMPing evt file\n",
      "fdump wrap=yes infile=channel_5/evtKas_pulse_chan5_libKas_pL4096_OPTFILT4096_pB1000_filt_thS3.5_HR.fits+1 columns='TIME,SIGNAL, PH_ID, GRADE1, GRADE2, PHI, LAGS, BSLN' rows='-' prhead=no showcol=yes showunit=no showrow=no outfile=channel_5/pulse.txt clobber=yes pagewidth=256\n",
      "\n",
      "Number of initial (all energies) HR pulses: 45006\n"
     ]
    },
    {
     "data": {
      "text/html": [
       "<div>\n",
       "<style scoped>\n",
       "    .dataframe tbody tr th:only-of-type {\n",
       "        vertical-align: middle;\n",
       "    }\n",
       "\n",
       "    .dataframe tbody tr th {\n",
       "        vertical-align: top;\n",
       "    }\n",
       "\n",
       "    .dataframe thead th {\n",
       "        text-align: right;\n",
       "    }\n",
       "</style>\n",
       "<table border=\"1\" class=\"dataframe\">\n",
       "  <thead>\n",
       "    <tr style=\"text-align: right;\">\n",
       "      <th></th>\n",
       "      <th>TIME</th>\n",
       "      <th>SIGNAL</th>\n",
       "      <th>PH_ID</th>\n",
       "      <th>GRADE1</th>\n",
       "      <th>GRADE2</th>\n",
       "      <th>PHI</th>\n",
       "      <th>LAGS</th>\n",
       "      <th>BSLN</th>\n",
       "    </tr>\n",
       "  </thead>\n",
       "  <tbody>\n",
       "    <tr>\n",
       "      <th>0</th>\n",
       "      <td>1.578693e+09</td>\n",
       "      <td>5.902065</td>\n",
       "      <td>0</td>\n",
       "      <td>4096</td>\n",
       "      <td>4096</td>\n",
       "      <td>0.496958</td>\n",
       "      <td>0</td>\n",
       "      <td>7815.443932</td>\n",
       "    </tr>\n",
       "    <tr>\n",
       "      <th>1</th>\n",
       "      <td>1.578693e+09</td>\n",
       "      <td>5.901323</td>\n",
       "      <td>2</td>\n",
       "      <td>4096</td>\n",
       "      <td>4096</td>\n",
       "      <td>0.036803</td>\n",
       "      <td>0</td>\n",
       "      <td>7813.750640</td>\n",
       "    </tr>\n",
       "    <tr>\n",
       "      <th>2</th>\n",
       "      <td>1.578693e+09</td>\n",
       "      <td>5.895881</td>\n",
       "      <td>3</td>\n",
       "      <td>4096</td>\n",
       "      <td>4096</td>\n",
       "      <td>0.020946</td>\n",
       "      <td>0</td>\n",
       "      <td>7816.303123</td>\n",
       "    </tr>\n",
       "    <tr>\n",
       "      <th>3</th>\n",
       "      <td>1.578693e+09</td>\n",
       "      <td>5.896215</td>\n",
       "      <td>7</td>\n",
       "      <td>4096</td>\n",
       "      <td>4096</td>\n",
       "      <td>0.190314</td>\n",
       "      <td>0</td>\n",
       "      <td>7814.715310</td>\n",
       "    </tr>\n",
       "    <tr>\n",
       "      <th>4</th>\n",
       "      <td>1.578693e+09</td>\n",
       "      <td>5.904349</td>\n",
       "      <td>8</td>\n",
       "      <td>4096</td>\n",
       "      <td>4096</td>\n",
       "      <td>0.277119</td>\n",
       "      <td>0</td>\n",
       "      <td>7814.933948</td>\n",
       "    </tr>\n",
       "    <tr>\n",
       "      <th>...</th>\n",
       "      <td>...</td>\n",
       "      <td>...</td>\n",
       "      <td>...</td>\n",
       "      <td>...</td>\n",
       "      <td>...</td>\n",
       "      <td>...</td>\n",
       "      <td>...</td>\n",
       "      <td>...</td>\n",
       "    </tr>\n",
       "    <tr>\n",
       "      <th>9639</th>\n",
       "      <td>1.578743e+09</td>\n",
       "      <td>5.890862</td>\n",
       "      <td>46869</td>\n",
       "      <td>4096</td>\n",
       "      <td>4096</td>\n",
       "      <td>0.402707</td>\n",
       "      <td>0</td>\n",
       "      <td>7769.918587</td>\n",
       "    </tr>\n",
       "    <tr>\n",
       "      <th>9640</th>\n",
       "      <td>1.578743e+09</td>\n",
       "      <td>5.895983</td>\n",
       "      <td>46870</td>\n",
       "      <td>4096</td>\n",
       "      <td>4096</td>\n",
       "      <td>-0.004100</td>\n",
       "      <td>0</td>\n",
       "      <td>7773.057860</td>\n",
       "    </tr>\n",
       "    <tr>\n",
       "      <th>9641</th>\n",
       "      <td>1.578743e+09</td>\n",
       "      <td>5.892729</td>\n",
       "      <td>46871</td>\n",
       "      <td>4096</td>\n",
       "      <td>4096</td>\n",
       "      <td>0.386678</td>\n",
       "      <td>0</td>\n",
       "      <td>7773.845366</td>\n",
       "    </tr>\n",
       "    <tr>\n",
       "      <th>9642</th>\n",
       "      <td>1.578743e+09</td>\n",
       "      <td>5.900808</td>\n",
       "      <td>46872</td>\n",
       "      <td>4096</td>\n",
       "      <td>4096</td>\n",
       "      <td>0.278368</td>\n",
       "      <td>0</td>\n",
       "      <td>7772.790579</td>\n",
       "    </tr>\n",
       "    <tr>\n",
       "      <th>9643</th>\n",
       "      <td>1.578743e+09</td>\n",
       "      <td>5.898329</td>\n",
       "      <td>46873</td>\n",
       "      <td>4096</td>\n",
       "      <td>4096</td>\n",
       "      <td>-0.425834</td>\n",
       "      <td>0</td>\n",
       "      <td>7774.009217</td>\n",
       "    </tr>\n",
       "  </tbody>\n",
       "</table>\n",
       "<p>9644 rows × 8 columns</p>\n",
       "</div>"
      ],
      "text/plain": [
       "              TIME    SIGNAL  PH_ID  GRADE1  GRADE2       PHI  LAGS  \\\n",
       "0     1.578693e+09  5.902065      0    4096    4096  0.496958     0   \n",
       "1     1.578693e+09  5.901323      2    4096    4096  0.036803     0   \n",
       "2     1.578693e+09  5.895881      3    4096    4096  0.020946     0   \n",
       "3     1.578693e+09  5.896215      7    4096    4096  0.190314     0   \n",
       "4     1.578693e+09  5.904349      8    4096    4096  0.277119     0   \n",
       "...            ...       ...    ...     ...     ...       ...   ...   \n",
       "9639  1.578743e+09  5.890862  46869    4096    4096  0.402707     0   \n",
       "9640  1.578743e+09  5.895983  46870    4096    4096 -0.004100     0   \n",
       "9641  1.578743e+09  5.892729  46871    4096    4096  0.386678     0   \n",
       "9642  1.578743e+09  5.900808  46872    4096    4096  0.278368     0   \n",
       "9643  1.578743e+09  5.898329  46873    4096    4096 -0.425834     0   \n",
       "\n",
       "             BSLN  \n",
       "0     7815.443932  \n",
       "1     7813.750640  \n",
       "2     7816.303123  \n",
       "3     7814.715310  \n",
       "4     7814.933948  \n",
       "...           ...  \n",
       "9639  7769.918587  \n",
       "9640  7773.057860  \n",
       "9641  7773.845366  \n",
       "9642  7772.790579  \n",
       "9643  7774.009217  \n",
       "\n",
       "[9644 rows x 8 columns]"
      ]
     },
     "metadata": {},
     "output_type": "display_data"
    }
   ],
   "source": [
    "pulseFile = resDir + \"/pulse.txt\"\n",
    "colname = \"'TIME,SIGNAL, PH_ID, GRADE1, GRADE2, PHI, LAGS, BSLN'\" \n",
    "comm = (\"fdump wrap=yes infile=\" + evtKas_libKas_HR + \"+1 columns=\" + colname + \" rows='-' prhead=no \" +\n",
    "        \"showcol=yes showunit=no showrow=no outfile=\" + pulseFile + \" clobber=yes pagewidth=256\")\n",
    "\n",
    "run_comm(comm, msg=\"FDUMPing evt file\")\n",
    "\n",
    "dataKas_HR = pandas.read_csv(pulseFile, skiprows=0,sep=\"\\s+\")\n",
    "print(\"\\nNumber of initial (all energies) HR pulses:\", len(data_HR)) \n",
    "os.remove(pulseFile)\n",
    "if len(dataKas_HR[dataKas_HR.PHI == 0.].PHI >0):\n",
    "    print(\"Warning: some dataKas have PHI==0. => double undetected pulse?\")\n",
    "\n",
    "display(dataKas_HR)\n"
   ]
  },
  {
   "cell_type": "markdown",
   "metadata": {},
   "source": [
    "## 0. Remove XT from files in same TDM column"
   ]
  },
  {
   "cell_type": "code",
   "execution_count": 24,
   "metadata": {},
   "outputs": [],
   "source": [
    "sepTH = plen/samprate #(s)\n",
    "t1 = preBuffer/samprate #(s) before pulse\n",
    "t2 = (plen-preBuffer)/samprate #(s) after pulse\n",
    "time_window = [t1, t2]\n",
    "dataKas_noXT = dataKas_HR.copy() # inititalize non-XT events"
   ]
  },
  {
   "cell_type": "code",
   "execution_count": 25,
   "metadata": {},
   "outputs": [
    {
     "name": "stdout",
     "output_type": "stream",
     "text": [
      "Starting with 9644 events in channel 5\n",
      "Analysing events in channel 1\n",
      "Removed 302 photons from channel 5  which have channel- 1 XT photons in pulse length\n",
      "Analysing events in channel 3\n",
      "Removed 134 photons from channel 5  which have channel- 3 XT photons in pulse length\n",
      "Analysing events in channel 5\n",
      "Analysing events in channel 7\n",
      "Analysing events in channel 9\n",
      "Removed 292 photons from channel 5  which have channel- 9 XT photons in pulse length\n",
      "Analysing events in channel 11\n",
      "Removed 274 photons from channel 5  which have channel- 11 XT photons in pulse length\n",
      "Analysing events in channel 13\n",
      "Removed 214 photons from channel 5  which have channel- 13 XT photons in pulse length\n",
      "Analysing events in channel 15\n",
      "Removed 268 photons from channel 5  which have channel- 15 XT photons in pulse length\n",
      "Analysing events in channel 17\n",
      "Analysing events in channel 19\n"
     ]
    }
   ],
   "source": [
    "print(\"Starting with\", len(dataKas_noXT.TIME), \"events in channel\", channel)\n",
    "for ich in channels:\n",
    "    print (\"Analysing events in channel\", ich)\n",
    "    if ich==channel:\n",
    "        continue\n",
    "    fileXT = \"evt_pulse_chan\" + str(ich) + \".fits\" #Full events file in channel ich\n",
    "    f = fits.open(fileXT)\n",
    "    TIMExt = f[\"EVENTS\"].data['TIME']\n",
    "    PHIDxt = f[\"EVENTS\"].data['PH_ID']\n",
    "    f.close()\n",
    "    # look for events in fileXT synchronous with evts in fileph_Kas    \n",
    "    \n",
    "    xt0 = len(dataKas_noXT.TIME)\n",
    "    for i in range(len(TIMExt)):\n",
    "        #dataKas_noXT = dataKas_noXT[(abs(dataKas_noXT.TIME-TIMExt[i])>sepTH)]\n",
    "        dataKas_noXT = dataKas_noXT[((dataKas_noXT.TIME-TIMExt[i])>t1) | \n",
    "                                   ((TIMExt[i]-dataKas_noXT.TIME)>t2)]\n",
    "        #dataKas_XT = dataKas_HR[(abs(dataKas_HR.TIME-TIMExt[i])<sepTH)]\n",
    "        #if len(dataKas_XT.TIME >0):\n",
    "        #    display(dataKas_HR[(abs(dataKas_HR.TIME-TIMExt[i])<sepTH)])\n",
    "        #time_dist = np.abs(np.array(dataKas_HR.TIME)-TIMExt[i])\n",
    "        #idx_close = np.argwhere(time_dist < sepTH)[:,0]\n",
    "        #if len(idx_close)>0:\n",
    "        #    print(\"XT photon\", i, \"in channel\", ich, \"is very close to Kas photon(s) in df row:\",idx_close)\n",
    "    xt1 = len(dataKas_noXT.TIME)    \n",
    "    if xt1 < xt0:\n",
    "        diff=xt0-xt1\n",
    "        print(\"Removed\",diff,\"photons from channel\",channel,\" which have channel-\",ich,\"XT photons in pulse length\")\n",
    "        "
   ]
  },
  {
   "cell_type": "code",
   "execution_count": 26,
   "metadata": {},
   "outputs": [
    {
     "name": "stdout",
     "output_type": "stream",
     "text": [
      "Removed 1484 photons from channel 5 list. Ramining photons: 8160\n"
     ]
    },
    {
     "data": {
      "text/html": [
       "<div>\n",
       "<style scoped>\n",
       "    .dataframe tbody tr th:only-of-type {\n",
       "        vertical-align: middle;\n",
       "    }\n",
       "\n",
       "    .dataframe tbody tr th {\n",
       "        vertical-align: top;\n",
       "    }\n",
       "\n",
       "    .dataframe thead th {\n",
       "        text-align: right;\n",
       "    }\n",
       "</style>\n",
       "<table border=\"1\" class=\"dataframe\">\n",
       "  <thead>\n",
       "    <tr style=\"text-align: right;\">\n",
       "      <th></th>\n",
       "      <th>TIME</th>\n",
       "      <th>SIGNAL</th>\n",
       "      <th>PH_ID</th>\n",
       "      <th>GRADE1</th>\n",
       "      <th>GRADE2</th>\n",
       "      <th>PHI</th>\n",
       "      <th>LAGS</th>\n",
       "      <th>BSLN</th>\n",
       "    </tr>\n",
       "  </thead>\n",
       "  <tbody>\n",
       "    <tr>\n",
       "      <th>756</th>\n",
       "      <td>1.578694e+09</td>\n",
       "      <td>5.903252</td>\n",
       "      <td>1092</td>\n",
       "      <td>4096</td>\n",
       "      <td>4096</td>\n",
       "      <td>0.460095</td>\n",
       "      <td>0</td>\n",
       "      <td>7795.97491</td>\n",
       "    </tr>\n",
       "  </tbody>\n",
       "</table>\n",
       "</div>"
      ],
      "text/plain": [
       "             TIME    SIGNAL  PH_ID  GRADE1  GRADE2       PHI  LAGS        BSLN\n",
       "756  1.578694e+09  5.903252   1092    4096    4096  0.460095     0  7795.97491"
      ]
     },
     "execution_count": 26,
     "metadata": {},
     "output_type": "execute_result"
    }
   ],
   "source": [
    "rem = len(dataKas_HR.TIME) - len(dataKas_noXT.TIME)\n",
    "print(\"Removed\", rem, \"photons from channel\", channel, \"list. Ramining photons:\", len(dataKas_noXT.TIME))\n",
    "#display(dataKas_noXT)\n",
    "dataKas_noXT[650:651]"
   ]
  },
  {
   "cell_type": "code",
   "execution_count": 27,
   "metadata": {},
   "outputs": [
    {
     "data": {
      "text/html": [
       "<div>\n",
       "<style scoped>\n",
       "    .dataframe tbody tr th:only-of-type {\n",
       "        vertical-align: middle;\n",
       "    }\n",
       "\n",
       "    .dataframe tbody tr th {\n",
       "        vertical-align: top;\n",
       "    }\n",
       "\n",
       "    .dataframe thead th {\n",
       "        text-align: right;\n",
       "    }\n",
       "</style>\n",
       "<table border=\"1\" class=\"dataframe\">\n",
       "  <thead>\n",
       "    <tr style=\"text-align: right;\">\n",
       "      <th></th>\n",
       "      <th>TIME</th>\n",
       "      <th>SIGNAL</th>\n",
       "      <th>PH_ID</th>\n",
       "      <th>GRADE1</th>\n",
       "      <th>GRADE2</th>\n",
       "      <th>PHI</th>\n",
       "      <th>LAGS</th>\n",
       "      <th>BSLN</th>\n",
       "    </tr>\n",
       "  </thead>\n",
       "  <tbody>\n",
       "    <tr>\n",
       "      <th>650</th>\n",
       "      <td>1.578694e+09</td>\n",
       "      <td>5.904641</td>\n",
       "      <td>951</td>\n",
       "      <td>4096</td>\n",
       "      <td>4096</td>\n",
       "      <td>-0.007028</td>\n",
       "      <td>0</td>\n",
       "      <td>7800.628264</td>\n",
       "    </tr>\n",
       "    <tr>\n",
       "      <th>651</th>\n",
       "      <td>1.578694e+09</td>\n",
       "      <td>5.893541</td>\n",
       "      <td>952</td>\n",
       "      <td>4096</td>\n",
       "      <td>4096</td>\n",
       "      <td>0.428414</td>\n",
       "      <td>0</td>\n",
       "      <td>7797.896057</td>\n",
       "    </tr>\n",
       "    <tr>\n",
       "      <th>652</th>\n",
       "      <td>1.578694e+09</td>\n",
       "      <td>5.900550</td>\n",
       "      <td>954</td>\n",
       "      <td>4096</td>\n",
       "      <td>4096</td>\n",
       "      <td>0.470910</td>\n",
       "      <td>0</td>\n",
       "      <td>7800.316948</td>\n",
       "    </tr>\n",
       "    <tr>\n",
       "      <th>653</th>\n",
       "      <td>1.578694e+09</td>\n",
       "      <td>5.901136</td>\n",
       "      <td>956</td>\n",
       "      <td>4096</td>\n",
       "      <td>4096</td>\n",
       "      <td>-0.381722</td>\n",
       "      <td>0</td>\n",
       "      <td>7800.306196</td>\n",
       "    </tr>\n",
       "    <tr>\n",
       "      <th>654</th>\n",
       "      <td>1.578694e+09</td>\n",
       "      <td>5.895271</td>\n",
       "      <td>957</td>\n",
       "      <td>4096</td>\n",
       "      <td>4096</td>\n",
       "      <td>0.308215</td>\n",
       "      <td>0</td>\n",
       "      <td>7797.491551</td>\n",
       "    </tr>\n",
       "  </tbody>\n",
       "</table>\n",
       "</div>"
      ],
      "text/plain": [
       "             TIME    SIGNAL  PH_ID  GRADE1  GRADE2       PHI  LAGS  \\\n",
       "650  1.578694e+09  5.904641    951    4096    4096 -0.007028     0   \n",
       "651  1.578694e+09  5.893541    952    4096    4096  0.428414     0   \n",
       "652  1.578694e+09  5.900550    954    4096    4096  0.470910     0   \n",
       "653  1.578694e+09  5.901136    956    4096    4096 -0.381722     0   \n",
       "654  1.578694e+09  5.895271    957    4096    4096  0.308215     0   \n",
       "\n",
       "            BSLN  \n",
       "650  7800.628264  \n",
       "651  7797.896057  \n",
       "652  7800.316948  \n",
       "653  7800.306196  \n",
       "654  7797.491551  "
      ]
     },
     "execution_count": 27,
     "metadata": {},
     "output_type": "execute_result"
    }
   ],
   "source": [
    "dataKas_HR[650:655]"
   ]
  },
  {
   "cell_type": "code",
   "execution_count": 28,
   "metadata": {},
   "outputs": [],
   "source": [
    "noXT_PHID=dataKas_noXT.PH_ID"
   ]
  },
  {
   "cell_type": "markdown",
   "metadata": {},
   "source": [
    "## 2. Jitter correction"
   ]
  },
  {
   "cell_type": "markdown",
   "metadata": {},
   "source": [
    "### 2.1 Plot Pulse Height vs PHASE (distance between trigger and parabola fit = PHI + LAGS) & fit polynomial"
   ]
  },
  {
   "cell_type": "code",
   "execution_count": 29,
   "metadata": {},
   "outputs": [
    {
     "data": {
      "application/vnd.jupyter.widget-view+json": {
       "model_id": "8a4a1eeb5bc14c1e81ab47936ce742b3",
       "version_major": 2,
       "version_minor": 0
      },
      "text/plain": [
       "Canvas(toolbar=Toolbar(toolitems=[('Home', 'Reset original view', 'home', 'home'), ('Back', 'Back to previous …"
      ]
     },
     "metadata": {},
     "output_type": "display_data"
    },
    {
     "name": "stdout",
     "output_type": "stream",
     "text": [
      "Number of pulses in dataKas_HR:  9644\n",
      "Fit Y=5.894e+00+ (-2.990e-04)*x**1+ (4.462e-03)*x**2\n",
      "Fit Y corrected=5.894e+00+ (1.661e-15)*x**1+ (-1.315e-16)*x**2\n",
      "\n",
      "Number of pulses in dataKb_HR:  1563\n",
      "Fit Y=6.364e+00+ (-1.797e-03)*x**1+ (7.610e-03)*x**2\n",
      "Fit Y corrected=6.364e+00+ (3.965e-15)*x**1+ (1.536e-15)*x**2\n"
     ]
    }
   ],
   "source": [
    "plt.close()\n",
    "fig = plt.figure(figsize=(9, 7))\n",
    "ax1 = fig.add_subplot(2,2,1)\n",
    "ax2 = fig.add_subplot(2,2,2)\n",
    "ax3 = fig.add_subplot(2,2,3)\n",
    "ax4 = fig.add_subplot(2,2,4)\n",
    "# 4096\n",
    "PHminKas, PHmaxKas = PHlines[\"Mn-Ka\"] \n",
    "PHminKb, PHmaxKb = PHlines[\"Mn-Kb\"]\n",
    "\n",
    "# dataKas_HR already read above\n",
    "dataKb_HR = data_HR[(data_HR.SIGNAL>PHminKb) & (data_HR.SIGNAL<PHmaxKb)]\n",
    "\n",
    "print(\"Number of pulses in dataKas_HR: \", len(dataKas_HR))\n",
    "#phaseKas_HR = dataKas_HR.PHI + dataKas_HR.LAGS\n",
    "phaseKas_HR = dataKas_noXT.PHI + dataKas_noXT.LAGS\n",
    "#dataKas_HR_jitter = applyCorr(ydata=dataKas_HR.SIGNAL, xdata=phaseKas_HR, ax0=ax1, ax1=ax2, alpha=0.5)\n",
    "dataKas_HR_jitter = applyCorr(ydata=dataKas_noXT.SIGNAL, xdata=phaseKas_HR, ax0=ax1, ax1=ax2, alpha=0.5)\n",
    "ax1.set_xlabel(\"Phase (samples)\")\n",
    "ax1.set_ylabel(\"PH (a.u.)\")\n",
    "ax2.set_xlabel(\"Phase (samples)\")\n",
    "ax2.set_ylabel(\"Corrected PH (a.u.)\")\n",
    "\n",
    "print(\"\\nNumber of pulses in dataKb_HR: \", len(dataKb_HR))\n",
    "phaseKb_HR = dataKb_HR.PHI + dataKb_HR.LAGS\n",
    "dataKb_HR_jitter = applyCorr(ydata=dataKb_HR.SIGNAL, xdata=phaseKb_HR, ax0=ax3, ax1=ax4, alpha=0.5)\n",
    "ax3.set_xlabel(\"Phase (samples)\")\n",
    "ax3.set_ylabel(\"PH (a.u.)\")\n",
    "ax4.set_xlabel(\"Phase (samples)\")\n",
    "ax4.set_ylabel(\"Corrected PH (a.u.)\")\n",
    "\n",
    "fig.tight_layout()"
   ]
  },
  {
   "cell_type": "markdown",
   "metadata": {},
   "source": [
    "## 3. Baseline correction"
   ]
  },
  {
   "cell_type": "markdown",
   "metadata": {},
   "source": [
    "### Plot jiterr_recon PH vs Baseline & Fit polynomial\n"
   ]
  },
  {
   "cell_type": "code",
   "execution_count": 30,
   "metadata": {},
   "outputs": [
    {
     "data": {
      "application/vnd.jupyter.widget-view+json": {
       "model_id": "d13c1fcf49c54a2fb3695f9ef6a99384",
       "version_major": 2,
       "version_minor": 0
      },
      "text/plain": [
       "Canvas(toolbar=Toolbar(toolitems=[('Home', 'Reset original view', 'home', 'home'), ('Back', 'Back to previous …"
      ]
     },
     "metadata": {},
     "output_type": "display_data"
    },
    {
     "name": "stdout",
     "output_type": "stream",
     "text": [
      "Mn Kas\n",
      "Fit Y=2.012e+02+ (-5.026e-02)*x**1+ (3.234e-06)*x**2\n",
      "Fit Y corrected=5.896e+00+ (1.360e-12)*x**1+ (-8.750e-17)*x**2\n",
      "\n",
      "Mn Kb\n"
     ]
    },
    {
     "data": {
      "application/vnd.jupyter.widget-view+json": {
       "model_id": "f1470e23d2ad4654a30d69ff90f8860c",
       "version_major": 2,
       "version_minor": 0
      },
      "text/plain": [
       "Canvas(toolbar=Toolbar(toolitems=[('Home', 'Reset original view', 'home', 'home'), ('Back', 'Back to previous …"
      ]
     },
     "metadata": {},
     "output_type": "display_data"
    },
    {
     "name": "stdout",
     "output_type": "stream",
     "text": [
      "Fit Y=2.198e+02+ (-5.495e-02)*x**1+ (3.536e-06)*x**2\n",
      "Fit Y corrected=6.367e+00+ (2.951e-12)*x**1+ (-1.898e-16)*x**2\n"
     ]
    }
   ],
   "source": [
    "plt.close()\n",
    "fig = plt.figure(figsize=(9, 4))\n",
    "ax0 = fig.add_subplot(1,2,1)\n",
    "ax1 = fig.add_subplot(1,2,2)\n",
    "\n",
    "print(\"Mn Kas\")\n",
    "#baseKas_HR = dataKas_HR.BSLN\n",
    "baseKas_HR = dataKas_noXT.BSLN\n",
    "dataKas_HR_jitter_bsln = applyCorr(ydata=dataKas_HR_jitter, xdata=baseKas_HR, ax0=ax0, ax1=ax1, alpha=0.5)\n",
    "ax0.set_xlabel(\"Renormalized Baseline (ADC a.u.)\")\n",
    "ax0.set_ylabel(\"PH of events (a.u.)\")\n",
    "ax1.set_xlabel(\"Renormalized Baseline (ADC a.u.)\")\n",
    "ax1.set_ylabel(\"Corrected PH of events (a.u.)\")\n",
    "annotes = dataKas_HR.PH_ID\n",
    "af =  AnnoteFinder(baseKas_HR,dataKas_HR_jitter, annotes, ax=ax0)\n",
    "fig.canvas.mpl_connect('button_press_event', af)\n",
    "fig.tight_layout()\n",
    "\n",
    "print(\"\\nMn Kb\")\n",
    "fig = plt.figure(figsize=(9, 4))\n",
    "ax0 = fig.add_subplot(1,2,1)\n",
    "ax1 = fig.add_subplot(1,2,2)\n",
    "baseKb_HR = dataKb_HR.BSLN\n",
    "dataKb_HR_jitter_bsln = applyCorr(ydata=dataKb_HR_jitter, xdata=baseKb_HR, ax0=ax0, ax1=ax1 , alpha=0.5)\n",
    "ax0.set_xlabel(\"Renormalized Baseline (ADC a.u.)\")\n",
    "ax0.set_ylabel(\"PH of events (a.u.)\")\n",
    "ax1.set_xlabel(\"Renormalized Baseline (ADC a.u.)\")\n",
    "ax1.set_ylabel(\"Corrected PH of events (a.u.)\")\n",
    "annotes = dataKb_HR.PH_ID\n",
    "af =  AnnoteFinder(baseKb_HR,dataKb_HR_jitter, annotes, ax=ax0)\n",
    "fig.canvas.mpl_connect('button_press_event', af)\n",
    "fig.tight_layout()"
   ]
  },
  {
   "cell_type": "markdown",
   "metadata": {},
   "source": [
    "## 4. Drift correction"
   ]
  },
  {
   "cell_type": "code",
   "execution_count": 31,
   "metadata": {},
   "outputs": [
    {
     "data": {
      "application/vnd.jupyter.widget-view+json": {
       "model_id": "b4e28b4219b34dbaba4cf8da481b466b",
       "version_major": 2,
       "version_minor": 0
      },
      "text/plain": [
       "Canvas(toolbar=Toolbar(toolitems=[('Home', 'Reset original view', 'home', 'home'), ('Back', 'Back to previous …"
      ]
     },
     "metadata": {},
     "output_type": "display_data"
    },
    {
     "name": "stdout",
     "output_type": "stream",
     "text": [
      "Fit Y=-7.230e+03+ (4.583e-06)*x**1\n",
      "Fit Y corrected=5.898e+00+ (-2.763e-16)*x**1\n",
      "Fit Y=3.525e+03+ (-2.229e-06)*x**1\n",
      "Fit Y corrected=5.897e+00+ (6.982e-16)*x**1\n",
      "Fit Y=-2.885e+01+ (2.201e-08)*x**1\n",
      "Fit Y corrected=5.896e+00+ (4.356e-19)*x**1\n",
      "<class 'pandas.core.series.Series'>\n",
      "<class 'pandas.core.series.Series'>\n",
      "<class 'numpy.ndarray'>\n"
     ]
    }
   ],
   "source": [
    "plt.close()\n",
    "fig = plt.figure(figsize=(10, 9))\n",
    "ax1 = fig.add_subplot(4,2,1)\n",
    "ax2 = fig.add_subplot(4,2,2)\n",
    "ax3 = fig.add_subplot(4,2,3)\n",
    "ax4 = fig.add_subplot(4,2,4)\n",
    "ax5 = fig.add_subplot(4,2,5)\n",
    "ax6 = fig.add_subplot(4,2,6)\n",
    "ax7 = fig.add_subplot(4,2,7)\n",
    "ax8 = fig.add_subplot(4,2,8)\n",
    "\n",
    "\n",
    "time_break1 = 4250 + 1.57869e9\n",
    "time_break2 = 5500 + 1.57869e9\n",
    "#indices1 = np.argwhere(np.array(dataKas_HR.TIME)<time_break1)[:,0]\n",
    "#indices2 = np.argwhere((np.array(dataKas_HR.TIME)>time_break1) & (np.array(dataKas_HR.TIME)<time_break2))[:,0]\n",
    "#indices3 = np.argwhere(np.array(dataKas_HR.TIME)>time_break2)[:,0]\n",
    "indices1 = np.argwhere(np.array(dataKas_noXT.TIME)<time_break1)[:,0]\n",
    "indices2 = np.argwhere((np.array(dataKas_noXT.TIME)>time_break1) & (np.array(dataKas_noXT.TIME)<time_break2))[:,0]\n",
    "indices3 = np.argwhere(np.array(dataKas_noXT.TIME)>time_break2)[:,0]\n",
    "\n",
    "dataKas_HR_jitter_bsln_drift = np.zeros(len(dataKas_HR_jitter_bsln))\n",
    "n1 = len(indices1)\n",
    "n2 = len(indices2)\n",
    "n3 = len(indices3)\n",
    "\n",
    "#idxsort = np.argsort(timeKas_HR)\n",
    "#ax0.scatter(np.arange(len(idxsort)), dataKas_HR.SIGNAL[idxsort], marker=\".\", s=5)\n",
    "#ax1.scatter(dataKas_HR.TIME, dataKas_HR.SIGNAL,marker=\".\", s=5, color='black')\n",
    "ax1.scatter(dataKas_noXT.TIME, dataKas_noXT.SIGNAL,marker=\".\", s=5, color='black')\n",
    "ax1.set_xlabel(\"UTime\")\n",
    "ax1.set_ylabel(\"PH of events (a.u.)\")\n",
    "ax1.set_title(\"Raw PH\")\n",
    "ax2.scatter(dataKas_noXT.TIME, dataKas_HR_jitter_bsln,marker=\".\", s=5, color='tab:green')\n",
    "ax2.set_xlabel(\"UTime\")\n",
    "ax2.set_ylabel(\"PH of events (a.u.)\")\n",
    "ax2.set_title(\"Jitter+BSLN corrected PH\")\n",
    "\n",
    "\n",
    "#dataKas_HR_jitter_bsln_drift[0:n1] = applyCorr(ydata=dataKas_HR_jitter_bsln[indices1], deg=1, xdata=dataKas_HR.TIME[indices1],\n",
    "#                                          ax0=ax3, ax1=ax4, alpha=1)\n",
    "dataKas_HR_jitter_bsln_drift[0:n1] = applyCorr(ydata=dataKas_HR_jitter_bsln[dataKas_noXT.TIME<time_break1], deg=1, \n",
    "                                               xdata=dataKas_noXT[dataKas_noXT.TIME<time_break1].TIME,\n",
    "                                               ax0=ax3, ax1=ax4, alpha=1)\n",
    "ax3.set_xlabel(\"UTime (time1)\")\n",
    "ax3.set_ylabel(\"PH of events (a.u.)\")\n",
    "ax3.set_title(\"J+B corr PH - time1\")\n",
    "ax4.set_xlabel(\"UTime (time1)\")\n",
    "ax4.set_ylabel(\"PH of events (a.u.)\")\n",
    "ax4.set_title(\"J+B+Drift Corr PH - time1\")\n",
    "\n",
    "\n",
    "#dataKas_HR_jitter_bsln_drift[n1:(n1+n2)] = applyCorr(ydata=dataKas_HR_jitter_bsln[indices2],deg=1, xdata=dataKas_HR.TIME[indices2],\n",
    "#                                          ax0=ax5, ax1=ax6, alpha=1)\n",
    "dataKas_HR_jitter_bsln_drift[n1:(n1+n2)] = applyCorr(ydata=dataKas_HR_jitter_bsln[(dataKas_noXT.TIME>time_break1) & (dataKas_noXT.TIME<time_break2)], \n",
    "                                                     xdata=dataKas_noXT[(dataKas_noXT.TIME>time_break1) & (dataKas_noXT.TIME<time_break2)].TIME,\n",
    "                                                     deg=1, ax0=ax5, ax1=ax6, alpha=1)\n",
    "\n",
    "ax5.set_xlabel(\"UTime (time2)\")\n",
    "ax5.set_ylabel(\"PH of events (a.u.)\")\n",
    "ax5.set_title(\"J+B corr PH - time2\")\n",
    "ax6.set_xlabel(\"UTime (time2)\")\n",
    "ax6.set_ylabel(\"Corrected PH of events (a.u.)\")\n",
    "ax6.set_title(\"J+B+Drift Corr PH - time2\")\n",
    "\n",
    "#dataKas_HR_jitter_bsln_drift[(n1+n2):(n1+n2+n3)] = applyCorr(ydata=dataKas_HR_jitter_bsln[indices3],deg=1, xdata=dataKas_HR.TIME[indices3],\n",
    "#                                          ax0=ax7, ax1=ax8, alpha=1)\n",
    "dataKas_HR_jitter_bsln_drift[(n1+n2):(n1+n2+n3)] = applyCorr(ydata=dataKas_HR_jitter_bsln[dataKas_noXT.TIME>time_break2], \n",
    "                                                             xdata=dataKas_noXT.TIME[dataKas_noXT.TIME>time_break2],\n",
    "                                                             deg=1,ax0=ax7, ax1=ax8, alpha=1)    \n",
    "ax7.set_xlabel(\"UTime (time3)\")\n",
    "ax7.set_ylabel(\"PH of events (a.u.)\")\n",
    "ax7.set_title(\"J+B corr PH - time3\")\n",
    "ax8.set_xlabel(\"UTime (time3)\")\n",
    "ax8.set_ylabel(\"Corrected PH of events (a.u.)\")\n",
    "ax8.set_title(\"J+B+Drift Corr PH - time3\")\n",
    "\n",
    "fig.tight_layout()\n",
    "dataKb_HR_jitter_bsln_drift = np.copy(dataKb_HR_jitter_bsln)  # Kbeta no drift corrected\n",
    "\n",
    "print(type(dataKas_HR_jitter))\n",
    "print(type(dataKas_HR_jitter_bsln))\n",
    "print(type(dataKas_HR_jitter_bsln_drift))\n",
    "\n",
    "############## SO AS NOT TO USE DRIFT CORRECTION ###################################\n",
    "dataKas_HR_jitter_bsln_drift = np.copy(dataKas_HR_jitter_bsln)  # Kas no drift corrected    !!!!!!!!!!!!!!!!!!!!"
   ]
  },
  {
   "cell_type": "markdown",
   "metadata": {},
   "source": [
    "## 4. Fit gaussians, create Gain scale and calibrate energies"
   ]
  },
  {
   "cell_type": "code",
   "execution_count": 33,
   "metadata": {},
   "outputs": [
    {
     "data": {
      "application/vnd.jupyter.widget-view+json": {
       "model_id": "b5645729b63141ff917806533e32332f",
       "version_major": 2,
       "version_minor": 0
      },
      "text/plain": [
       "Canvas(toolbar=Toolbar(toolitems=[('Home', 'Reset original view', 'home', 'home'), ('Back', 'Back to previous …"
      ]
     },
     "metadata": {},
     "output_type": "display_data"
    }
   ],
   "source": [
    "# Pre-calibration histogram\n",
    "plt.close()\n",
    "nbinsKas = 100\n",
    "nbinsKb = 50\n",
    "centresA=[5888,5897] #[5700,5710] \n",
    "centresB=6368\n",
    "(mean1bsln, mean2bsln, mean3bsln) = fit3gauss2hist(data1=1e3*dataKas_HR_jitter_bsln_drift, data2=1e3*dataKb_HR_jitter_bsln_drift,\n",
    "                                        a1=0.06, a2=0.12, a3=0.1, sig1=5, sig2=5, sig3=5, \n",
    "                                        mean1=centresA[0], mean2=centresA[1], mean3=centresB,\n",
    "                                        nbins1=nbinsKas, nbins2=nbinsKb, \n",
    "                                        xlab=\"reconstructed PH (a.u.)\", plot=True, xsize=12,ysize=4)"
   ]
  },
  {
   "cell_type": "code",
   "execution_count": 34,
   "metadata": {},
   "outputs": [
    {
     "name": "stdout",
     "output_type": "stream",
     "text": [
      "RMSE: 4.265908282671653e-12\n",
      "R-squared: 1.0\n"
     ]
    },
    {
     "data": {
      "application/vnd.jupyter.widget-view+json": {
       "model_id": "974b8b9eec904087992e0412fdd7cef8",
       "version_major": 2,
       "version_minor": 0
      },
      "text/plain": [
       "Canvas(toolbar=Toolbar(toolitems=[('Home', 'Reset original view', 'home', 'home'), ('Back', 'Back to previous …"
      ]
     },
     "metadata": {},
     "output_type": "display_data"
    },
    {
     "name": "stdout",
     "output_type": "stream",
     "text": [
      "gain scale coefs= [-1.78286085e+03  1.34663525e+00 -7.57394184e-06]\n"
     ]
    }
   ],
   "source": [
    "# create gain scale Ka2, Ka1, Kb\n",
    "plt.close()\n",
    "calib_lines = tuple([float(x) for x in (lines)])\n",
    "recon_lines = (mean1bsln,mean2bsln, mean3bsln)\n",
    "coefs = gainScalePolyFit(xData=recon_lines, yData=calib_lines, deg=2, ylab=\"MnK Lines energies (eV)\", xsize=10, ysize=4)\n",
    "print(\"gain scale coefs=\", coefs)"
   ]
  },
  {
   "cell_type": "code",
   "execution_count": 35,
   "metadata": {},
   "outputs": [],
   "source": [
    "minEeV_Ka=5860\n",
    "maxEeV_Ka=5920\n",
    "#minEeV_Ka=5880\n",
    "#maxEeV_Ka=5905\n",
    "\n",
    "minEeV_Kb=6470\n",
    "maxEeV_Kb=6505\n",
    "# recalibrate energies\n",
    "enerKas_HR_jitter_bsln_drift = np.zeros(len(dataKas_HR_jitter_bsln_drift))\n",
    "enerKb_HR_jitter_bsln_drift = np.zeros(len(dataKb_HR_jitter_bsln_drift))\n",
    "\n",
    "for i in range(len(coefs)):\n",
    "    enerKas_HR_jitter_bsln_drift += coefs[i] * (1e3*dataKas_HR_jitter_bsln_drift)**(i)\n",
    "enerKas_HR_jitter_bsln_drift = enerKas_HR_jitter_bsln_drift[(enerKas_HR_jitter_bsln_drift > minEeV_Ka) &\n",
    "                                                            (enerKas_HR_jitter_bsln_drift < maxEeV_Ka)]\n",
    "\n",
    "for i in range(len(coefs)):\n",
    "    enerKb_HR_jitter_bsln_drift += coefs[i] * (1e3*dataKb_HR_jitter_bsln_drift)**(i)\n",
    "enerKb_HR_jitter_bsln_drift = enerKb_HR_jitter_bsln_drift[(enerKb_HR_jitter_bsln_drift>minEeV_Kb) &\n",
    "                                                          (enerKb_HR_jitter_bsln_drift<maxEeV_Kb)]\n",
    "#print(enerKb_HR_jitter_bsln)"
   ]
  },
  {
   "cell_type": "markdown",
   "metadata": {},
   "source": [
    "## 4 Fit histogram of baseline-jitter-corrected energies"
   ]
  },
  {
   "cell_type": "markdown",
   "metadata": {},
   "source": [
    "#### 4.1 Test different number of bins and see how the residuals respond"
   ]
  },
  {
   "cell_type": "code",
   "execution_count": 36,
   "metadata": {},
   "outputs": [],
   "source": [
    "%%script false --no-raise-error\n",
    "# Plot residuals curve to select best number of bins for Kas and Kb\n",
    "plt.clf()\n",
    "fig = plt.figure(figsize=(10, 4))\n",
    "ax1 = fig.add_subplot(1,2,1)\n",
    "ax2 = fig.add_subplot(1,2,2)\n",
    "\n",
    "fitVoigt2hist(data=enerKas_HR_jitter_bsln_drift, lines=MnKas, nbins=np.arange(30,200,20), ax0=ax1)\n",
    "#fitVoigt2hist(data=enerKas_HR_jitter_bsln, lines=MnKas, nbins=50, ax0=ax1)\n",
    "ax1.set_title(\"MnKas\")\n",
    "\n",
    "fitVoigt2hist(data=enerKb_HR_jitter_bsln_drift, lines=MnKb, nbins=np.arange(20,100,10), ax0=ax2)\n",
    "ax2.set_title(\"MnKb\")"
   ]
  },
  {
   "cell_type": "markdown",
   "metadata": {},
   "source": [
    "#### 4.2 Use the range of number of bins where residuals are quite estable and use them to get different FWHM; then take median value"
   ]
  },
  {
   "cell_type": "code",
   "execution_count": 37,
   "metadata": {},
   "outputs": [
    {
     "name": "stdout",
     "output_type": "stream",
     "text": [
      "FWHM_Gs= [3.011 2.963 2.995 2.952 2.941 2.941 2.945 2.944 2.964 2.951 2.935 2.947]\n",
      "median_index= 9\n",
      "FWHM_G[median_index]= 2.9510572529848997\n",
      "ERR_FWHM_G[median_index]= 0.05749636236738238\n",
      "nbinsKas[median_index]= 170\n",
      "Using  12 different number of bins\n",
      "Median FWHM_G(Kas)= 2.95+/-0.06eV\n"
     ]
    }
   ],
   "source": [
    "#%%script false --no-raise-error\n",
    "plt.close()\n",
    "# Calculate mean 'fit' for range of acceptable number of bins in Kas range\n",
    "#                                                               ===========\n",
    "(ibmin, ibmax) = (80, 200)\n",
    "fwhm_G = list()\n",
    "err_fwhm_G = list()\n",
    "nbins = list()\n",
    "for nbinsKas in np.arange(ibmin, ibmax, 10):\n",
    "    fw, efw, vv_fit = fitVoigt2hist(data=enerKas_HR_jitter_bsln_drift, lines=MnKas, nbins=int(nbinsKas), ax0=ax1)    \n",
    "    plt.clf()\n",
    "    if fw < 0 or efw == 0:\n",
    "        continue\n",
    "    fwhm_G.append(fw)\n",
    "    err_fwhm_G.append(efw)\n",
    "    nbins.append(nbinsKas)\n",
    "print(\"FWHM_Gs=\", np.array2string(np.asarray(fwhm_G), formatter={'float_kind':lambda x: \"%.3f\" % x}))\n",
    "median_fwhm_G = np.median(fwhm_G)\n",
    "median_err_fwhm_G = np.sum(abs(np.asarray(fwhm_G)-median_fwhm_G))/len(fwhm_G)\n",
    "median_index = min(range(len(fwhm_G)), key=lambda i: abs(fwhm_G[i]-median_fwhm_G))\n",
    "nbinsKas = nbins[median_index]\n",
    "print(\"median_index=\", median_index)\n",
    "print(\"FWHM_G[median_index]=\",fwhm_G[median_index])\n",
    "print(\"ERR_FWHM_G[median_index]=\",err_fwhm_G[median_index])\n",
    "print(\"nbinsKas[median_index]=\", nbins[median_index])\n",
    "\n",
    "print(\"Using \", len(fwhm_G), \"different number of bins\")\n",
    "txt_Kas = '{:0.2f}'.format(median_fwhm_G) + \"+/-\" + '{:0.2f}'.format(max(median_err_fwhm_G, err_fwhm_G[median_index])) + \"eV\"\n",
    "print(\"Median FWHM_G(Kas)=\", txt_Kas)\n"
   ]
  },
  {
   "cell_type": "code",
   "execution_count": null,
   "metadata": {},
   "outputs": [],
   "source": [
    "#%%script false --no-raise-error\n",
    "\n",
    "# Calculate mean 'fit' for range of acceptable number of bins in Kb range\n",
    "#                                                               ===========\n",
    "(ibmin, ibmax) = (40, 100)\n",
    "fwhm_G = list()\n",
    "err_fwhm_G = list()\n",
    "nbins = list()\n",
    "for nbinsKb in np.arange(ibmin, ibmax, 10):\n",
    "    fw, efw, vv_fit = fitVoigt2hist(data=enerKb_HR_jitter_bsln_drift, lines=MnKb, nbins=int(nbinsKb), ax0=ax2)    \n",
    "    plt.clf()\n",
    "    if efw == 0 or fw < 0:\n",
    "        continue\n",
    "    fwhm_G.append(fw)\n",
    "    err_fwhm_G.append(efw)\n",
    "    nbins.append(nbinsKb)\n",
    "print(\"FWHM_Gs=\", np.array2string(np.asarray(fwhm_G), formatter={'float_kind':lambda x: \"%.3f\" % x}))\n",
    "median_fwhm_G = np.median(fwhm_G)\n",
    "median_err_fwhm_G = np.sum(abs(np.asarray(fwhm_G)-median_fwhm_G))/len(fwhm_G)\n",
    "median_index = min(range(len(fwhm_G)), key=lambda i: abs(fwhm_G[i]-median_fwhm_G))\n",
    "nbinsKb = nbins[median_index]\n",
    "print(\"median_index=\", median_index)\n",
    "print(\"FWHM_G[median_index]=\",fwhm_G[median_index])\n",
    "print(\"ERR_FWHM_G[median_index]=\",err_fwhm_G[median_index])\n",
    "print(\"nbinsKb[median_index]=\", nbins[median_index])\n",
    "\n",
    "txt_Kb = '{:0.2f}'.format(median_fwhm_G) + \"+/-\" + '{:0.2f}'.format(max(median_err_fwhm_G, err_fwhm_G[median_index])) + \"eV\"\n",
    "print(\"Median FWHM_G(Kb)=\", txt_Kb)"
   ]
  },
  {
   "cell_type": "code",
   "execution_count": null,
   "metadata": {},
   "outputs": [],
   "source": [
    "#%%script false --no-raise-error\n",
    "plt.close()\n",
    "# Plot representative (median) fitting \n",
    "fig = plt.figure(figsize=(12, 6))\n",
    "ax1 = fig.add_subplot(1,2,1)\n",
    "ax2 = fig.add_subplot(1,2,2)\n",
    "\n",
    "print(\"Using nbinsKas=\", nbinsKas, \"from median estimation\")\n",
    "print(\"Using nbinsKb=\", nbinsKb, \"from median estimation\")\n",
    "\n",
    "nlines_Kas = MnKas.getNumber() \n",
    "nlines_Kb = MnKb.getNumber()\n",
    "nlines = nlines_Kas + nlines_Kb \n",
    "lines_centres_vv = np.zeros(nlines)\n",
    "\n",
    "fwhm_G, err_fwhm_G, vvmod = fitVoigt2hist(data=enerKas_HR_jitter_bsln, lines=MnKas, nbins=int(nbinsKas), ax0=ax1)\n",
    "print(fwhm_G, err_fwhm_G)\n",
    "for i in range(nlines_Kas):\n",
    "     lines_centres_vv[i] = vvmod.param_sets[i*4][0]\n",
    "\n",
    "fwhm_G, err_fwhm_G, vvmod = fitVoigt2hist(data=enerKb_HR_jitter_bsln, lines=MnKb, nbins=int(nbinsKb), ax0=ax2)\n",
    "print(fwhm_G, err_fwhm_G)\n",
    "for i in range(nlines_Kb):\n",
    "    j = i + nlines_Kas\n",
    "    lines_centres_vv[j] = vvmod.param_sets[i*4][0]\n",
    "\n",
    "x1 = min(enerKas_HR_jitter_bsln)\n",
    "y1 = 20\n",
    "ax1.text(x1,y1, \"FWHM=\" + txt_Kas + \"\\n Total counts=\" + str(len(enerKas_HR_jitter_bsln)))\n",
    "ax1.axvline(MnKas.energies_eV[0], ls=\"--\", color=\"gray\")\n",
    "\n",
    "x2 = min(enerKb_HR_jitter_bsln)\n",
    "y2 = 80\n",
    "ax2.text(x2,y2, \"FWHM=\" + txt_Kb)\n",
    "\n",
    "outfig=resDir + \"/fit_\" + \"pL\" + str(plen) + \"_\" + method + str(oflen) + pBstr + \"_jitter_bsln.png\"\n",
    "fig.savefig(outfig)\n",
    "fig.tight_layout()"
   ]
  },
  {
   "cell_type": "markdown",
   "metadata": {},
   "source": [
    "## 5. Recalibrate energies:\n",
    "      - get new gain scale with fitted line centres\n",
    "      - recalibrate energies\n",
    "      - fit again to get FWHM more precisely"
   ]
  },
  {
   "cell_type": "code",
   "execution_count": null,
   "metadata": {},
   "outputs": [],
   "source": [
    "# reverse au to energy transformation of lines centres using gain scale\n",
    "#lines_centres_Kas \n",
    "# Ecal = coefs[0] + coefs[1] * PHau + coefs[2] * PHau^2 + ....\n",
    "# to get roots:    0 = coefs[0]-Ecal + coefs[1] * PHau + coefs[2] * PHau^2 + ....\n",
    "PHau = np.zeros(nlines)\n",
    "newcoefs = np.zeros(len(coefs))\n",
    "np.copyto(newcoefs, coefs)\n",
    "print(coefs)\n",
    "for i in range(nlines):  \n",
    "    line = lines_centres_vv[i]\n",
    "    #print(\"line=\", line)\n",
    "    coef0 = coefs[0] - line\n",
    "    newcoefs[0] = coef0\n",
    "    calpoly = P(newcoefs)\n",
    "    roots = calpoly.roots()\n",
    "    #print(\"Roots=\", roots)\n",
    "    PHau[i] = roots[np.abs(line-roots).argmin()]\n",
    "    #PHau[i] = max(calpoly.roots())\n",
    "    #if abs(line - PHau[i]) > 1000:\n",
    "    #    PHau[i] = min(calpoly.roots())\n",
    "    #if abs(line - PHau[i]) > 5000:\n",
    "    #    raise RuntimeError(\"PH root in a.u. is too different from line Energy (eV)\")\n",
    "    \n",
    "    #print(calpoly.roots())\n",
    "    #print(\"PH for \", line, \"=\", PHau[i])"
   ]
  },
  {
   "cell_type": "code",
   "execution_count": null,
   "metadata": {},
   "outputs": [],
   "source": [
    "# create NEW gain scale Ka2, Ka1, Kb\n",
    "plt.close()\n",
    "ph_lines = np.sort(PHau)\n",
    "#print(ph_lines)\n",
    "true_lines = np.sort(np.concatenate((MnKas.energies_eV, MnKb.energies_eV)))\n",
    "#print(true_lines)\n",
    "coefs_final = gainScalePolyFit(xData=ph_lines, yData=true_lines, deg=deg, ylab=\"MnK Lines energies (eV)\")\n",
    "print(\"gain scale coefs=\", coefs_final)\n"
   ]
  },
  {
   "cell_type": "code",
   "execution_count": null,
   "metadata": {},
   "outputs": [],
   "source": [
    "# FINAL recalibration of energies\n",
    "enerKas_final = np.zeros(len(dataKas_HR_jitter_bsln))\n",
    "enerKb_final = np.zeros(len(dataKb_HR_jitter_bsln))\n",
    "\n",
    "for i in range(len(coefs_final)):\n",
    "    enerKas_final += coefs_final[i] * (1e3*dataKas_HR_jitter_bsln)**(i)\n",
    "    #enerKas_final = inter + slope * 1e3*dataKas_HR_jitter_bsln # eV\n",
    "enerKas_final = enerKas_final[(enerKas_final > minEeV_Ka) & (enerKas_final < maxEeV_Ka)]\n",
    "\n",
    "for i in range(len(coefs_final)):\n",
    "    enerKb_final += coefs_final[i] * (1e3*dataKb_HR_jitter_bsln)**(i)\n",
    "    #enerKb_final = inter + slope * 1e3*dataKb_HR_jitter_bsln # eV\n",
    "enerKb_final = enerKb_final[(enerKb_final>minEeV_Kb) & (enerKb_final<maxEeV_Kb)]\n"
   ]
  },
  {
   "cell_type": "code",
   "execution_count": null,
   "metadata": {},
   "outputs": [],
   "source": [
    "#%%script false --no-raise-error\n",
    "\n",
    "# Calculate meadian 'fit' for range of acceptable number of bins in Kas range\n",
    "#                                                               ===========\n",
    "(ibmin, ibmax) = (80, 200)\n",
    "fwhm_G = list()\n",
    "err_fwhm_G = list()\n",
    "nbins = list()\n",
    "for nbinsKas in np.arange(ibmin, ibmax, 10):\n",
    "    fw, efw, vv_fit = fitVoigt2hist(data=enerKas_final, lines=MnKas, nbins=int(nbinsKas), ax0=ax1)    \n",
    "    plt.clf()\n",
    "    if fw < 0 or efw == 0:\n",
    "        continue\n",
    "    fwhm_G.append(fw)\n",
    "    err_fwhm_G.append(efw)\n",
    "    nbins.append(nbinsKas)\n",
    "print(\"FWHM_Gs=\", np.array2string(np.asarray(fwhm_G), formatter={'float_kind':lambda x: \"%.3f\" % x}))\n",
    "median_fwhm_G = np.median(fwhm_G)\n",
    "median_err_fwhm_G = np.sum(abs(np.asarray(fwhm_G)-median_fwhm_G))/len(fwhm_G)\n",
    "median_index = min(range(len(fwhm_G)), key=lambda i: abs(fwhm_G[i]-median_fwhm_G))\n",
    "nbinsKas = nbins[median_index]\n",
    "print(\"median_index=\", median_index)\n",
    "print(\"FWHM_G[median_index]=\",fwhm_G[median_index])\n",
    "print(\"ERR_FWHM_G[median_index]=\",err_fwhm_G[median_index])\n",
    "print(\"nbinsKas[median_index]=\", nbins[median_index])\n",
    "\n",
    "print(\"Using \", len(fwhm_G), \"different number of bins\")\n",
    "txt_Kas = '{:0.2f}'.format(median_fwhm_G) + \"+/-\" + '{:0.2f}'.format(max(median_err_fwhm_G, err_fwhm_G[median_index])) + \"eV\"\n",
    "print(\"Median FWHM_G(Kas)=\", txt_Kas)\n"
   ]
  },
  {
   "cell_type": "code",
   "execution_count": null,
   "metadata": {},
   "outputs": [],
   "source": [
    "#%%script false --no-raise-error\n",
    "plt.close()\n",
    "# Plot representative (median) fitting \n",
    "#                    =====================\n",
    "fig = plt.figure(figsize=(14, 6.5))\n",
    "ax1 = fig.add_subplot(1,2,1)\n",
    "\n",
    "fwhm_G, err_fwhm_G, vvmod = fitVoigt2hist(data=enerKas_final, lines=MnKas, nbins=int(nbinsKas), ax0=ax1)\n",
    "print(fwhm_G, err_fwhm_G)\n",
    "x1 = min(enerKas_final)\n",
    "y1 = 20\n",
    "ax1.text(x1,y1, \"FWHM=\" + txt_Kas + \"\\n Total counts=\" + str(len(enerKas_final)))\n",
    "ax1.axvline(MnKas.energies_eV[0], ls=\"--\", color=\"gray\")\n",
    "ax1.set_title(\"Representative 'median' fitting\")\n",
    "\n",
    "outfig=resDir + \"/fit_\" + \"pL\" + str(plen) + \"_\" + method + str(oflen) + pBstr + \"_final.png\"\n",
    "fig.tight_layout()\n",
    "fig.savefig(outfig)"
   ]
  },
  {
   "cell_type": "code",
   "execution_count": null,
   "metadata": {},
   "outputs": [],
   "source": [
    "#%%script false --no-raise-error\n",
    "# Plot representative fitting for a fixed size bin (only for Kas)\n",
    "#                                   ================\n",
    "plt.close()\n",
    "fig = plt.figure(figsize=(13,6.5))\n",
    "ax1 = fig.add_subplot(1,2,1)\n",
    "\n",
    "nbinsKas = 300\n",
    "fwhm_G, err_fwhm_G, vvmod = fitVoigt2hist(data=enerKas_final, lines=MnKas, nbins=int(nbinsKas), ax0=ax1)\n",
    "print(fwhm_G, err_fwhm_G)\n",
    "\n",
    "txt_Kas = '{:0.2f}'.format(fwhm_G) + \"+/-\" + '{:0.2f}'.format(err_fwhm_G) + \"eV\"\n",
    "x1 = min(enerKas_HR_jitter_bsln)\n",
    "y1 = 10\n",
    "ax1.text(x1,y1, \"FWHM=\" + txt_Kas + \"\\n Total counts=\" + str(len(enerKas_final)))\n",
    "ax1.axvline(MnKas.energies_eV[0], ls=\"--\", color=\"gray\")\n",
    "ax1.set_title(\"Plot representative -fixed bin- fitting\")\n",
    "\n",
    "\n",
    "outfig=resDir + \"/fitKas_\" + \"pL\" + str(plen) + \"_\" + method + str(oflen) + pBstr + \"_final_300bins.png\"\n",
    "fig.tight_layout()\n",
    "#fig.savefig(outfig)"
   ]
  },
  {
   "cell_type": "markdown",
   "metadata": {},
   "source": [
    "### 6. Plot ALL calibrated energies"
   ]
  },
  {
   "cell_type": "code",
   "execution_count": null,
   "metadata": {},
   "outputs": [],
   "source": [
    "# Events energy estimation\n",
    "plt.close()\n",
    "ener_final = np.zeros(len(data_HR))\n",
    "\n",
    "for i in range(len(coefs_final)):\n",
    "    ener_final += coefs_final[i] * (1e3*data_HR.SIGNAL)**(i)\n",
    "\n",
    "# Have a look to histogram of ALL reconstructed data\n",
    "fig = plt.figure(figsize=(8,4))\n",
    "ax1 = fig.add_subplot(1, 1, 1)\n",
    "npulses = len(data_HR.SIGNAL)\n",
    "ax1.set_xlabel(\"Calibrated energy\")\n",
    "ax1.set_ylabel(\"# events\")\n",
    "ax1.set_title((\"Distribution of ALL events (\" + str(npulses) + \")\"))\n",
    "ax1.hist(ener_final, bins=4000, density=False, label=\"Histogram\", alpha=0.5)\n",
    "plotMainXlines(ax1, alp_l=0.3, alp_t=0.6)\n",
    "fig.tight_layout()"
   ]
  },
  {
   "cell_type": "markdown",
   "metadata": {},
   "source": [
    "### 7. Plot FWHM for different recontruction methods"
   ]
  },
  {
   "cell_type": "code",
   "execution_count": null,
   "metadata": {},
   "outputs": [],
   "source": [
    "#%%script false --no-raise-error\n",
    "# plot variation of FWHM for different record lengths and for OPTFILT and preBuffer\n",
    "\n",
    "rlen      = (4096)\n",
    "# 300 bins fit\n",
    "#optf =     (7.12, 3.03, 2.80, 2.74, 2.85, 2.85)\n",
    "#optf_err = (0.14, 0.07, 0.08, 0.06, 0.07, 0.07)\n",
    "#pB =       (9.19, 2.86, 2.64, 2.57, 2.71, 2.78)\n",
    "#pB_err =   (0.18, 0.07, 0.07, 0.07, 0.07, 0.08)\n",
    "\n",
    "optf =     (3.30)\n",
    "optf_err = (0.07)\n",
    "pB =       (3.15)\n",
    "pB_err =   (0.07)\n",
    "\n",
    "fig = plt.figure(figsize=(12,9))\n",
    "ax1 = fig.add_subplot(1, 1, 1)\n",
    "ax1.errorbar(rlen, optf, yerr=optf_err, label=\"ADC OPTFILT\", marker='o',capsize=3, ls=\"-\", alpha=0.5)\n",
    "ax1.errorbar(rlen, pB, yerr=pB_err, label=\"ADC preBuffer75 OPTFILT\", marker='o',capsize=2, ls=\"-\")\n",
    "ax1.tick_params(axis='both', which='major', labelsize=14)\n",
    "ax1.set_ylim(2.5,10)\n",
    "ax1.set_xlabel(\"record length (samples)\",fontsize='x-large')\n",
    "ax1.set_ylabel(\"FWHM (eV)\", fontsize='x-large')\n",
    "ax1.legend()\n",
    "#ax1.grid()\n",
    "\n",
    "axins = inset_axes(ax1, width=\"70%\", height=1.9, bbox_transform=ax1.transAxes, bbox_to_anchor=(0.4, 0.3, 0.5, 0.9), loc=4)\n",
    "axins.errorbar(rlen, optf, yerr=optf_err, label=\"ADC OPTFILT\", marker='o',capsize=3, ls=\"-\", alpha=0.5)\n",
    "axins.errorbar(rlen, pB, yerr=pB_err, label=\"ADC preBuffer75 OPTFILT\", marker='o',capsize=2, ls=\"-\")\n",
    "axins.set_ylim(2.5,4)\n",
    "axins.grid()\n",
    "axins.set_xlabel(\"record length (samples)\",fontsize='large')\n",
    "axins.set_ylabel(\"FWHM (eV)\", fontsize='large')\n",
    "\n",
    "outfig=resDir + \"/fitKas_comparative_final_300bins.png\"\n",
    "fig.savefig(outfig)\n"
   ]
  },
  {
   "cell_type": "code",
   "execution_count": null,
   "metadata": {},
   "outputs": [],
   "source": [
    "# set up plot\n",
    "fig, ax = plt.subplots(figsize=(6, 4))\n",
    "ax.set_ylim([-4, 4])\n",
    "ax.grid(True)\n",
    " \n",
    "# generate x values\n",
    "x = np.linspace(0, 2 * np.pi, 100)\n",
    " \n",
    " \n",
    "def my_sine(x, w, amp, phi):\n",
    "    \"\"\"\n",
    "    Return a sine for x with angular frequeny w and amplitude amp.\n",
    "    \"\"\"\n",
    "    return amp*np.sin(w * (x-phi))\n",
    " \n",
    " \n",
    "@widgets.interact(w=(0, 10, 1), amp=(0, 4, .1), phi=(0, 2*np.pi+0.01, 0.01))\n",
    "def update(w = 1.0, amp=1, phi=0):\n",
    "    \"\"\"Remove old lines from plot and plot new one\"\"\"\n",
    "    [l.remove() for l in ax.lines]\n",
    "    ax.plot(x, my_sine(x, w, amp, phi), color='C0')"
   ]
  },
  {
   "cell_type": "code",
   "execution_count": null,
   "metadata": {},
   "outputs": [],
   "source": []
  }
 ],
 "metadata": {
  "kernelspec": {
   "display_name": "Python 3",
   "language": "python",
   "name": "python3"
  },
  "language_info": {
   "codemirror_mode": {
    "name": "ipython",
    "version": 3
   },
   "file_extension": ".py",
   "mimetype": "text/x-python",
   "name": "python",
   "nbconvert_exporter": "python",
   "pygments_lexer": "ipython3",
   "version": "3.8.3"
  },
  "toc": {
   "base_numbering": 1,
   "nav_menu": {},
   "number_sections": true,
   "sideBar": true,
   "skip_h1_title": false,
   "title_cell": "Table of Contents",
   "title_sidebar": "Contents",
   "toc_cell": false,
   "toc_position": {
    "height": "calc(100% - 180px)",
    "left": "10px",
    "top": "150px",
    "width": "353.333px"
   },
   "toc_section_display": true,
   "toc_window_display": true
  },
  "toc-autonumbering": false,
  "toc-showcode": true,
  "toc-showmarkdowntxt": false,
  "toc-showtags": false,
  "varInspector": {
   "cols": {
    "lenName": 16,
    "lenType": 16,
    "lenVar": 40
   },
   "kernels_config": {
    "python": {
     "delete_cmd_postfix": "",
     "delete_cmd_prefix": "del ",
     "library": "var_list.py",
     "varRefreshCmd": "print(var_dic_list())"
    },
    "r": {
     "delete_cmd_postfix": ") ",
     "delete_cmd_prefix": "rm(",
     "library": "var_list.r",
     "varRefreshCmd": "cat(var_dic_list()) "
    }
   },
   "types_to_exclude": [
    "module",
    "function",
    "builtin_function_or_method",
    "instance",
    "_Feature"
   ],
   "window_display": false
  }
 },
 "nbformat": 4,
 "nbformat_minor": 4
}
