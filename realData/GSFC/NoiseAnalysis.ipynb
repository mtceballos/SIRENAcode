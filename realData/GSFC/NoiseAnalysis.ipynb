{
 "cells": [
  {
   "cell_type": "code",
   "execution_count": 4,
   "metadata": {},
   "outputs": [],
   "source": [
    "from subprocess import check_call, STDOUT\n",
    "import os\n",
    "from astropy.io import fits\n",
    "import numpy.polynomial.polynomial as poly\n",
    "from numpy.polynomial import Polynomial as P\n",
    "import tempfile\n",
    "from datetime import datetime\n",
    "import shutil, shlex\n",
    "import numpy as np\n",
    "import matplotlib.pyplot as plt\n",
    "from mpl_toolkits.axes_grid1.inset_locator import inset_axes\n",
    "import pandas\n",
    "from functools import reduce\n",
    "from scipy.signal import butter,filtfilt\n",
    "\n",
    "%matplotlib widget"
   ]
  },
  {
   "cell_type": "code",
   "execution_count": 2,
   "metadata": {},
   "outputs": [
    {
     "name": "stdout",
     "output_type": "stream",
     "text": [
      "ADC data dims= (1834, 8192)\n",
      "Mean STDNOISE= 8.738369\n",
      "STD of STDNOISE= 0.12467109\n",
      "Mean BASELINE= 8344.179\n",
      "STD of BASELINE= 0.8833343\n"
     ]
    },
    {
     "data": {
      "application/vnd.jupyter.widget-view+json": {
       "model_id": "cdee88075d4744efaf9cc49ad10a13fb",
       "version_major": 2,
       "version_minor": 0
      },
      "text/plain": [
       "Canvas(toolbar=Toolbar(toolitems=[('Home', 'Reset original view', 'home', 'home'), ('Back', 'Back to previous …"
      ]
     },
     "metadata": {},
     "output_type": "display_data"
    }
   ],
   "source": [
    "# Inspect noise file\n",
    "plt.close()\n",
    "noise_sims = \"noise/noise_chan1.fits\"\n",
    "f = fits.open(noise_sims)\n",
    "ADCdata = f[\"TESRECORDS\"].data['ADC']\n",
    "print(\"ADC data dims=\", ADCdata.shape)\n",
    "ADCmax = np.amax(ADCdata, axis=1)\n",
    "ADCmean = np.mean(ADCdata, axis=1)\n",
    "ADCstd = np.std(ADCdata, axis=1)\n",
    "\n",
    "noiseData = pandas.DataFrame ({'MEANNOISE': ADCmean, 'STDNOISE': ADCstd}, columns = ['MEANNOISE','STDNOISE'])\n",
    "mean_std = np.mean(ADCstd)\n",
    "sigma_std = np.std(ADCstd)\n",
    "mean_base = np.mean(ADCmean)\n",
    "sigma_base = np.std(ADCmean)\n",
    "\n",
    "print(\"Mean STDNOISE=\", mean_std)\n",
    "print(\"STD of STDNOISE=\", sigma_std)\n",
    "print(\"Mean BASELINE=\", mean_base)\n",
    "print(\"STD of BASELINE=\", sigma_base)\n",
    "\n",
    "fig = plt.figure(figsize=(10,4))\n",
    "ax1 = fig.add_subplot(1, 3, 1)\n",
    "bin_heights, bin_borders, _ = ax1.hist(ADCmax, bins=20, alpha=0.4)\n",
    "ax1.set_title(\"Distribution of Max SDC values\")\n",
    "ax1.set_ylabel(\"# records\")\n",
    "ax1.set_xlabel(\"ADC (a.u.)\")\n",
    "ax2 = fig.add_subplot(1, 3, 2)\n",
    "bin_heights, bin_borders, _ = ax2.hist(ADCmean, bins=20, alpha=0.4)\n",
    "ax2.set_title(\"Distribution of Mean ADC values\")\n",
    "ax2.set_ylabel(\"# records\")\n",
    "ax2.set_xlabel(\"ADC (a.u.)\")\n",
    "ax2.axvline(mean_base, ls=\"--\", color=\"gray\", alpha=0.5)\n",
    "ax2.axvline(mean_base-sigma_base, ls=\"--\", color=\"gray\", alpha=0.5)\n",
    "ax2.axvline(mean_base+sigma_base, ls=\"--\", color=\"gray\", alpha=0.5)\n",
    "ax3 = fig.add_subplot(1, 3, 3)\n",
    "bin_heights, bin_borders, _ = ax3.hist(ADCstd, bins=20, alpha=0.4)\n",
    "ax3.set_title(\"Distribution of STD ADC values\")\n",
    "ax3.set_ylabel(\"# records\")\n",
    "ax3.set_xlabel(\"ADC (a.u.)\")\n",
    "ax3.axvline(mean_std, ls=\"--\", color=\"gray\", alpha=0.5)\n",
    "ax3.axvline(mean_std-sigma_std, ls=\"--\", color=\"gray\", alpha=0.5)\n",
    "ax3.axvline(mean_std+sigma_std, ls=\"--\", color=\"gray\", alpha=0.5)\n",
    "fig.tight_layout()\n",
    "\n",
    "\n"
   ]
  },
  {
   "cell_type": "code",
   "execution_count": 10,
   "metadata": {},
   "outputs": [
    {
     "data": {
      "application/vnd.jupyter.widget-view+json": {
       "model_id": "4dbe6b95d7e046ee983cf9ffa7702716",
       "version_major": 2,
       "version_minor": 0
      },
      "text/plain": [
       "Canvas(toolbar=Toolbar(toolitems=[('Home', 'Reset original view', 'home', 'home'), ('Back', 'Back to previous …"
      ]
     },
     "metadata": {},
     "output_type": "display_data"
    },
    {
     "data": {
      "text/plain": [
       "<matplotlib.legend.Legend at 0x7fb1b5751af0>"
      ]
     },
     "execution_count": 10,
     "metadata": {},
     "output_type": "execute_result"
    }
   ],
   "source": [
    "# lowpass filtering\n",
    "#import plotly.graph_objects as go\n",
    "rec_length = 8192\n",
    "fs = 195312.5      # sample rate, Hz\n",
    "T = rec_length/fs  # Sample Period (s)\n",
    "cutoff = 5000      # desired cutoff frequency of the filter, Hz \n",
    "nyq = 0.5 * fs     # Nyquist Frequency\n",
    "order = 8          # sin wave can be approx represented as quadratic\n",
    "n = rec_length     # total number of samples\n",
    "\n",
    "def butter_lowpass_filter(data, cutoff, fs, order):\n",
    "    normal_cutoff = cutoff / nyq\n",
    "    # Get the filter coefficients \n",
    "    b, a = butter(order, normal_cutoff, btype='low', analog=False)\n",
    "    y = filtfilt(b, a, data)\n",
    "    return y\n",
    "\n",
    "y = butter_lowpass_filter(ADCdata[0], cutoff, fs, order)\n",
    "\n",
    "fig = plt.figure(figsize=(6,3))\n",
    "ax1 = fig.add_subplot(1, 1, 1)\n",
    "ax1.plot(range(n), ADCdata[0], label=\"signal\")\n",
    "ax1.plot(range(n), y, label=\"filterd signal\")\n",
    "ax1.legend()\n",
    "#fig = go.Figure()\n",
    "#fig.add_trace(go.Scatter(\n",
    "#            y = data,\n",
    "#            line =  dict(shape =  'spline' ),\n",
    "#            name = 'signal with noise'\n",
    "#            ))\n",
    "#fig.add_trace(go.Scatter(\n",
    "#            y = y,\n",
    "#            line =  dict(shape =  'spline' ),\n",
    "#            name = 'filtered signal'\n",
    "#            ))\n",
    "#fig.show()"
   ]
  },
  {
   "cell_type": "code",
   "execution_count": 1,
   "metadata": {},
   "outputs": [
    {
     "ename": "NameError",
     "evalue": "name 'plt' is not defined",
     "output_type": "error",
     "traceback": [
      "\u001b[0;31m---------------------------------------------------------------------------\u001b[0m",
      "\u001b[0;31mNameError\u001b[0m                                 Traceback (most recent call last)",
      "\u001b[0;32m<ipython-input-1-f741b286b1dd>\u001b[0m in \u001b[0;36m<module>\u001b[0;34m\u001b[0m\n\u001b[0;32m----> 1\u001b[0;31m \u001b[0mplt\u001b[0m\u001b[0;34m.\u001b[0m\u001b[0mclose\u001b[0m\u001b[0;34m(\u001b[0m\u001b[0;34m)\u001b[0m\u001b[0;34m\u001b[0m\u001b[0;34m\u001b[0m\u001b[0m\n\u001b[0m\u001b[1;32m      2\u001b[0m \u001b[0;34m\u001b[0m\u001b[0m\n\u001b[1;32m      3\u001b[0m \u001b[0;32mdef\u001b[0m \u001b[0mnrecs\u001b[0m\u001b[0;34m(\u001b[0m\u001b[0mdata\u001b[0m\u001b[0;34m,\u001b[0m \u001b[0mval\u001b[0m\u001b[0;34m)\u001b[0m\u001b[0;34m:\u001b[0m\u001b[0;34m\u001b[0m\u001b[0;34m\u001b[0m\u001b[0m\n\u001b[1;32m      4\u001b[0m     \u001b[0mnn\u001b[0m \u001b[0;34m=\u001b[0m \u001b[0mnp\u001b[0m\u001b[0;34m.\u001b[0m\u001b[0mzeros\u001b[0m\u001b[0;34m(\u001b[0m\u001b[0mlen\u001b[0m\u001b[0;34m(\u001b[0m\u001b[0mval\u001b[0m\u001b[0;34m)\u001b[0m\u001b[0;34m)\u001b[0m\u001b[0;34m\u001b[0m\u001b[0;34m\u001b[0m\u001b[0m\n\u001b[1;32m      5\u001b[0m     \u001b[0;32mfor\u001b[0m \u001b[0mi\u001b[0m \u001b[0;32min\u001b[0m \u001b[0mrange\u001b[0m\u001b[0;34m(\u001b[0m\u001b[0mlen\u001b[0m\u001b[0;34m(\u001b[0m\u001b[0mval\u001b[0m\u001b[0;34m)\u001b[0m\u001b[0;34m)\u001b[0m\u001b[0;34m:\u001b[0m\u001b[0;34m\u001b[0m\u001b[0;34m\u001b[0m\u001b[0m\n",
      "\u001b[0;31mNameError\u001b[0m: name 'plt' is not defined"
     ]
    }
   ],
   "source": [
    "plt.close()\n",
    "\n",
    "def nrecs(data, val):\n",
    "    nn = np.zeros(len(val))\n",
    "    for i in range(len(val)):\n",
    "        nn[i] = len(data[data>val[i]])\n",
    "    return nn\n",
    "        \n",
    "fig = plt.figure(figsize=(10,8))\n",
    "ax1 = fig.add_subplot(2,2,1)\n",
    "thres = 1.5*sigma_std\n",
    "devs = abs(ADCstd-mean_std)\n",
    "nrecordss = nrecs(devs,devs)\n",
    "ax1.plot(nrecordss, devs, ls=\"\",marker=\".\", color=\"tab:green\" )\n",
    "ax1.axhline(sigma_std, ls=\"--\", color=\"tab:red\")\n",
    "ax1.text(1200, sigma_std, \"1*SIGMA_STDNOISE\")\n",
    "ax1.axhline(thres, ls=\"--\", color=\"tab:red\")\n",
    "ax1.text(1200, thres, \"1.5*SIGMA_STDNOISE\")\n",
    "ax1.fill_between(nrecordss, min(devs), max(devs), where=devs > thres, color='gray', alpha=0.05)\n",
    "ax1.set_xlabel(\"Number of records Deviation> Deviation\")\n",
    "ax1.set_ylabel(\"Deviation = abs(STD - <STD>)\")\n",
    "title = \"<STD>=\" + '{:0.2f}'.format(mean_std) + \";   SIGMA(STD)=\" + '{:0.2f}'.format(sigma_std)\n",
    "ax1.set_title(title)\n",
    "ints_to_remove_1 = np.where(devs>thres)[0]\n",
    "print(\"Using STDNOISE:\")\n",
    "print(\"Number of intervals > thres to remove:\", len(ints_to_remove_1))\n",
    "print(\"Intervals to remove:\", ints_to_remove_1)\n",
    "\n",
    "ax2 = fig.add_subplot(2,2,2)\n",
    "devm = abs(ADCmean - mean_base)\n",
    "nrecordsm = nrecs(devm, devm)\n",
    "ax2.plot(nrecordsm, devm, ls=\"\",marker=\".\", color=\"tab:green\" )\n",
    "thres = 1.5*sigma_base\n",
    "ax2.axhline(thres, ls=\"--\", color=\"tab:red\")\n",
    "ax2.fill_between(nrecordsm, min(devm), max(devm), where=devm > thres, color='gray', alpha=0.05)\n",
    "ax2.axhline(sigma_base, ls=\"--\", color=\"tab:red\")\n",
    "ax2.text(1250, sigma_base, \"1*SIGMA(baseline)\")\n",
    "ax2.axhline(thres, ls=\"--\", color=\"tab:red\")\n",
    "ax2.text(1250, thres, \"1.5*SIGMA(baseline)\")\n",
    "ax2.set_xlabel(\"Number of records Deviation> Deviation\")\n",
    "ax2.set_ylabel(\"Deviation = abs(BASELINE - <BASELINE>)\")\n",
    "#title = \"Deviation from mean NOISE BASELINE (\" + str(mean_base) + \")\"\n",
    "title = \"<BASELINE>=\" + '{:0.2f}'.format(mean_base) + \";   SIGMA(BASELINE)=\" + '{:0.2f}'.format(sigma_base)\n",
    "ax2.set_title(title)\n",
    "print(\"Using MEANNOISE Dev:\")\n",
    "ints_to_remove_2 = np.where(devm>thres)[0]\n",
    "print(\"Number of intervals > thres to remove:\", len(ints_to_remove_2))\n",
    "print(\"Intervals to remove:\", ints_to_remove_2)\n",
    "\n",
    "ax3 = fig.add_subplot(2,2,3)\n",
    "ax3.plot(ints_to_remove_1, len(ints_to_remove_1)*[0.5], color=\"tab:green\", \n",
    "         marker=\"o\", ls=\"\", alpha=0.5,fillstyle='none', label=\"Records STD\")\n",
    "ax3.plot(ints_to_remove_2, len(ints_to_remove_2)*[1], color=\"tab:blue\", \n",
    "         marker=\"x\", ls=\"\", alpha=0.5, label=\"Records BASELINE\")\n",
    "ax3.set_xlabel(\"Record number\")\n",
    "#ax4.plot(nrecordss, devs/max(devs), ls=\"\",marker=\".\" , label=\"Deviation: std\")\n",
    "#ax4.plot(nrecordsm, devm/max(devm), ls=\"\",marker=\".\" , label=\"Deviation: mean\")\n",
    "#ax4.axvline(167, ls=\"--\", color=\"tab:red\")\n",
    "#thres = devm[(np.abs(nrecordsm - 167)).argmin()]/max(devm)\n",
    "#ax4.axhline(thres, ls=\"--\", color=\"tab:red\")\n",
    "#ax4.set_xlabel(\"Number of records Deviation> Deviation\")\n",
    "#ax4.set_ylabel(\"Deviation\")\n",
    "#ax4.legend()\n",
    "#ydata = np.intersect1d(np.array(ints_to_remove_1), np.array(ints_to_remove_2))\n",
    "#ax3.plot(ydata, len(ydata)*[0.5], label=\"STDdev+ MEANdev\", ls=\"\", marker=\".\", fillstyle='none')\n",
    "ax3.set_ylim(0,2)\n",
    "ax3.legend()\n",
    "\n",
    "ax4 = fig.add_subplot(2,2,4)\n",
    "ydata = np.intersect1d(np.array(ints_to_remove_1), np.array(ints_to_remove_2))\n",
    "ax4.plot(ydata, len(ydata)*[0.5], ls=\"\", marker=\".\", fillstyle='none', label=\"In STD && BASELINE criteria\", color=\"magenta\")\n",
    "ydata2 = np.setdiff1d(np.array(ints_to_remove_1),np.array(ints_to_remove_2))\n",
    "ax4.plot(ydata2, len(ydata2)*[1], ls=\"\", marker=\".\", fillstyle='none', label=\"Only in STD || BASELINE criteria\")\n",
    "ax4.set_xlabel(\"Record number\")\n",
    "ax4.set_ylim(0,2)\n",
    "ax4.legend()\n",
    "\n",
    "fig.tight_layout()\n",
    "display(noiseData)\n"
   ]
  },
  {
   "cell_type": "code",
   "execution_count": null,
   "metadata": {},
   "outputs": [],
   "source": []
  }
 ],
 "metadata": {
  "kernelspec": {
   "display_name": "Python 3",
   "language": "python",
   "name": "python3"
  },
  "language_info": {
   "codemirror_mode": {
    "name": "ipython",
    "version": 3
   },
   "file_extension": ".py",
   "mimetype": "text/x-python",
   "name": "python",
   "nbconvert_exporter": "python",
   "pygments_lexer": "ipython3",
   "version": "3.8.3"
  },
  "toc-autonumbering": true,
  "toc-showcode": true,
  "toc-showmarkdowntxt": true
 },
 "nbformat": 4,
 "nbformat_minor": 4
}
