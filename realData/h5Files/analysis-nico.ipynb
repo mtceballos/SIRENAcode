{
 "cells": [
  {
   "cell_type": "markdown",
   "metadata": {},
   "source": [
    "# ANALYSIS OF REAL DATA (SRON)"
   ]
  },
  {
   "cell_type": "markdown",
   "metadata": {},
   "source": [
    "From real MnKa1, MnKa2, MnKb it creates a library of optimal filters and reconstruct (and calibrate) data calculating FWHM of lines\n",
    "\n",
    "0. Imports and definitions\n",
    "\n",
    "1. Creation of Kas library\n",
    "\n",
    "        1.1. Transform h5 files to FITS (using PHASE info) \n",
    "        1.2. Populate PH_ID column with row (record) number\n",
    "        1.3. Select records with Ka1 and Ka2 lines (by limiting the Pulse height)\n",
    "        1.4. Create a library with this new file with Kas lines\n",
    "\n",
    "2. Creation of Ka2 library\n",
    "\n",
    "    2.1 Reconstruct Kas data with initial library\n",
    "    \n",
    "    2.2 Select only Ka2 pulses not in multiple-pulse records (from R script)\n",
    "    \n",
    "        2.2.0 Find/identify multiple-pulse records\n",
    "        2.2.1 Read data from HR Kas evt file to identify Ka1 and Ka2\n",
    "        2.2.2 Fit a double Gaussian to select Ka2 pulses\n",
    "        2.2.3 Select PH_ID of (non)Ka2 pulses\n",
    "        2.2.4 Extract Ka2 pulses to build the new library\n",
    "        \n",
    "    2.3 Build the new library of Ka2 pulses\n",
    " \n",
    "3. Reconstruct all pulses with new Ka2 library\n",
    "\n",
    "4. Calibrate data fitting 2 Gaussians (Kas) + 1 Gaussian (Kb)\n",
    "\n",
    "        4.1 Read HR pulses\n",
    "        4.2 Fit 2 gaussians to Kas and 1 gaussian to Kb\n",
    "        4.3 Create gain scale\n",
    "        4.4 Calibrate energies\n",
    "        \n",
    "        \n",
    "5. Get FWHM of Kas lines fitting Voigt profiles\n",
    "\n",
    "6. Jitter correction\n",
    "\n",
    "    6.1 Plot recon PH vs PHASE (PHI+LAGS) & Fit a polynomial\n",
    "    \n",
    "    6.2 Fit gaussians, create new Gain scale and re-calibrate energies\n",
    "    \n",
    "    6.3 Fit histogram of jitter-corrected energies\n",
    "    \n",
    "7. baseline drift correction\n",
    "\n",
    "    7.1 Plot jiterr_recon PH vs Baseline & Fit polynomial\n",
    "    \n",
    "    7.2 Fit gaussians, create new Gain scale and re-calibrate energies\n",
    "    \n",
    "    7.3 Fit histogram of baseline-jitter-corrected energies\n",
    "        "
   ]
  },
  {
   "cell_type": "markdown",
   "metadata": {},
   "source": [
    "## 0) Imports and definitions"
   ]
  },
  {
   "cell_type": "code",
   "execution_count": 1,
   "metadata": {},
   "outputs": [],
   "source": [
    "from subprocess import check_call, check_output,STDOUT\n",
    "from astropy.io import fits\n",
    "from scipy.stats import norm\n",
    "from scipy.optimize import curve_fit\n",
    "from statistics import mean\n",
    "import math\n",
    "import sys, os\n",
    "import shutil, tempfile, shlex\n",
    "import numpy as np\n",
    "import numpy.polynomial.polynomial as poly\n",
    "import auxpy\n",
    "import matplotlib.pyplot as plt\n",
    "from datetime import datetime\n",
    "import pandas\n",
    "from astropy.modeling import models, fitting\n",
    "from lmfit import minimize, Parameters\n",
    "from scipy.stats import norm, cauchy\n",
    "#from numina.array.stats import summary\n",
    "\n",
    "cwd = os.getcwd()\n",
    "tmpDir = tempfile.mkdtemp()\n",
    "os.environ[\"PFILES\"] = tmpDir + \":\" + os.environ[\"PFILES\"]\n",
    "os.environ[\"HEADASNOQUERY\"] = \"\"\n",
    "os.environ[\"HEADASPROMPT\"] = \"/dev/null/\""
   ]
  },
  {
   "cell_type": "code",
   "execution_count": 2,
   "metadata": {},
   "outputs": [],
   "source": [
    "# data files\n",
    "fileNum = \"2\"\n",
    "noiseNum = \"2\"\n",
    "resDir = \"file\" + str(fileNum) + \"noise\" + str(noiseNum)\n",
    "if not os.path.exists(resDir):\n",
    "    os.makedirs(resDir)\n",
    "ratio = 5 # ratio Ka2_gaussProb/Ka1_gaussProb\n",
    "file0ph = \"file\" + fileNum + \"ph.fits\"   # initial file with all records\n",
    "fileph  = \"file\" + fileNum + \"ph_phid.fits\" # initial file with all records and PH_ID column populated\n",
    "fileph_Kas = \"file\" + fileNum + \"ph_phid_Kas.fits\" # data file with only those records with Kas lines\n",
    "noisefile = \"noise\" + noiseNum + \"ph_8192_noisespec.fits\""
   ]
  },
  {
   "cell_type": "code",
   "execution_count": 3,
   "metadata": {},
   "outputs": [],
   "source": [
    "PHmin = 159000 # ADC units to limit Kas lines\n",
    "PHmax = 161000 \n",
    "# Calibration lines CALDB20161122\n",
    "\n",
    "class RxLines(object):\n",
    "    def __init__(self, label, energy_eV, fwhm_eV, rel_amplitude):\n",
    "        self.label = label\n",
    "        self.energy_eV = energy_eV\n",
    "        self.fwhm_eV = fwhm_eV\n",
    "        self.rel_amplitude = rel_amplitude\n",
    "    \n",
    "MnKas_list = list()\n",
    "MnKas_list.append(RxLines(label='Ka1', energy_eV=5898.882, fwhm_eV=1.7145, rel_amplitude=0.784))\n",
    "MnKas_list.append(RxLines(label='Ka2', energy_eV=5897.898, fwhm_eV=2.0442, rel_amplitude=0.263))\n",
    "MnKas_list.append(RxLines(label='Ka3', energy_eV=5894.864, fwhm_eV=4.4985, rel_amplitude=0.067))\n",
    "MnKas_list.append(RxLines(label='Ka4', energy_eV=5896.566, fwhm_eV=2.6616, rel_amplitude=0.095))\n",
    "MnKas_list.append(RxLines(label='Ka5', energy_eV=5899.444, fwhm_eV=0.97669, rel_amplitude=0.071))\n",
    "MnKas_list.append(RxLines(label='Ka6', energy_eV=5902.712, fwhm_eV=1.5528, rel_amplitude=0.011))\n",
    "MnKas_list.append(RxLines(label='Ka7', energy_eV=5887.772, fwhm_eV=2.3604, rel_amplitude=0.369))\n",
    "MnKas_list.append(RxLines(label='Ka8', energy_eV=5886.528, fwhm_eV=4.2168, rel_amplitude=0.1))\n",
    "MnKas_cmass = 5894.40 # eV\n",
    "Ka1eV = 5.88765 # eV \n",
    "Ka2eV = 5.89875 # eV for lib creation\n",
    "\n",
    "MnKb_list = list()\n",
    "MnKb_list.append(RxLines(label='Kb1', energy_eV=6490.89, fwhm_eV=1.83, rel_amplitude=0.608))\n",
    "MnKb_list.append(RxLines(label='Kb2', energy_eV=6486.31, fwhm_eV=9.4, rel_amplitude=0.109))\n",
    "MnKb_list.append(RxLines(label='Kb3', energy_eV=6477.73, fwhm_eV=13.22, rel_amplitude=0.077))\n",
    "MnKb_list.append(RxLines(label='Kb4', energy_eV=6490.06, fwhm_eV=1.81, rel_amplitude=0.397))\n",
    "MnKb_list.append(RxLines(label='Kb5', energy_eV=6488.83, fwhm_eV=2.81, rel_amplitude=0.176))\n",
    "MnKb_cmass = 6486.38 # eV"
   ]
  },
  {
   "cell_type": "code",
   "execution_count": 4,
   "metadata": {},
   "outputs": [],
   "source": [
    "# library Kas creation\n",
    "plen = 8192\n",
    "oflen = 8192\n",
    "preBuffer = 0\n",
    "method = \"OPTFILT\"\n",
    "F0orB0 = \"F0\"\n",
    "nS = 5\n",
    "sU = 3\n",
    "sD = 4\n",
    "libKas = resDir + \"/\" + \"library_Kas_\" + str(plen) + \".fits\""
   ]
  },
  {
   "cell_type": "code",
   "execution_count": 5,
   "metadata": {},
   "outputs": [],
   "source": [
    "# reconstructed files\n",
    "evtKas_libKas = resDir + \"/\" + \"evt_file\" + fileNum + \"phKas_lib\" + noiseNum + \"file\" + fileNum + \"phKas_\" + method + str(oflen) + \".fits\"\n",
    "evtKas_libKas_HR = resDir + \"/\" + \"evt_file\" + fileNum + \"phKas_lib\" + noiseNum + \"file\" + fileNum + \"phKas_\" + method + str(oflen) + \"_HR.fits\"\n",
    "evtKas_libKa2 = resDir + \"/\" + \"evt_file\" + fileNum + \"phKas_lib\" + noiseNum + \"file\" + fileNum + \"phKa2_\" + method + str(oflen) + \".fits\"\n",
    "evtKas_libKa2_HR = resDir + \"/\" + \"evt_file\" + fileNum + \"phKas_lib\" + noiseNum + \"file\" + fileNum + \"phKa2_\" + method + str(oflen) + \"_HR.fits\"\n",
    "evt_libKa2 = resDir + \"/\" + \"evt_file\" + fileNum + \"ph_lib\" + noiseNum + \"file\" + fileNum + \"phKa2_\" + method + str(oflen) + \".fits\"\n",
    "evt_libKa2_HR = resDir + \"/\" + \"evt_file\" + fileNum + \"ph_lib\" + noiseNum + \"file\" + fileNum + \"phKa2_\" + method + str(oflen) + \"_HR.fits\"\n",
    "evt_libKa2_abs = resDir + \"/\" + \"evtabs_file\" + fileNum + \"ph_lib\" + noiseNum + \"file\" + fileNum + \"phKa2_\" + method + str(oflen) + \".fits\"\n",
    "evt_libKa2_abs_HR = resDir + \"/\" + \"evtabs_file\" + fileNum + \"ph_lib\" + noiseNum + \"file\" + fileNum + \"phKa2_\" + method + str(oflen) + \"_HR.fits\""
   ]
  },
  {
   "cell_type": "code",
   "execution_count": 6,
   "metadata": {},
   "outputs": [],
   "source": [
    "# library Ka2 creation\n",
    "fileph_Ka2 = resDir + \"/\" + \"file_Ka2.fits\" # data file with only those single records with Ka2 lines\n",
    "libKa2 = resDir + \"/\" + \"library_Ka2_ratio\" + str(ratio) + \"_\" + str(plen) + \".fits\""
   ]
  },
  {
   "cell_type": "markdown",
   "metadata": {},
   "source": [
    "## Auxiliary functions"
   ]
  },
  {
   "cell_type": "code",
   "execution_count": 7,
   "metadata": {},
   "outputs": [],
   "source": [
    "# EMPIRICAL CUMULATIVE DISTRIBUTION FUNCTION\n",
    "# also: from statsmodels.distributions.empirical_distribution import ECDF\n",
    "def ecdf(data):\n",
    "    \"\"\"Compute the Empirical Cumulative Distribution Function\"\"\"\n",
    "    x = np.sort(data)\n",
    "    n = x.size\n",
    "    y = np.arange(1, n + 1) / n\n",
    "    return x, y"
   ]
  },
  {
   "cell_type": "code",
   "execution_count": 58,
   "metadata": {},
   "outputs": [],
   "source": [
    "# Residuals of 2 GAUSS CDF model wrt the data\n",
    "def residual_2gauss(params, x, cdf_data):\n",
    "    w1 = params['w1'].value   # relative weight of 1st gauss\n",
    "    w2 = params['w2'].value   # relative weight of 2nd gauss\n",
    "    mu1 = params['mu1'].value\n",
    "    mu2 = params['mu2'].value\n",
    "    sigma1 = params['sigma1'].value\n",
    "    sigma2 = params['sigma2'].value\n",
    "    \n",
    "    model1 = norm.cdf(x, loc=mu1, scale=sigma1)\n",
    "    model2 = norm.cdf(x, loc=mu2, scale=sigma2)\n",
    "    model = model1 * w1 + model2 * w2\n",
    "    \n",
    "    return model - cdf_data"
   ]
  },
  {
   "cell_type": "code",
   "execution_count": 9,
   "metadata": {},
   "outputs": [],
   "source": [
    "# Residuals of 2 LORENTZIAN (CAUCHY) CDF model wrt the data\n",
    "def residual_2lorentz(params, x, cdf_data):\n",
    "    ndat = len(x)\n",
    "    w1 = params['n1'].value / ndat\n",
    "    w2 = 1 - w1\n",
    "    mu1 = params['mu1'].value\n",
    "    sigma1 = params['sigma1'].value\n",
    "    mu2 = params['mu2'].value\n",
    "    sigma2 = params['sigma2'].value\n",
    "    \n",
    "    model1 = cauchy.cdf(x, loc=mu1, scale=sigma1)\n",
    "    model2 = cauchy.cdf(x, loc=mu2, scale=sigma2)\n",
    "    model = model1 * w1 + model2 * w2\n",
    "    \n",
    "    return model - cdf_data"
   ]
  },
  {
   "cell_type": "code",
   "execution_count": 10,
   "metadata": {},
   "outputs": [],
   "source": [
    "# Residuals of 2 Voigt CDF model wrt the data\n",
    "def residual_2voigt(params, x, cdf_data):\n",
    "    w1a = params['w1a'].value\n",
    "    w1b = params['w1b'].value\n",
    "    w2a = params['w2a'].value\n",
    "    w2b = params['w2b'].value\n",
    "    mu1 = params['mu1'].value\n",
    "    mu2 = params['mu2'].value\n",
    "    sigmag = params['sigmag'].value\n",
    "    sigmal = params['sigmal'].value\n",
    "\n",
    "    model1a = norm.cdf(x, loc=mu1, scale=sigmag)\n",
    "    model2a = norm.cdf(x, loc=mu2, scale=sigmag)\n",
    "    model1b = cauchy.cdf(x, loc=mu1, scale=sigmal)\n",
    "    model2b = cauchy.cdf(x, loc=mu2, scale=sigmal)\n",
    "    model = model1a * w1a + model1b * w1b + model2a * w2a + model2b * w2b\n",
    "    \n",
    "    return model - cdf_data"
   ]
  },
  {
   "cell_type": "code",
   "execution_count": 51,
   "metadata": {},
   "outputs": [],
   "source": [
    "def plot_hist_2gauss(data, params, xlabel='x', labelprefix=''):\n",
    "\n",
    "    fig, ax = plt.subplots(ncols=1, nrows=1, figsize=(9, 6))\n",
    "    values, bins, patches = ax.hist(data, bins=100, density=True, alpha=0.5)\n",
    "    rug(ax,data)\n",
    "    ax.set_xlabel(xlabel)\n",
    "    ax.set_ylabel('probability density')\n",
    "\n",
    "    w1 = params['w1'].value\n",
    "    w2 = params['w2'].value\n",
    "    xmin = min(data)\n",
    "    xmax = max(data)\n",
    "    xplot = np.linspace(start=min(data), stop=max(data), num=100)\n",
    "    yplot1 = norm.pdf(xplot, loc=params['mu1'].value, scale=params['sigma1'].value) * w1\n",
    "    yplot2 = norm.pdf(xplot, loc=params['mu2'].value, scale=params['sigma2'].value) * w2\n",
    "    yplot = yplot1 + yplot2\n",
    "    ax.plot(xplot, yplot1, label=labelprefix + ' fun1')\n",
    "    ax.plot(xplot, yplot2, label=labelprefix + ' fun2')\n",
    "    ax.plot(xplot, yplot, label=labelprefix + ' fun1+fun2')\n",
    "    ax.legend()"
   ]
  },
  {
   "cell_type": "code",
   "execution_count": 12,
   "metadata": {},
   "outputs": [],
   "source": [
    "def plot_hist_2lorentz(data, params, xlabel='x', labelprefix=''):\n",
    "    ndat = len(data)\n",
    "\n",
    "    fig, ax = plt.subplots(ncols=1, nrows=1, figsize=(9, 6))\n",
    "    values, bins, patches = ax.hist(data, bins=100, density=True)\n",
    "    ax.plot(data, [0]*ndat, '|', color='k', markersize=30, alpha=0.2)\n",
    "    ax.set_xlabel(xlabel)\n",
    "    ax.set_ylabel('probability density')\n",
    "\n",
    "    w1 = params['n1'].value / ndat\n",
    "    w2 = 1 - w1\n",
    "    xmin = min(data)\n",
    "    xmax = max(data)\n",
    "    xplot = np.linspace(start=min(data), stop=max(data), num=100)\n",
    "    yplot1 = cauchy.pdf(xplot, loc=params['mu1'].value, scale=params['sigma1'].value) * w1\n",
    "    yplot2 = cauchy.pdf(xplot, loc=params['mu2'].value, scale=params['sigma2'].value) * w2\n",
    "    yplot = yplot1 + yplot2\n",
    "    ax.plot(xplot, yplot1, label=labelprefix + ' fun1')\n",
    "    ax.plot(xplot, yplot2, label=labelprefix + ' fun2')\n",
    "    ax.plot(xplot, yplot, label=labelprefix + ' fun1+fun2')\n",
    "    ax.legend()"
   ]
  },
  {
   "cell_type": "code",
   "execution_count": 13,
   "metadata": {},
   "outputs": [],
   "source": [
    "def plot_hist_2voigt(data, params, xlabel='x', labelprefix=''):\n",
    "    ndat = len(data)\n",
    "\n",
    "    fig, ax = plt.subplots(ncols=1, nrows=1, figsize=(9, 6))\n",
    "    values, bins, patches = ax.hist(data, bins=100, density=True)\n",
    "    ax.plot(data, [0]*ndat, '|', color='k', markersize=30, alpha=0.2)\n",
    "    ax.set_xlabel(xlabel)\n",
    "    ax.set_ylabel('probability density')\n",
    "\n",
    "    w1a = params['w1a'].value\n",
    "    w1b = params['w1b'].value\n",
    "    w2a = params['w2a'].value\n",
    "    w2b = params['w2b'].value\n",
    "    xmin = min(data)\n",
    "    xmax = max(data)\n",
    "    xplot = np.linspace(start=min(data), stop=max(data), num=100)\n",
    "    yplot1a = norm.pdf(xplot, loc=params['mu1'].value, scale=params['sigmag'].value) * w1a\n",
    "    yplot2a = norm.pdf(xplot, loc=params['mu2'].value, scale=params['sigmag'].value) * w2a\n",
    "    yplot1b = cauchy.pdf(xplot, loc=params['mu1'].value, scale=params['sigmal'].value) * w1b\n",
    "    yplot2b = cauchy.pdf(xplot, loc=params['mu2'].value, scale=params['sigmal'].value) * w2b\n",
    "    yplot = yplot1a + yplot1b + yplot2a + yplot2b\n",
    "    ax.plot(xplot, yplot1a, label=labelprefix + ' fun1a')\n",
    "    ax.plot(xplot, yplot1b, label=labelprefix + ' fun1b')\n",
    "    ax.plot(xplot, yplot2a, label=labelprefix + ' fun2a')\n",
    "    ax.plot(xplot, yplot2b, label=labelprefix + ' fun2b')\n",
    "    ax.plot(xplot, yplot, label=labelprefix + ' fun1ab+fun2ab')\n",
    "    ax.legend()"
   ]
  },
  {
   "cell_type": "code",
   "execution_count": 56,
   "metadata": {},
   "outputs": [],
   "source": [
    "def ecdf_2gauss(data, params, modellabel='model', plot=True):\n",
    "    # compute ECDF of data\n",
    "    xecdf_data, yecdf_data = ecdf(data=data)\n",
    "    \n",
    "    # compute CDF of model\n",
    "    ycdf_model1 = norm.cdf(xecdf_data, loc=params['mu1'].value, scale=params['sigma1'].value)\n",
    "    ycdf_model2 = norm.cdf(xecdf_data, loc=params['mu2'].value, scale=params['sigma2'].value)\n",
    "    w1 = params['w1'].value\n",
    "    w2 = params['w2'].value\n",
    "    ycdf_model = ycdf_model1 * w1 + ycdf_model2 * w2\n",
    "    \n",
    "    if plot:\n",
    "        fig, ax = plt.subplots(ncols=1, nrows=1, figsize=(9, 6))\n",
    "        ax.scatter(xecdf_data, yecdf_data, label='data')\n",
    "        ax.scatter(xecdf_data, ycdf_model, label=modellabel)\n",
    "        ax.legend()\n",
    "    \n",
    "    return xecdf_data, yecdf_data, ycdf_model"
   ]
  },
  {
   "cell_type": "code",
   "execution_count": 15,
   "metadata": {},
   "outputs": [],
   "source": [
    "def ecdf_2lorentz(data, params, modellabel='model', plot=True):\n",
    "    # compute ECDF of data\n",
    "    ndat = len(data)\n",
    "    xecdf_data, yecdf_data = ecdf(data=data)\n",
    "    \n",
    "    # compute CDF of model\n",
    "    ycdf_model1 = cauchy.cdf(xecdf_data, loc=params['mu1'].value, scale=params['sigma1'].value)\n",
    "    ycdf_model2 = cauchy.cdf(xecdf_data, loc=params['mu2'].value, scale=params['sigma2'].value)\n",
    "    w1 = params['n1'].value / ndat\n",
    "    w2 = 1 - w1\n",
    "    ycdf_model = ycdf_model1 * w1 + ycdf_model2 * w2\n",
    "    \n",
    "    if plot:\n",
    "        fig, ax = plt.subplots(ncols=1, nrows=1, figsize=(9, 6))\n",
    "        ax.scatter(xecdf_data, yecdf_data, label='data')\n",
    "        ax.scatter(xecdf_data, ycdf_model, label=modellabel)\n",
    "        ax.legend()\n",
    "    \n",
    "    return xecdf_data, yecdf_data, ycdf_model"
   ]
  },
  {
   "cell_type": "code",
   "execution_count": 16,
   "metadata": {},
   "outputs": [],
   "source": [
    "def ecdf_2voigt(data, params, modellabel='model', plot=True):\n",
    "    # compute ECDF of data\n",
    "    xecdf_data, yecdf_data = ecdf(data=data)\n",
    "    \n",
    "    # compute CDF of model\n",
    "    ycdf_model1a = norm.cdf(xecdf_data, loc=params['mu1'].value, scale=params['sigmag'].value)\n",
    "    ycdf_model2a = norm.cdf(xecdf_data, loc=params['mu2'].value, scale=params['sigmag'].value)\n",
    "    ycdf_model1b = cauchy.cdf(xecdf_data, loc=params['mu1'].value, scale=params['sigmal'].value)\n",
    "    ycdf_model2b = cauchy.cdf(xecdf_data, loc=params['mu2'].value, scale=params['sigmal'].value)\n",
    "    w1a = params['w1a'].value\n",
    "    w1b = params['w1b'].value\n",
    "    w2a = params['w2a'].value\n",
    "    w2b = params['w2b'].value\n",
    "    ycdf_model = ycdf_model1a * w1a + ycdf_model1b * w1b + \\\n",
    "                 ycdf_model2a * w2a + ycdf_model2b * w2b\n",
    "    \n",
    "    if plot:\n",
    "        fig, ax = plt.subplots(ncols=1, nrows=1, figsize=(9, 6))\n",
    "        ax.scatter(xecdf_data, yecdf_data, label='data')\n",
    "        ax.scatter(xecdf_data, ycdf_model, label=modellabel)\n",
    "        ax.legend()\n",
    "    \n",
    "    return xecdf_data, yecdf_data, ycdf_model"
   ]
  },
  {
   "cell_type": "code",
   "execution_count": 17,
   "metadata": {},
   "outputs": [],
   "source": [
    "def fit2GaussAndRatio(data=None, a1=50, a2=90, mean1=5.8, mean2=5.9, sig1=0.005, sig2=0.005, nbins1=200, xlab=None):\n",
    "\n",
    "    \"\"\"\"\n",
    "    \n",
    "    Fit 2 Gaussians (Ka1, Ka2) to Kas histogram \n",
    "    Histograms are created and plotted with matplotlib.pyplot.hist in Density\n",
    "    Gaussians functions from astropy.fitting module (fitting by LevMarLSQFitter)\n",
    "    \n",
    "    data1: (array) data for 1st histogram\n",
    "    a1: (float) initial amplitude for Gaussian1\n",
    "    a2: (float)initial amplitude for Gaussian2\n",
    "    mean1: (float)initial mean for Gaussian1\n",
    "    mean2: (float)initial mean for Gaussian2\n",
    "    sig1: (float)std dev for Gaussian1\n",
    "    sig2: (float)std dev for Gaussian2\n",
    "    nbins1: number of bins for first (Kas) histogram\n",
    "    \n",
    "    \"\"\"\n",
    "    fig = plt.figure(figsize=(16,6))\n",
    "    ax1 = fig.add_subplot(1, 2, 1)\n",
    "\n",
    "    # create histogram\n",
    "    bin_heights, bin_borders, _ = ax1.hist(data, bins=nbins1, density=True,label=\"Histogram\", alpha=0.5)\n",
    "    bin_centers = bin_borders[:-1] + np.diff(bin_borders) / 2\n",
    "    x_interval_for_fit = np.linspace(bin_borders[0], bin_borders[-1], 10000)\n",
    "\n",
    "    # fit two gaussians to density-histogram (also \"curve_fit\" ?)\n",
    "    gg_init = (models.Gaussian1D(amplitude=a1, mean=mean1, stddev=sig1) +\n",
    "               models.Gaussian1D(amplitude=a2, mean=mean2, stddev=sig2))\n",
    "    #fitter = fitting.SLSQPLSQFitter()\n",
    "    fitter = fitting.LevMarLSQFitter()\n",
    "    gg_fit = fitter(gg_init, bin_centers, bin_heights)\n",
    "    print(\"Message (Kas)=\", fitter.fit_info['message'])\n",
    "\n",
    "    #C1 = gg_fit.param_sets[0][0]\n",
    "    #mean1 = gg_fit.param_sets[1][0] #u.a.\n",
    "    #sigma1 = gg_fit.param_sets[2][0] #u.a.\n",
    "    #C2 = gg_fit.param_sets[3][0] \n",
    "    #mean2 = gg_fit.param_sets[4][0] #u.a.\n",
    "    #sigma2 = gg_fit.param_sets[5][0] #u.a.\n",
    "\n",
    "    C1 = gg_fit.amplitude_0[0]\n",
    "    mean1 = gg_fit.mean_0[0]\n",
    "    sigma1 = gg_fit.stddev_0[0]\n",
    "    fwhm1 = sigma1 *1000.* 2*np.sqrt(2*np.log(2)) #mu.a.\n",
    "    C2 = gg_fit.amplitude_1[0]\n",
    "    mean2 = gg_fit.mean_1[0]\n",
    "    sigma2 = gg_fit.stddev_1[0]\n",
    "    fwhm2 = sigma2 * 1000. * 2*np.sqrt(2*np.log(2)) #mu.a.\n",
    "    #gg_fit.fit_info['residuals']\n",
    "    g1 = models.Gaussian1D(amplitude=C1, mean=mean1, stddev=sigma1)\n",
    "    g2 = models.Gaussian1D(amplitude=C2, mean=mean2, stddev=sigma2)\n",
    "    ratioGG = g2(x_interval_for_fit)/g1(x_interval_for_fit)\n",
    "    #print(\"minGG=\",min(ratioGG), \"maxGG=\",max(ratioGG))\n",
    "\n",
    "    # plot histogram and Gaussians fit\n",
    "    ax1.plot(x_interval_for_fit, gg_fit(x_interval_for_fit), label='Gauss fit')\n",
    "    ax1.plot(x_interval_for_fit, g1(x_interval_for_fit), label=\"Gauss Ka1\")\n",
    "    ax1.plot(x_interval_for_fit, g2(x_interval_for_fit), label=\"Gauss Ka2\")\n",
    "    ax1.plot(x_interval_for_fit, ratioGG, label=\"ratio G2/G1\")\n",
    "    ax1.axhline(ratio,linestyle='--', color='tab:purple')\n",
    "    maxy = max(bin_heights)\n",
    "    ax1.text(5.87,maxy, \"Double Gaussian\", color='tab:orange')\n",
    "    ax1.text(5.87,maxy-10, \"Mean(Ka1)=\" + '{:0.3f}'.format(mean1) + \"a.u\", color='tab:green')\n",
    "    ax1.text(5.87,maxy-20, \"FWHM(Ka1)=\" + '{:0.3f}'.format(fwhm1) + \"ma.u\", color='tab:green')\n",
    "    ax1.text(5.87,maxy-30, \"Mean(Ka2)=\" + '{:0.3f}'.format(mean2) + \"a.u\", color='tab:red')\n",
    "    ax1.text(5.87,maxy-40, \"FWHM(Ka2)=\" + '{:0.3f}'.format(fwhm2) + \"ma.u\", color='tab:red')\n",
    "    ax1.set_xlabel(xlab)\n",
    "    ax1.set_ylabel(\"Density\")\n",
    "    ax1.set_xlim(5.86, 5.94)\n",
    "    ax1.set_ylim(0, 130)\n",
    "    plt.legend()\n",
    "    plt.show()\n",
    "    PHmin = x_interval_for_fit[ratioGG >= ratio][0]\n",
    "    PHmax = min(x_interval_for_fit[ratioGG >= ratio][-1], (mean2+10*sigma2))\n",
    "    print(\"Ka2 PHs in [\" + '{:0.3f}'.format(PHmin) + \",\" + '{:0.3f}'.format(PHmax) + \"] a.u.\")\n",
    "    return((PHmin,PHmax))"
   ]
  },
  {
   "cell_type": "code",
   "execution_count": 18,
   "metadata": {},
   "outputs": [],
   "source": [
    "def rug(ax, data):\n",
    "    ax.plot(data, [0]*len(data), '|', color='k', markersize=30, alpha=0.2)"
   ]
  },
  {
   "cell_type": "markdown",
   "metadata": {},
   "source": [
    "## 1) Creation of Kas library\n",
    "### 1.1 Transform h5 files to FITS (using PHASE)"
   ]
  },
  {
   "cell_type": "markdown",
   "metadata": {},
   "source": [
    "### 1.2 Populate PH_ID column with row (record) number\n",
    "The idea is to be able to later identify which records contains pulses with the appropriate energy to build the library"
   ]
  },
  {
   "cell_type": "code",
   "execution_count": 19,
   "metadata": {},
   "outputs": [],
   "source": [
    "run = False\n",
    "if run:\n",
    "    comm =  (\"fcalc infile=\" + file0ph + \"+8 outfile=\" + fileph + \" clname=PH_ID expr='#ROW'\")\n",
    "    try:\n",
    "        print(\"Populating PH_ID column\")\n",
    "        #print(comm)\n",
    "        args = shlex.split(comm)\n",
    "        check_call(args, stderr=STDOUT)\n",
    "    except:\n",
    "        print(\"Error populating PH_ID column with command:\\n\", comm)\n",
    "        shutil.rmtree(tmpDir)\n",
    "        raise"
   ]
  },
  {
   "cell_type": "markdown",
   "metadata": {},
   "source": [
    "### 1.3 Select records with Ka1 and Ka2 lines (by limiting the Pulse height)"
   ]
  },
  {
   "cell_type": "code",
   "execution_count": 20,
   "metadata": {},
   "outputs": [],
   "source": [
    "run = False\n",
    "if run:\n",
    "    comm = (\"fselect  infile=\" + fileph + \"+8 outfile=\" + fileph_Kas + \" expr='max(ADC)>\" + str(PHmin) + \" && max(ADC)<\" + str(PHmax) +\"'\")\n",
    "    try:\n",
    "        print(\"Selecting Kas by Pulse Height\")\n",
    "        #print(comm)\n",
    "        args = shlex.split(comm)\n",
    "        check_call(args, stderr=STDOUT)\n",
    "    except:\n",
    "        print(\"Error Selecting Kas by Pulse Height with command:\\n\", comm)\n",
    "        shutil.rmtree(tmpDir)\n",
    "        raise"
   ]
  },
  {
   "cell_type": "markdown",
   "metadata": {},
   "source": [
    "### 1.4 Create a library with this new file with Kas lines"
   ]
  },
  {
   "cell_type": "code",
   "execution_count": 21,
   "metadata": {},
   "outputs": [],
   "source": [
    "run = False\n",
    "if run:\n",
    "    tmpFile = resDir + \"/\" + \"pp\" + str(int(datetime.timestamp(datetime.now()))) + \".fits\"\n",
    "    comm = (\"tesreconstruction Recordfile=\" + fileph_Kas + \" TesEventFile=\" + tmpFile + \" Rcmethod='SIRENA'\" +\n",
    "            \" PulseLength=\" + str(plen) + \" LibraryFile=\" + libKas + \" scaleFactor=0 samplesUp=\" + str(sU) +\n",
    "            \" nSgms=\" + str(nS) + \" samplesDown=\" + str(sD) + \" opmode=0 OFLib=yes FilterDomain=F \" + \n",
    "            \" detectionMode=STC detectSP=1 FilterMethod=\" + F0orB0 + \" clobber=yes EventListSize=1000\" + \n",
    "            \" EnergyMethod=\" + method + \" LagsOrNot=1 tstartPulse1=0 tstartPulse2=0 OFNoise=NSD \" + \n",
    "            \" XMLFile=${SIXTE}/share/sixte/instruments/athena-xifu//xifu_detector_lpa_75um_AR0.5_pixoffset_mux40_pitch275um.xml\" +\n",
    "            \" filtEeV=\" + str(MnKas_cmass) + \" OFStrategy=FIXED OFLength=\" + str(oflen) + \" NoiseFile=\" + noisefile +\n",
    "            \" monoenergy=\" + str(MnKas_cmass) + \" preBuffer=\" + str(preBuffer))\n",
    "    try:\n",
    "        print(\"Building initial library (Kas)\")\n",
    "        print(comm)\n",
    "        args = shlex.split(comm)\n",
    "        check_call(args, stderr=STDOUT)\n",
    "    except:\n",
    "        print(\"Error Building initial library (Kas) with command:\\n\", comm)\n",
    "        shutil.rmtree(tmpDir)\n",
    "        raise\n",
    "    os.remove(tmpFile)"
   ]
  },
  {
   "cell_type": "markdown",
   "metadata": {
    "toc-hr-collapsed": true
   },
   "source": [
    "## 2. Creation of Ka2 library"
   ]
  },
  {
   "cell_type": "markdown",
   "metadata": {
    "toc-hr-collapsed": false
   },
   "source": [
    "### 2.1 Reconstruct real data with initial library"
   ]
  },
  {
   "cell_type": "code",
   "execution_count": 22,
   "metadata": {},
   "outputs": [],
   "source": [
    "run = False\n",
    "if run:\n",
    "    comm = (\"tesreconstruction Recordfile=\" + fileph_Kas + \" TesEventFile=\" + evtKas_libKas + \" Rcmethod='SIRENA'\" +\n",
    "            \" PulseLength=\" + str(plen) + \" LibraryFile=\" + libKas + \" scaleFactor=0 samplesUp=\" + str(sU) +\n",
    "            \" nSgms=\" + str(nS) + \" samplesDown=\" + str(sD) + \" opmode=1 OFLib=yes FilterDomain=F detectionMode=STC\" +\n",
    "            \" detectSP=1 FilterMethod=F0 clobber=yes EnergyMethod=\" + method + \" LagsOrNot=1 \" +\n",
    "            \" XMLFile=${SIXTE}/share/sixte/instruments/athena-xifu//xifu_detector_lpa_75um_AR0.5_pixoffset_mux40_pitch275um.xml\" +\n",
    "            \" filtEeV=\" + str(MnKas_cmass) + \" OFStrategy=FIXED OFLength=\" + str(oflen) + \" preBuffer=\" + str(preBuffer))\n",
    "    try:\n",
    "        print(\"Reconstructing real data w/ initial library (Kas)\")\n",
    "        print(comm)\n",
    "        args = shlex.split(comm)\n",
    "        check_call(args, stderr=STDOUT)\n",
    "    except:\n",
    "        print(\"Error Reconstructing real data w/ initial library (Kas) with command:\\n\", comm)\n",
    "        shutil.rmtree(tmpDir)\n",
    "        raise\n",
    "\n",
    "    # Select only HR events\n",
    "    comm = (\"fselect  infile=\" + evtKas_libKas + \" outfile=\" + evtKas_libKas_HR + \" expr='GRADE1 == \" + str(plen) + \n",
    "           \" && GRADE2 == \" + str(plen) + \"'\")\n",
    "    try:\n",
    "        print(\"Selecting HR Kas evts\")\n",
    "        print(comm)\n",
    "        args = shlex.split(comm)\n",
    "        check_call(args, stderr=STDOUT)\n",
    "    except:\n",
    "        print(\"Error Selecting HR Kas evts with command:\\n\", comm)\n",
    "        shutil.rmtree(tmpDir)\n",
    "        raise"
   ]
  },
  {
   "cell_type": "markdown",
   "metadata": {
    "toc-hr-collapsed": true
   },
   "source": [
    "### 2.2 Select only Ka2 pulses not in multiple-pulse records "
   ]
  },
  {
   "cell_type": "markdown",
   "metadata": {},
   "source": [
    "#### 2.2.0 Find/identify multiple-pulse records"
   ]
  },
  {
   "cell_type": "code",
   "execution_count": 23,
   "metadata": {},
   "outputs": [
    {
     "name": "stdout",
     "output_type": "stream",
     "text": [
      "FDUMPing evt file\n",
      "Number of Kas records in file2ph_phid_Kas.fits = 13082\n",
      "Number of Single Kas records in file2ph_phid_Kas.fits = 11280\n"
     ]
    }
   ],
   "source": [
    "# dump records info\n",
    "colname = \"'SIGNAL, PH_ID, GRADE1, GRADE2'\" \n",
    "comm = (\"fdump wrap=yes infile=\" + evtKas_libKas + \"+1 columns=\" + colname + \" rows='-' prhead=no \" +\n",
    "        \"showcol=yes showunit=no showrow=no outfile=pulse.txt clobber=yes\")\n",
    "try:\n",
    "    print(\"FDUMPing evt file\")\n",
    "    #print(comm)\n",
    "    args = shlex.split(comm)\n",
    "    check_call(args, stderr=STDOUT)\n",
    "except:\n",
    "    print(\"Error FDUMPing evt file with command:\\n\", comm)\n",
    "    shutil.rmtree(tmpDir)\n",
    "    raise\n",
    "    \n",
    "# find single records\n",
    "dataKas = pandas.read_csv(\"pulse.txt\", skiprows=0, sep=\"\\s+\")\n",
    "n_ocurr = dataKas.PH_ID.value_counts() # number of ocurrences of each PH_ID\n",
    "dataKas_single_PH_ID = list()\n",
    "for key in sorted(n_ocurr.keys()):\n",
    "    if n_ocurr[key] == 1:\n",
    "        #print(\"Single record for PH_ID=\", key)\n",
    "        dataKas_single_PH_ID.append(key)\n",
    "\n",
    "os.remove(\"pulse.txt\")\n",
    "#print(\"Single records in \",fileph_Kas, \"=\", dataKas_single_PH_ID)\n",
    "print(\"Number of Kas records in\",fileph_Kas, \"=\", len(dataKas))\n",
    "print(\"Number of Single Kas records in\",fileph_Kas, \"=\", len(dataKas_single_PH_ID))"
   ]
  },
  {
   "cell_type": "markdown",
   "metadata": {},
   "source": [
    "#### 2.2.1 Read data from HR Kas evt file to identify Ka1 and Ka2"
   ]
  },
  {
   "cell_type": "code",
   "execution_count": 24,
   "metadata": {},
   "outputs": [
    {
     "name": "stdout",
     "output_type": "stream",
     "text": [
      "FDUMPing evt file\n",
      "Number of HR Kas pulses in file2ph_phid_Kas.fits = 11299\n"
     ]
    }
   ],
   "source": [
    "colname = \"'SIGNAL, PH_ID, GRADE1, GRADE2'\" \n",
    "comm = (\"fdump wrap=yes infile=\" + evtKas_libKas_HR + \"+1 columns=\" + colname + \" rows='-' prhead=no \" +\n",
    "        \"showcol=yes showunit=no showrow=no outfile=pulse.txt clobber=yes\")\n",
    "try:\n",
    "    print(\"FDUMPing evt file\")\n",
    "    #print(comm)\n",
    "    args = shlex.split(comm)\n",
    "    check_call(args, stderr=STDOUT)\n",
    "except:\n",
    "    print(\"Error FDUMPing evt file with command:\\n\", comm)\n",
    "    shutil.rmtree(tmpDir)\n",
    "    raise\n",
    "dataKas_HR = pandas.read_csv(\"pulse.txt\", skiprows=0,sep=\"\\s+\")\n",
    "os.remove(\"pulse.txt\")\n",
    "print(\"Number of HR Kas pulses in\",fileph_Kas, \"=\", len(dataKas_HR))\n"
   ]
  },
  {
   "cell_type": "markdown",
   "metadata": {},
   "source": [
    "#### 2.2.2 Fit a double Gaussian to select Kas pulses"
   ]
  },
  {
   "cell_type": "code",
   "execution_count": 25,
   "metadata": {},
   "outputs": [
    {
     "name": "stdout",
     "output_type": "stream",
     "text": [
      "2.8551985423368262 6.0581199727309105\n",
      "5.83717392937771 5.9493532182958875\n",
      "Message (Kas)= The relative error between two consecutive iterates is at most 0.000000\n"
     ]
    },
    {
     "data": {
      "image/png": "[encoded data removed]",
      "text/plain": [
       "<Figure size 1152x432 with 1 Axes>"
      ]
     },
     "metadata": {
      "needs_background": "light"
     },
     "output_type": "display_data"
    },
    {
     "name": "stdout",
     "output_type": "stream",
     "text": [
      "Ka2 PHs in [5.905,5.922] a.u.\n",
      "PHmin= 5.905385758222846 PHmax= 5.922236772519787\n"
     ]
    }
   ],
   "source": [
    "nbinsKas = 200\n",
    "\n",
    "# select data in Kas range (otherwise there is always a smaller pulse comimg from multiple-pulse rows)\n",
    "print(min(dataKas_HR.SIGNAL), max(dataKas_HR.SIGNAL))\n",
    "dataKas_HR = dataKas_HR[(dataKas_HR.SIGNAL>5.80) & (dataKas_HR.SIGNAL<5.95)]\n",
    "print(min(dataKas_HR.SIGNAL), max(dataKas_HR.SIGNAL))\n",
    "(PHmin,PHmax) = fit2GaussAndRatio(data=dataKas_HR.SIGNAL, a1=60, a2=120, mean1=5.89, mean2=5.905, sig1=0.005, sig2=0.005, \n",
    "                            nbins1=nbinsKas, xlab=\"Reconstructed PH\")\n",
    "print(\"PHmin=\",PHmin, \"PHmax=\", PHmax)"
   ]
  },
  {
   "cell_type": "markdown",
   "metadata": {},
   "source": [
    "#### 2.2.3 Select PH_ID of (non)Ka2 pulses"
   ]
  },
  {
   "cell_type": "code",
   "execution_count": 26,
   "metadata": {},
   "outputs": [
    {
     "name": "stdout",
     "output_type": "stream",
     "text": [
      "Number of non-Ka2-single pulses: 7496\n"
     ]
    },
    {
     "name": "stderr",
     "output_type": "stream",
     "text": [
      "/home/ceballos/sw/anaconda3/lib/python3.6/site-packages/ipykernel_launcher.py:2: UserWarning: Boolean Series key will be reindexed to match DataFrame index.\n",
      "  \n"
     ]
    }
   ],
   "source": [
    "\n",
    "#select PH_IDs for Ka2 (in [PHmin,PHmax] interval)\n",
    "dataKa2 = dataKas_HR[(dataKas_HR.SIGNAL >= PHmin) & (dataKas.SIGNAL <= PHmax)]\n",
    "\n",
    "PH_ID_Ka2 = dataKa2.PH_ID.to_list()\n",
    "PH_ID_Ka2_single = set(PH_ID_Ka2).intersection(dataKas_single_PH_ID) # good Ka2 pulses\n",
    "\n",
    "#select PH_IDs to exclude Ka2 in single-pulse records\n",
    "PH_ID_noKa2 = list(set(dataKas.PH_ID.to_list()).difference(PH_ID_Ka2_single))\n",
    "print(\"Number of non-Ka2-single pulses:\", len(PH_ID_noKa2))"
   ]
  },
  {
   "cell_type": "markdown",
   "metadata": {},
   "source": [
    "#### 2.2.4 Extract Ka2 pulses to build a new library"
   ]
  },
  {
   "cell_type": "code",
   "execution_count": 27,
   "metadata": {},
   "outputs": [],
   "source": [
    "run = False\n",
    "if run:\n",
    "    tmpFile = resDir + \"/\" + \"pp\" + str(int(datetime.timestamp(datetime.now()))) + \".fits\"\n",
    "    nphs = len(PH_ID_noKa2)\n",
    "    # first iteration\n",
    "    expr = \"'PH_ID != \" + str(PH_ID_noKa2[0]) + \"'\"\n",
    "    comm = (\"fselect infile=\" + fileph_Kas + \"+8 outfile=\" + fileph_Ka2 + \" clobber=yes expr=\" + expr)\n",
    "    try:\n",
    "        print(\"Selecting Ka2 pulses\")\n",
    "        print(comm)\n",
    "        args = shlex.split(comm)\n",
    "        #check_call(args, stderr=STDOUT)\n",
    "    except:\n",
    "        print(\"Error Selecting Ka2 pulses with command:\\n\", comm)\n",
    "        shutil.rmtree(tmpDir)\n",
    "        raise\n",
    "    # other non-selections follow\n",
    "    iph = 1\n",
    "    while iph < nphs:\n",
    "        expr = \"'\"\n",
    "        iiph = 1\n",
    "        while (iiph < 20 and iph < nphs-1):\n",
    "            expr = expr + \"PH_ID != \" + str(PH_ID_noKa2[iph]) + \" && \"\n",
    "            iiph += 1\n",
    "            iph  += 1\n",
    "\n",
    "        expr = expr + \"PH_ID != \" + str(PH_ID_noKa2[iph]) + \"'\"\n",
    "        iph += 1\n",
    "        comm = (\"fselect infile=\" + fileph_Ka2 + \"+8 outfile=\" + tmpFile + \" clobber=yes expr=\" + expr)\n",
    "        try:\n",
    "            print(\"Selecting Ka2 pulses\")\n",
    "            print(\"iph=\" + str(iph) + \"/\" + str(nphs))\n",
    "            print(comm)\n",
    "            args = shlex.split(comm)\n",
    "            #check_call(args, stderr=STDOUT)\n",
    "        except RuntimeError:\n",
    "            print(\"Error Selecting Ka2 pulses with command:\\n\", comm)\n",
    "            shutil.rmtree(tmpDir)\n",
    "            raise\n",
    "\n",
    "        shutil.copy(tmpFile, fileph_Ka2)\n",
    "        os.remove(tmpFile)\n",
    "        \n",
    "    print(\"Finshed selection of Ka2 events\")\n",
    "    #raise SystemExit(\"Stop after selection of Ka2\")"
   ]
  },
  {
   "cell_type": "markdown",
   "metadata": {
    "toc-hr-collapsed": false
   },
   "source": [
    "### 2.3 Build the new library of Ka2 pulses"
   ]
  },
  {
   "cell_type": "code",
   "execution_count": 28,
   "metadata": {},
   "outputs": [],
   "source": [
    "run = False\n",
    "if run:\n",
    "    tmpFile = resDir + \"/\" + \"pp\" + str(int(datetime.timestamp(datetime.now()))) + \".fits\"\n",
    "    comm = (\"tesreconstruction Recordfile=\" + fileph_Ka2 + \" TesEventFile=\" + tmpFile + \" Rcmethod='SIRENA'\" +\n",
    "            \" PulseLength=\" + str(plen) + \" LibraryFile=\" + libKa2 + \" scaleFactor=0 samplesUp=\" + str(sU) +\n",
    "            \" nSgms=\" + str(nS) + \" samplesDown=\" + str(sD) + \" opmode=0 OFLib=yes FilterDomain=F \" + \n",
    "            \" detectionMode=STC detectSP=1 FilterMethod=\" + F0orB0 + \" clobber=yes EventListSize=1000\" + \n",
    "            \" EnergyMethod=\" + method + \" LagsOrNot=1 tstartPulse1=0 tstartPulse2=0 OFNoise=NSD \" + \n",
    "            \" XMLFile=${SIXTE}/share/sixte/instruments/athena-xifu//xifu_detector_lpa_75um_AR0.5_pixoffset_mux40_pitch275um.xml\" +\n",
    "            \" filtEeV=\" + str(Ka2eV) + \" OFStrategy=FIXED OFLength=\" + str(oflen) + \" NoiseFile=\" + noisefile +\n",
    "            \" monoenergy=\" + str(Ka2eV) + \" preBuffer=\" + str(preBuffer))\n",
    "    try:\n",
    "        print(\"Building initial library (Kas)\")\n",
    "        print(comm)\n",
    "        args = shlex.split(comm)\n",
    "        check_call(args, stderr=STDOUT)\n",
    "    except:\n",
    "        print(\"Error Building initial library (Kas) with command:\\n\", comm)\n",
    "        shutil.rmtree(tmpDir)\n",
    "        raise\n",
    "    os.remove(tmpFile)"
   ]
  },
  {
   "cell_type": "markdown",
   "metadata": {
    "toc-hr-collapsed": false
   },
   "source": [
    "## 3. Reconstruct all pulses with new Ka2 library"
   ]
  },
  {
   "cell_type": "code",
   "execution_count": 29,
   "metadata": {},
   "outputs": [],
   "source": [
    "run = False\n",
    "if run:\n",
    "    comm = (\"tesreconstruction Recordfile=\" + fileph + \" TesEventFile=\" + evt_libKa2 + \" Rcmethod='SIRENA'\" +\n",
    "            \" PulseLength=\" + str(plen) + \" LibraryFile=\" + libKa2 + \" scaleFactor=0 samplesUp=\" + str(sU) +\n",
    "            \" nSgms=\" + str(nS) + \" samplesDown=\" + str(sD) + \" opmode=1 OFLib=yes FilterDomain=F detectionMode=STC\" +\n",
    "            \" detectSP=1 FilterMethod=F0 clobber=yes EnergyMethod=\" + method + \" LagsOrNot=1 \" +\n",
    "            \" XMLFile=${SIXTE}/share/sixte/instruments/athena-xifu//xifu_detector_lpa_75um_AR0.5_pixoffset_mux40_pitch275um.xml\" +\n",
    "            \" filtEeV=\" + str(Ka2eV) + \" OFStrategy=FIXED OFLength=\" + str(oflen) + \" preBuffer=\" + str(preBuffer))\n",
    "    try:\n",
    "        print(\"Reconstructing real data w/ library (Ka2)\")\n",
    "        print(comm)\n",
    "        args = shlex.split(comm)\n",
    "        check_call(args, stderr=STDOUT)\n",
    "    except:\n",
    "        print(\"Error Reconstructing real data w/ initial library (Ka2) with command:\\n\", comm)\n",
    "        shutil.rmtree(tmpDir)\n",
    "        raise\n",
    "\n",
    "    # Select only HR events\n",
    "    comm = (\"fselect  infile=\" + evt_libKa2 + \" outfile=\" + evt_libKa2_HR + \" expr='GRADE1 == \" + str(plen) + \n",
    "           \" && GRADE2 == \" + str(plen) + \"'\")\n",
    "    try:\n",
    "        print(\"Selecting HR evts\")\n",
    "        print(comm)\n",
    "        args = shlex.split(comm)\n",
    "        check_call(args, stderr=STDOUT)\n",
    "    except:\n",
    "        print(\"Error Selecting HR Kas & Kb evts with command:\\n\", comm)\n",
    "        shutil.rmtree(tmpDir)\n",
    "        raise"
   ]
  },
  {
   "cell_type": "markdown",
   "metadata": {
    "toc-hr-collapsed": false
   },
   "source": [
    "## 4. Fit Voigt profiles (and calibrate data)"
   ]
  },
  {
   "cell_type": "markdown",
   "metadata": {},
   "source": [
    "### 4.1 Read HR pulses"
   ]
  },
  {
   "cell_type": "code",
   "execution_count": 39,
   "metadata": {},
   "outputs": [
    {
     "name": "stdout",
     "output_type": "stream",
     "text": [
      "FDUMPing evt file\n",
      "Number of initial (all energies) HR pulses: 13758\n"
     ]
    }
   ],
   "source": [
    "colname = \"'SIGNAL, PH_ID, GRADE1, GRADE2, PHI, LAGS, BSLN'\" \n",
    "comm = (\"fdump wrap=yes infile=\" + evt_libKa2_HR + \"+1 columns=\" + colname + \" rows='-' prhead=no \" +\n",
    "        \"showcol=yes showunit=no showrow=no outfile=pulse.txt clobber=yes pagewidth=256\")\n",
    "try:\n",
    "    print(\"FDUMPing evt file\")\n",
    "    #print(comm)\n",
    "    args = shlex.split(comm)\n",
    "    check_call(args, stderr=STDOUT)\n",
    "except:\n",
    "    print(\"Error FDUMPing evt file with command:\\n\", comm)\n",
    "    shutil.rmtree(tmpDir)\n",
    "    raise\n",
    "data_HR = pandas.read_csv(\"pulse.txt\", skiprows=0,sep=\"\\s+\")\n",
    "os.remove(\"pulse.txt\")\n",
    "print(\"Number of initial (all energies) HR pulses:\", len(data_HR)) \n",
    "#print(data_HR)\n"
   ]
  },
  {
   "cell_type": "markdown",
   "metadata": {},
   "source": [
    "### 4.2 Plot initial data"
   ]
  },
  {
   "cell_type": "code",
   "execution_count": 117,
   "metadata": {},
   "outputs": [
    {
     "name": "stdout",
     "output_type": "stream",
     "text": [
      "Missing 1 records due to unusual baseline(< 100000.0 )\n",
      "Missing 1 records due to unusual baseline(< 100000.0 )\n",
      "100701\n"
     ]
    },
    {
     "data": {
      "text/plain": [
       "Text(0,0.5,'number of pulses')"
      ]
     },
     "execution_count": 117,
     "metadata": {},
     "output_type": "execute_result"
    },
    {
     "data": {
      "image/png": "[encoded data removed]",
      "text/plain": [
       "<Figure size 1296x432 with 2 Axes>"
      ]
     },
     "metadata": {
      "needs_background": "light"
     },
     "output_type": "display_data"
    }
   ],
   "source": [
    "nbinsKas = 100\n",
    "nbinsKb = 100\n",
    "minBSLN = 1e5\n",
    "\n",
    "# select data in Kas range (otherwise there is always a smaller pulse comimg from multiple rows)\n",
    "dataKas_HR = data_HR[(data_HR.SIGNAL>5.88) & (data_HR.SIGNAL<5.92)]\n",
    "len1 = len(dataKas_HR)\n",
    "dataKas_HR = dataKas_HR[dataKas_HR.BSLN>minBSLN]\n",
    "len2 = len(dataKas_HR)\n",
    "print(\"Missing\",(len1-len2), \"records due to unusual baseline(<\", minBSLN,\")\")\n",
    "\n",
    "# select data in Kb range\n",
    "dataKb_HR = data_HR[(data_HR.SIGNAL>6.20) & (data_HR.SIGNAL<6.30)]\n",
    "len1 = len(dataKb_HR)\n",
    "dataKb_HR = dataKb_HR[dataKb_HR.BSLN>minBSLN]\n",
    "len2 = len(dataKb_HR)\n",
    "print(\"Missing\",(len1-len2), \"records due to unusual baseline(<\", minBSLN,\")\")\n",
    "print(min(dataKb_HR.BSLN))\n",
    "\n",
    "# INITIAL plot of data\n",
    "fig, axarr = plt.subplots(nrows=1, ncols=2, figsize=(18, 6))\n",
    "ax1, ax2 = axarr\n",
    "values, bins, patches = ax1.hist(dataKas_HR.SIGNAL, bins=nbinsKas, alpha=0.5)\n",
    "rug(ax1, dataKas_HR.SIGNAL)\n",
    "ax1.set_xlabel('reconstructed PH (a.u.)')\n",
    "ax1.set_ylabel('number of pulses')\n",
    "\n",
    "values, bins, patches = ax2.hist(dataKb_HR.SIGNAL, bins=nbinsKb, alpha=0.5)\n",
    "rug(ax2, dataKb_HR.SIGNAL)\n",
    "ax2.set_xlabel('reconstructed PH (a.u.)')\n",
    "ax2.set_ylabel('number of pulses')\n",
    "\n",
    "\n"
   ]
  },
  {
   "cell_type": "markdown",
   "metadata": {},
   "source": [
    "### 4.3 Rescale the data prior to the fitting procedure"
   ]
  },
  {
   "cell_type": "code",
   "execution_count": 118,
   "metadata": {},
   "outputs": [],
   "source": [
    "# factors \"by eye\"\n",
    "global_mean_Kas = 5.90\n",
    "global_mean_Kb = 6.25\n",
    "global_scale = 100\n",
    "dataKas_HR_nor = (dataKas_HR.SIGNAL - global_mean_Kas) * global_scale\n",
    "dataKb_HR_nor = (dataKb_HR.SIGNAL - global_mean_Kb) * global_scale"
   ]
  },
  {
   "cell_type": "code",
   "execution_count": 119,
   "metadata": {},
   "outputs": [
    {
     "data": {
      "text/plain": [
       "Text(0,0.5,'number of pulses')"
      ]
     },
     "execution_count": 119,
     "metadata": {},
     "output_type": "execute_result"
    },
    {
     "data": {
      "image/png": "[encoded data removed]",
      "text/plain": [
       "<Figure size 1296x432 with 2 Axes>"
      ]
     },
     "metadata": {
      "needs_background": "light"
     },
     "output_type": "display_data"
    }
   ],
   "source": [
    "# INITIAL plot of data\n",
    "fig, axarr = plt.subplots(nrows=1, ncols=2, figsize=(18, 6))\n",
    "ax1, ax2 = axarr\n",
    "values, bins, patches = ax1.hist(dataKas_HR_nor, bins=nbinsKas, alpha=0.5)\n",
    "rug(ax1, dataKas_HR_nor)\n",
    "ax1.set_xlabel('rescaled reconstructed PH (a.u.)')\n",
    "ax1.set_ylabel('number of pulses')\n",
    "\n",
    "values, bins, patches = ax2.hist(dataKb_HR_nor, bins=nbinsKb, alpha=0.5)\n",
    "rug(ax2, dataKb_HR_nor)\n",
    "ax2.set_xlabel('rescaled reconstructed PH (a.u.)')\n",
    "ax2.set_ylabel('number of pulses')"
   ]
  },
  {
   "cell_type": "markdown",
   "metadata": {
    "toc-hr-collapsed": false
   },
   "source": [
    "### 4.4 Fit of two Gaussians\n",
    "\n",
    "#### Initial solution guess"
   ]
  },
  {
   "cell_type": "code",
   "execution_count": 125,
   "metadata": {},
   "outputs": [
    {
     "name": "stdout",
     "output_type": "stream",
     "text": [
      "Name       Value      Min      Max   Stderr     Vary     Expr Brute_Step\n",
      "mu1         -0.5       -1        0     None     True     None     None\n",
      "mu2          0.5        0        1     None     True     None     None\n",
      "sigma1       0.3     0.01      0.6     None     True     None     None\n",
      "sigma2       0.3     0.01        1     None     True     None     None\n",
      "w1        0.3333    0.001     0.99     None     True     None     None\n",
      "w2        0.6667    0.001     0.99     None    False     1-w1     None\n"
     ]
    }
   ],
   "source": [
    "# Kas\n",
    "params = Parameters()\n",
    "params.add('w1', value=1/3, min=0.001, max = 0.99)\n",
    "params.add('w2', expr='1-w1', min=0.001, max = 0.99)\n",
    "params.add('mu1', value=-0.5, min=-1.0, max = 0)\n",
    "params.add('mu2', value=0.5, min=0., max = 1.)\n",
    "params.add('sigma1', value=0.3, min = 0.01, max = 0.6)\n",
    "params.add('sigma2', value=0.3, min = 0.01, max = 1)\n",
    "params.pretty_print()"
   ]
  },
  {
   "cell_type": "code",
   "execution_count": 126,
   "metadata": {},
   "outputs": [
    {
     "data": {
      "image/png": "[encoded data removed]",
      "text/plain": [
       "<Figure size 648x432 with 1 Axes>"
      ]
     },
     "metadata": {
      "needs_background": "light"
     },
     "output_type": "display_data"
    }
   ],
   "source": [
    "plot_hist_2gauss(data=dataKas_HR_nor, params=params, xlabel='rescaled reconstructed PH', labelprefix='initial')"
   ]
  },
  {
   "cell_type": "code",
   "execution_count": 127,
   "metadata": {},
   "outputs": [
    {
     "data": {
      "image/png": "[encoded data removed]",
      "text/plain": [
       "<Figure size 648x432 with 1 Axes>"
      ]
     },
     "metadata": {
      "needs_background": "light"
     },
     "output_type": "display_data"
    }
   ],
   "source": [
    "# plot CDF for data and initial model\n",
    "xecdf_data, yecdf_data, ycdf_model = \\\n",
    "    ecdf_2gauss(data=dataKas_HR_nor, params=params, modellabel='initial model', plot=True)"
   ]
  },
  {
   "cell_type": "code",
   "execution_count": 128,
   "metadata": {},
   "outputs": [
    {
     "name": "stdout",
     "output_type": "stream",
     "text": [
      "Name       Value      Min      Max   Stderr     Vary     Expr Brute_Step\n",
      "mu1      -0.2304       -1        0 0.001234     True     None     None\n",
      "mu2       0.4257        0        1 0.0004748     True     None     None\n",
      "sigma1    0.3458     0.01      0.6 0.0007855     True     None     None\n",
      "sigma2    0.2288     0.01        1 0.0003051     True     None     None\n",
      "w1        0.4923    0.001     0.99 0.001353     True     None     None\n",
      "w2        0.5077    0.001     0.99 0.001353    False     1-w1     None\n"
     ]
    }
   ],
   "source": [
    "# fitting with lmfit.minimize\n",
    "out = minimize(residual_2gauss, params, args=(xecdf_data, yecdf_data))\n",
    "out.params.pretty_print()"
   ]
  },
  {
   "cell_type": "code",
   "execution_count": 129,
   "metadata": {},
   "outputs": [
    {
     "data": {
      "image/png": "[encoded data removed]",
      "text/plain": [
       "<Figure size 648x432 with 1 Axes>"
      ]
     },
     "metadata": {
      "needs_background": "light"
     },
     "output_type": "display_data"
    }
   ],
   "source": [
    "plot_hist_2gauss(data=dataKas_HR_nor, params=out.params, xlabel='rescaled reconstructed PH', labelprefix='fitted')"
   ]
  },
  {
   "cell_type": "code",
   "execution_count": 116,
   "metadata": {},
   "outputs": [
    {
     "data": {
      "image/png": "[encoded data removed]",
      "text/plain": [
       "<Figure size 648x432 with 1 Axes>"
      ]
     },
     "metadata": {
      "needs_background": "light"
     },
     "output_type": "display_data"
    }
   ],
   "source": [
    "xecdf_data, yecdf_data, ycdf_model = \\\n",
    "    ecdf_2gauss(data=dataKas_HR_nor, params=out.params, modellabel='fitted model', plot=True)"
   ]
  },
  {
   "cell_type": "code",
   "execution_count": null,
   "metadata": {},
   "outputs": [],
   "source": []
  },
  {
   "cell_type": "code",
   "execution_count": null,
   "metadata": {},
   "outputs": [],
   "source": []
  },
  {
   "cell_type": "code",
   "execution_count": null,
   "metadata": {},
   "outputs": [],
   "source": []
  },
  {
   "cell_type": "code",
   "execution_count": null,
   "metadata": {},
   "outputs": [],
   "source": []
  },
  {
   "cell_type": "code",
   "execution_count": null,
   "metadata": {},
   "outputs": [],
   "source": []
  },
  {
   "cell_type": "code",
   "execution_count": null,
   "metadata": {},
   "outputs": [],
   "source": []
  },
  {
   "cell_type": "markdown",
   "metadata": {},
   "source": [
    "### 4.4 Calibrate energies"
   ]
  },
  {
   "cell_type": "code",
   "execution_count": null,
   "metadata": {},
   "outputs": [],
   "source": [
    "eners_HR = inter + slope * data_HR.SIGNAL\n",
    "# select data in Kas/Kb range (otherwise there is always a smaller pulse comimg from multiple rows)\n",
    "enerKs_HR = eners_HR[(eners_HR > 5.80) & (eners_HR < 6.6)]\n",
    "\n",
    "# create histogram\n",
    "fig = plt.figure(figsize=(16,6))\n",
    "ax1 = fig.add_subplot(1, 2, 1)\n",
    "bin_heights, bin_borders, _ = ax1.hist(enerKs_HR,bins=200, density=True,label=\"Histogram\", alpha=0.5)\n",
    "bin_centers = bin_borders[:-1] + np.diff(bin_borders) / 2\n",
    "x_interval_for_fit = np.linspace(bin_borders[0], bin_borders[-1], 10000)\n",
    "ax1.set_xlabel(\"Calibrated energies (keV)\")\n",
    "ax1.set_ylabel(\"Density\")\n"
   ]
  },
  {
   "cell_type": "markdown",
   "metadata": {},
   "source": [
    "## 5. Get FWHM of Kas lines fitting Voigt profiles"
   ]
  },
  {
   "cell_type": "code",
   "execution_count": null,
   "metadata": {},
   "outputs": [],
   "source": [
    "nbinsKas = 100\n",
    "nbinsKb = 100\n",
    "# select data in Kas/Kb range (otherwise there is always a smaller pulse comimg from multiple rows)\n",
    "enerKas_HR = eners_HR[(eners_HR > 5.85) & (eners_HR < 5.94)]\n",
    "#enerKas_HR.to_csv(resDir + \"/enerKas_HR.hist\", header=None, index=False )\n",
    "enerKb_HR = eners_HR[(eners_HR>6.35) & (eners_HR<6.6)]\n",
    "\n",
    "fit3Voigt2hist(data1=enerKas_HR, data2=enerKb_HR, a1=30, a2=60, a3=60, x0_1=Ka1keV, x0_2=Ka2keV, x0_3=KbkeV, \n",
    "                   fwhm_L1=0.005, fwhm_L2=0.005, fwhm_L3=0.005, fwhm_G1=0.002, fwhm_G2=0.002, \n",
    "                   fwhm_G3=0.002, nbins1=nbinsKas, nbins2=nbinsKb)"
   ]
  },
  {
   "cell_type": "markdown",
   "metadata": {
    "toc-hr-collapsed": true
   },
   "source": [
    "## 6. Jitter correction"
   ]
  },
  {
   "cell_type": "markdown",
   "metadata": {},
   "source": [
    "### 6.1 Plot Pulse Height vs PHASE (distance between trigger and parabola fit = PHI + LAGS) & fit polynomial"
   ]
  },
  {
   "cell_type": "code",
   "execution_count": null,
   "metadata": {},
   "outputs": [],
   "source": [
    "# FROM ABOVE:\n",
    "#dataKas_HR = data_HR[(data_HR.SIGNAL>5.80) & (data_HR.SIGNAL<5.95) & (data_HR.BSLN>50000)]\n",
    "#dataKb_HR = data_HR[(data_HR.SIGNAL>6.15) & (data_HR.SIGNAL<6.35) & (data_HR.BSLN>50000)]\n",
    "\n",
    "phaseKas_HR = dataKas_HR.PHI + dataKas_HR.LAGS\n",
    "phaseKb_HR = dataKb_HR.PHI + dataKb_HR.LAGS\n",
    "#print(len(phaseKas_HR))\n",
    "\n",
    "dataKas_HR_jitter = jitterCorr(reconPH=dataKas_HR.SIGNAL, phase=phaseKas_HR)\n",
    "dataKb_HR_jitter = jitterCorr(reconPH=dataKb_HR.SIGNAL, phase=phaseKb_HR)\n"
   ]
  },
  {
   "cell_type": "markdown",
   "metadata": {},
   "source": [
    "### 6.2 Fit gaussians, create new Gain scale and re-calibrate energies"
   ]
  },
  {
   "cell_type": "code",
   "execution_count": null,
   "metadata": {},
   "outputs": [],
   "source": [
    "nbinsKas = 200\n",
    "nbinsKb = 200\n",
    "\n",
    "(mean1j, mean2j, mean3j) = fit3gauss2hist(data1=dataKas_HR_jitter, data2=dataKb_HR_jitter, a1=56, a2=110, a3=100, \n",
    "                                       mean1=5.895, mean2=5.905, mean3=6.25, sig1=0.005, sig2=0.005, sig3=0.005,\n",
    "                                       nbins1=nbinsKas, nbins2=nbinsKb, plot=True)"
   ]
  },
  {
   "cell_type": "code",
   "execution_count": null,
   "metadata": {},
   "outputs": [],
   "source": [
    "# create gain scale\n",
    "recon_lines = (mean1j,mean2j,mean3j)\n",
    "(slope, inter) = gainScaleFit(xData=recon_lines, yData=lines)"
   ]
  },
  {
   "cell_type": "code",
   "execution_count": null,
   "metadata": {},
   "outputs": [],
   "source": [
    "# recalibrate energies\n",
    "enerKas_HR_jitter = inter + slope * dataKas_HR_jitter\n",
    "enerKb_HR_jitter = inter + slope * dataKb_HR_jitter\n",
    "print(min(enerKas_HR_jitter), max(enerKas_HR_jitter))"
   ]
  },
  {
   "cell_type": "markdown",
   "metadata": {},
   "source": [
    "### 6.3 Fit histogram of jitter-corrected energies"
   ]
  },
  {
   "cell_type": "code",
   "execution_count": null,
   "metadata": {},
   "outputs": [],
   "source": [
    "nbinsKas = 200\n",
    "nbinsKb = 200\n",
    "\n",
    "fit3Voigt2hist(data1=enerKas_HR_jitter, data2=enerKb_HR_jitter, a1=40, a2=70, a3=60,\n",
    "               x0_1=Ka1keV, x0_2=Ka2keV, x0_3=KbkeV, fwhm_L1=0.005, fwhm_L2=0.005, fwhm_L3=0.005, \n",
    "               fwhm_G1=0.0001, fwhm_G2=0.0001, fwhm_G3=0.001, nbins1=nbinsKas, nbins2=nbinsKb)\n"
   ]
  },
  {
   "cell_type": "markdown",
   "metadata": {
    "toc-hr-collapsed": false
   },
   "source": [
    "## 7. baseline drift correction"
   ]
  },
  {
   "cell_type": "markdown",
   "metadata": {},
   "source": [
    "### 7.1 Plot jiterr_recon PH vs Baseline & Fit polynomial\n"
   ]
  },
  {
   "cell_type": "code",
   "execution_count": null,
   "metadata": {},
   "outputs": [],
   "source": [
    "baseKas_HR = dataKas_HR.BSLN - 1e5\n",
    "baseKb_HR = dataKb_HR.BSLN - 1e5\n",
    "print(min(dataKb_HR.BSLN))\n",
    "\n",
    "######## Kas ####################\n",
    "# plot baselines\n",
    "fig = plt.figure(figsize=(20,12))\n",
    "ax1 = fig.add_subplot(2, 2, 1)\n",
    "ax1.scatter(baseKas_HR, dataKas_HR_jitter, marker=\"o\")\n",
    "# fit polynomial\n",
    "x_interval_for_fit = np.linspace(min(baseKas_HR), max(baseKas_HR), 10000)\n",
    "coefs = poly.polyfit(x=baseKas_HR, y=dataKas_HR_jitter, deg=2) \n",
    "#print(coefs)\n",
    "ffit = poly.polyval(x_interval_for_fit, coefs)\n",
    "ax1.plot(x_interval_for_fit, ffit,'-', color=\"red\")\n",
    "ax1.set_xlabel(\"(pre) baseline (a.u.)\")\n",
    "ax1.set_ylabel(\"Jitter-corr PH Kas (a.u.)\")\n",
    "print(\"Fit Kas=\",'{:0.3f}'.format(coefs[0]) + \"+ (\" + '{:0.3f}'.format(coefs[1]) + \")*x\" + \"+(\" + '{:0.3f}'.format(coefs[2]) + \")*x²\" )\n",
    "# subtract polynomial (flat baseline effect)\n",
    "ax2 = fig.add_subplot(2, 2, 2)\n",
    "dataKas_HR_jitter_bsln = dataKas_HR_jitter - coefs[1]*baseKas_HR - coefs[2]*baseKas_HR**2\n",
    "ax2.scatter(baseKas_HR, dataKas_HR_jitter_bsln, marker=\"o\")\n",
    "ax2.set_xlabel(\"(pre) baseline (a.u.)\")\n",
    "ax2.set_ylabel(\"BSLN+JITTER Corrected PH Kas (a.u.)\")\n",
    "coefsB = poly.polyfit(x=baseKas_HR, y=dataKas_HR_jitter_bsln, deg=2)\n",
    "print(\"Fit Kas (corrected)=\",'{:0.3f}'.format(coefsB[0]) + \"+ (\" + '{:0.3f}'.format(coefsB[1]) + \")*x\" + \"+(\" + '{:0.3f}'.format(coefsB[2]) + \")*x²\" )\n",
    "ffitB = poly.polyval(x_interval_for_fit, coefsB)\n",
    "ax2.plot(x_interval_for_fit, ffitB,'-', color=\"white\")\n",
    "\n",
    "######## Kb ####################\n",
    "# plot baselines\n",
    "ax3 = fig.add_subplot(2, 2, 3)\n",
    "ax3.scatter(baseKb_HR, dataKb_HR_jitter, marker=\"o\")\n",
    "# fit polynomial\n",
    "x_interval_for_fit = np.linspace(min(baseKb_HR), max(baseKb_HR), 10000)\n",
    "coefs = poly.polyfit(x=baseKb_HR, y=dataKb_HR_jitter, deg=2) # recommended instead of np.polyfit + np.poly1d\n",
    "ffit = poly.polyval(x_interval_for_fit, coefs)\n",
    "ax3.plot(x_interval_for_fit, ffit,'-', color=\"red\")\n",
    "ax3.set_xlabel(\"(pre) baseline (a.u.)\")\n",
    "ax3.set_ylabel(\"Jitter-corr PH Kas (a.u.)\")\n",
    "print(\"Fit Kb=\",'{:0.3f}'.format(coefs[0]) + \"+ (\" + '{:0.3f}'.format(coefs[1]) + \")*x\" + \"+(\" + '{:0.3f}'.format(coefs[2]) + \")*x²\" )\n",
    "# subtract polynomial (flat jitter effect)\n",
    "ax4 = fig.add_subplot(2, 2, 4)\n",
    "dataKb_HR_jitter_bsln = dataKb_HR_jitter - coefs[1]*baseKb_HR - coefs[2]*baseKb_HR**2\n",
    "ax4.scatter(baseKb_HR, dataKb_HR_jitter_bsln, marker=\"o\")\n",
    "ax4.set_xlabel(\"(pre) baseline (a.u.)\")\n",
    "ax4.set_ylabel(\"BSLN+JITTER Corrected PH Kas (a.u.)\")\n",
    "coefsB = poly.polyfit(x=baseKb_HR, y=dataKb_HR_jitter_bsln, deg=2)\n",
    "print(\"Fit Kb (corrected)=\",'{:0.3f}'.format(coefsB[0]) + \"+ (\" + '{:0.3f}'.format(coefsB[1]) + \")*x\" + \"+(\" + '{:0.3f}'.format(coefsB[2]) + \")*x²\" )\n",
    "ffitB = poly.polyval(x_interval_for_fit, coefsB)\n",
    "ax4.plot(x_interval_for_fit, ffitB,'-', color=\"white\")"
   ]
  },
  {
   "cell_type": "markdown",
   "metadata": {},
   "source": [
    "### 7.2 Fit gaussians, create new Gain scale and re-calibrate energies"
   ]
  },
  {
   "cell_type": "code",
   "execution_count": null,
   "metadata": {},
   "outputs": [],
   "source": [
    "nbinsKas = 200\n",
    "nbinsKb = 200\n",
    "\n",
    "(mean1bsln, mean2bsln, mean3bsln) = fit3gauss2hist(data1=dataKas_HR_jitter_bsln, data2=dataKb_HR_jitter_bsln, \n",
    "                                                   a1=60, a2=120, a3=110, mean1=5.86, mean2=5.87, mean3=6.24,\n",
    "                                                   sig1=0.005, sig2=0.005, sig3=0.005, nbins1=nbinsKas, nbins2=nbinsKb, plot=True)"
   ]
  },
  {
   "cell_type": "code",
   "execution_count": null,
   "metadata": {},
   "outputs": [],
   "source": [
    "# create gain scale\n",
    "recon_lines = (mean1bsln,mean2bsln,mean3bsln)\n",
    "(slope, inter) = gainScaleFit(xData=recon_lines, yData=lines)\n"
   ]
  },
  {
   "cell_type": "code",
   "execution_count": null,
   "metadata": {},
   "outputs": [],
   "source": [
    "# recalibrate energies\n",
    "#enerKas_HR_jitter_bsln = coefs[0] + coefs[1] * dataKas_HR_jitter_bsln + coefs[2] * dataKas_HR_jitter_bsln**2\n",
    "#enerKb_HR_jitter_bsln = coefs[0] + coefs[1] * dataKb_HR_jitter_bsln + coefs[2] * dataKb_HR_jitter_bsln**2\n",
    "enerKas_HR_jitter_bsln = inter + slope * dataKas_HR_jitter_bsln\n",
    "enerKb_HR_jitter_bsln = inter + slope * dataKb_HR_jitter_bsln"
   ]
  },
  {
   "cell_type": "code",
   "execution_count": null,
   "metadata": {},
   "outputs": [],
   "source": [
    "nbinsKas = 200\n",
    "nbinsKb = 200\n",
    "fig = plt.figure(figsize=(20,6))\n",
    "ax1 = fig.add_subplot(1, 2, 1)\n",
    "\n",
    "# create histogram\n",
    "bin_heights, bin_borders, _ = ax1.hist(enerKas_HR_jitter_bsln,bins=nbinsKas, density=True,label=\"Histogram\", alpha=0.5)\n",
    "ax1.set_xlim(5.85, 5.94)\n",
    "ax1.set_xlabel(\"Energy (keV)\")\n",
    "ax1.set_ylabel(\"Density\")\n",
    "ax1.axvline(Ka1keV,linestyle='--', color='gray')\n",
    "ax1.axvline(Ka2keV,linestyle='--', color='gray')\n"
   ]
  },
  {
   "cell_type": "markdown",
   "metadata": {
    "toc-hr-collapsed": false
   },
   "source": [
    "### 7.3 Fit histogram of baseline-jitter-corrected energies"
   ]
  },
  {
   "cell_type": "code",
   "execution_count": null,
   "metadata": {},
   "outputs": [],
   "source": [
    "nbinsKas = 200\n",
    "nbinsKb = 200\n",
    "\n",
    "fit3Voigt2hist(data1=enerKas_HR_jitter_bsln, data2=enerKb_HR_jitter_bsln, a1=50, a2=85, a3=90,\n",
    "               x0_1=Ka1keV, x0_2=Ka2keV, x0_3=KbkeV, fwhm_L1=0.005, fwhm_L2=0.005, fwhm_L3=0.005, \n",
    "               fwhm_G1=0.0001, fwhm_G2=0.0001, fwhm_G3=0.001, nbins1=nbinsKas, nbins2=nbinsKb)\n"
   ]
  },
  {
   "cell_type": "markdown",
   "metadata": {},
   "source": [
    "## 8. Absolute value"
   ]
  },
  {
   "cell_type": "markdown",
   "metadata": {},
   "source": [
    "### 8.1 Reconstruct pulses with Ka2 library and absolute values"
   ]
  },
  {
   "cell_type": "code",
   "execution_count": null,
   "metadata": {},
   "outputs": [],
   "source": [
    "run = False\n",
    "if run:\n",
    "    comm = (\"tesreconstruction Recordfile=\" + fileph + \" TesEventFile=\" + evt_libKa2_abs + \" Rcmethod='SIRENA'\" +\n",
    "            \" PulseLength=\" + str(plen) + \" LibraryFile=\" + libKa2 + \" scaleFactor=0 samplesUp=\" + str(sU) +\n",
    "            \" nSgms=\" + str(nS) + \" samplesDown=\" + str(sD) + \" opmode=1 OFLib=yes FilterDomain=F detectionMode=STC\" +\n",
    "            \" detectSP=1 FilterMethod=F0 clobber=yes EnergyMethod=\" + method + \" LagsOrNot=1 \" +\n",
    "            \" XMLFile=${SIXTE}/share/sixte/instruments/athena-xifu//xifu_detector_lpa_75um_AR0.5_pixoffset_mux40_pitch275um.xml\" +\n",
    "            \" filtEeV=\" + str(Ka2eV) + \" OFStrategy=FIXED OFLength=\" + str(oflen) + \" preBuffer=\" + str(preBuffer))\n",
    "    try:\n",
    "        print(\"Reconstructing real data w/ library (Ka2)\")\n",
    "        print(comm)\n",
    "        args = shlex.split(comm)\n",
    "        #check_call(args, stderr=STDOUT)\n",
    "    except:\n",
    "        print(\"Error Reconstructing real data w/ initial library (Ka2) with command:\\n\", comm)\n",
    "        shutil.rmtree(tmpDir)\n",
    "        raise\n",
    "\n",
    "    # Select only HR events\n",
    "    comm = (\"fselect  infile=\" + evt_libKa2_abs + \" outfile=\" + evt_libKa2_abs_HR + \" expr='GRADE1 == \" + str(plen) + \n",
    "           \" && GRADE2 == \" + str(plen) + \"'\")\n",
    "    try:\n",
    "        print(\"Selecting HR evts\")\n",
    "        #print(comm)\n",
    "        args = shlex.split(comm)\n",
    "        check_call(args, stderr=STDOUT)\n",
    "    except:\n",
    "        print(\"Error Selecting HR Kas & Kb evts with command:\\n\", comm)\n",
    "        shutil.rmtree(tmpDir)\n",
    "        raise"
   ]
  },
  {
   "cell_type": "markdown",
   "metadata": {},
   "source": [
    "### 8.2 Read HR pulses"
   ]
  },
  {
   "cell_type": "code",
   "execution_count": null,
   "metadata": {},
   "outputs": [],
   "source": [
    "colname = \"'SIGNAL, PH_ID, GRADE1, GRADE2, PHI, LAGS, BSLN'\" \n",
    "comm = (\"fdump wrap=yes infile=\" + evt_libKa2_abs_HR + \"+1 columns=\" + colname + \" rows='-' prhead=no \" +\n",
    "        \"showcol=yes showunit=no showrow=no outfile=pulse.txt clobber=yes pagewidth=256\")\n",
    "try:\n",
    "    print(\"FDUMPing evt file\")\n",
    "    #print(comm)\n",
    "    args = shlex.split(comm)\n",
    "    check_call(args, stderr=STDOUT)\n",
    "except:\n",
    "    print(\"Error FDUMPing evt file with command:\\n\", comm)\n",
    "    shutil.rmtree(tmpDir)\n",
    "    raise\n",
    "dataAbs_HR = pandas.read_csv(\"pulse.txt\", skiprows=0,sep=\"\\s+\")\n",
    "os.remove(\"pulse.txt\")\n",
    "print(\"Number of initial (all energies) HR pulses:\", len(dataAbs_HR)) \n",
    "#print(dataAbs_HR)"
   ]
  },
  {
   "cell_type": "markdown",
   "metadata": {},
   "source": [
    "### 8.3 Fit 2 gaussians to Kas and 1 gaussian to Kb"
   ]
  },
  {
   "cell_type": "code",
   "execution_count": null,
   "metadata": {},
   "outputs": [],
   "source": [
    "nbinsKas = 200\n",
    "nbinsKb = 200\n",
    "minBSLN = 1e5\n",
    "# select data in Kas range (otherwise there is always a smaller pulse comimg from multiple rows)\n",
    "dataKasAbs_HR = dataAbs_HR[(dataAbs_HR.SIGNAL>5.80) & (dataAbs_HR.SIGNAL<5.95)]\n",
    "len1 = len(dataKasAbs_HR)\n",
    "dataKasAbs_HR = dataKasAbs_HR[dataKasAbs_HR.BSLN>minBSLN]\n",
    "len2 = len(dataKasAbs_HR)\n",
    "print(\"Missing\",(len1-len2), \"records due to unusual baseline(<\", minBSLN,\")\")\n",
    "\n",
    "# select data in Kb range\n",
    "dataKbAbs_HR = dataAbs_HR[(dataAbs_HR.SIGNAL>6.15) & (dataAbs_HR.SIGNAL<6.35)]\n",
    "len1 = len(dataKbAbs_HR)\n",
    "dataKbAbs_HR = dataKbAbs_HR[dataKbAbs_HR.BSLN>minBSLN]\n",
    "len2 = len(dataKbAbs_HR)\n",
    "print(\"Missing\",(len1-len2), \"records due to unusual baseline(<\", minBSLN,\")\")\n",
    "print(\"Min baseline=\",min(dataKbAbs_HR.BSLN))\n",
    "\n",
    "# Fit Gaussians and plot results\n",
    "(mean1abs, mean2abs,mean3abs) = fit3gauss2hist(data1=dataKasAbs_HR.SIGNAL, data2=dataKbAbs_HR.SIGNAL, \n",
    "                                               a1=56, a2=110, a3=100, mean1=5.89, mean2=5.90, mean3=6.25, \n",
    "                                               sig1=0.005, sig2=0.005, sig3=0.005, \n",
    "                                               nbins1=nbinsKas, nbins2=nbinsKb, plot=True)\n"
   ]
  },
  {
   "cell_type": "markdown",
   "metadata": {},
   "source": [
    "### 8.4 Create gain scale"
   ]
  },
  {
   "cell_type": "code",
   "execution_count": null,
   "metadata": {},
   "outputs": [],
   "source": [
    "lines = (Ka1keV, Ka2keV, KbkeV)\n",
    "recon_lines = (mean1abs,mean2abs,mean3abs)"
   ]
  },
  {
   "cell_type": "code",
   "execution_count": null,
   "metadata": {},
   "outputs": [],
   "source": [
    "# gain scale\n",
    "(slopeAbs, interAbs) = gainScaleFit(xData=recon_lines, yData=lines)"
   ]
  },
  {
   "cell_type": "markdown",
   "metadata": {},
   "source": [
    "### 8.5 Calibrate energies"
   ]
  },
  {
   "cell_type": "code",
   "execution_count": null,
   "metadata": {},
   "outputs": [],
   "source": [
    "enersAbs_HR = interAbs + slopeAbs * dataAbs_HR.SIGNAL\n",
    "# select data in Kas/Kb range (otherwise there is always a smaller pulse comimg from multiple rows)\n",
    "enerKsAbs_HR = enersAbs_HR[(enersAbs_HR > 5.80) & (enersAbs_HR < 6.6)]\n",
    "\n",
    "# create histogram\n",
    "fig = plt.figure(figsize=(16,6))\n",
    "ax1 = fig.add_subplot(1, 2, 1)\n",
    "bin_heights, bin_borders, _ = ax1.hist(enerKsAbs_HR,bins=200, density=True,label=\"Histogram\", alpha=0.5)\n",
    "bin_centers = bin_borders[:-1] + np.diff(bin_borders) / 2\n",
    "x_interval_for_fit = np.linspace(bin_borders[0], bin_borders[-1], 10000)\n",
    "ax1.set_xlabel(\"Calibrated energies (keV) - abs. value scalar prod.\")\n",
    "ax1.set_ylabel(\"Density\")\n"
   ]
  },
  {
   "cell_type": "markdown",
   "metadata": {},
   "source": [
    "### 8.6. Get FWHM of Kas lines fitting Voigt profiles"
   ]
  },
  {
   "cell_type": "code",
   "execution_count": null,
   "metadata": {},
   "outputs": [],
   "source": [
    "nbinsKas = 100\n",
    "nbinsKb = 100\n",
    "enerKasAbs_HR = enersAbs_HR[(enersAbs_HR > 5.85) & (enersAbs_HR < 5.94)]\n",
    "#enerKasAbs_HR.to_csv(resDir + \"/enerKasAbs_HR.hist\", header=None, index=False )\n",
    "enerKbAbs_HR = enersAbs_HR[(enersAbs_HR>6.35) & (enersAbs_HR<6.6)]\n",
    "\n",
    "fit3Voigt2hist(data1=enerKasAbs_HR, data2=enerKbAbs_HR, a1=50, a2=70, a3=50,\n",
    "               x0_1=Ka1keV, x0_2=Ka2keV, x0_3=KbkeV, fwhm_L1=0.005, fwhm_L2=0.005, fwhm_L3=0.005, \n",
    "               fwhm_G1=0.0001, fwhm_G2=0.0001, fwhm_G3=0.001, nbins1=nbinsKas, nbins2=nbinsKb)\n"
   ]
  },
  {
   "cell_type": "markdown",
   "metadata": {},
   "source": [
    "### 8.7. Jitter correction"
   ]
  },
  {
   "cell_type": "markdown",
   "metadata": {},
   "source": [
    "#### 8.7.1 Plot energy vs PHASE (distance between trigger and parabola fit = PHI + LAGS) & fit polynomial"
   ]
  },
  {
   "cell_type": "code",
   "execution_count": null,
   "metadata": {},
   "outputs": [],
   "source": [
    "# FROM ABOVE:\n",
    "#dataKasAbs_HR \n",
    "#dataKbAbs_HR \n",
    "\n",
    "phaseKasAbs_HR = dataKasAbs_HR.PHI + dataKasAbs_HR.LAGS\n",
    "phaseKbAbs_HR = dataKbAbs_HR.PHI + dataKbAbs_HR.LAGS\n",
    "#print(len(phaseKas_HR))\n",
    "\n",
    "dataKasAbs_HR_jitter = jitterCorr(reconPH=dataKasAbs_HR.SIGNAL, phase=phaseKasAbs_HR)\n",
    "dataKbAbs_HR_jitter = jitterCorr(reconPH=dataKbAbs_HR.SIGNAL, phase=phaseKbAbs_HR)"
   ]
  },
  {
   "cell_type": "code",
   "execution_count": null,
   "metadata": {},
   "outputs": [],
   "source": []
  }
 ],
 "metadata": {
  "kernelspec": {
   "display_name": "Python 3",
   "language": "python",
   "name": "python3"
  },
  "language_info": {
   "codemirror_mode": {
    "name": "ipython",
    "version": 3
   },
   "file_extension": ".py",
   "mimetype": "text/x-python",
   "name": "python",
   "nbconvert_exporter": "python",
   "pygments_lexer": "ipython3",
   "version": "3.6.8"
  },
  "toc": {
   "base_numbering": 1,
   "nav_menu": {},
   "number_sections": true,
   "sideBar": true,
   "skip_h1_title": false,
   "title_cell": "Table of Contents",
   "title_sidebar": "Contents",
   "toc_cell": false,
   "toc_position": {
    "height": "calc(100% - 180px)",
    "left": "10px",
    "top": "150px",
    "width": "353.333px"
   },
   "toc_section_display": true,
   "toc_window_display": true
  },
  "toc-autonumbering": false,
  "toc-showcode": false,
  "toc-showmarkdowntxt": false,
  "varInspector": {
   "cols": {
    "lenName": 16,
    "lenType": 16,
    "lenVar": 40
   },
   "kernels_config": {
    "python": {
     "delete_cmd_postfix": "",
     "delete_cmd_prefix": "del ",
     "library": "var_list.py",
     "varRefreshCmd": "print(var_dic_list())"
    },
    "r": {
     "delete_cmd_postfix": ") ",
     "delete_cmd_prefix": "rm(",
     "library": "var_list.r",
     "varRefreshCmd": "cat(var_dic_list()) "
    }
   },
   "types_to_exclude": [
    "module",
    "function",
    "builtin_function_or_method",
    "instance",
    "_Feature"
   ],
   "window_display": false
  }
 },
 "nbformat": 4,
 "nbformat_minor": 2
}
