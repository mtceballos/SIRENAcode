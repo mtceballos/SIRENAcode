{
 "cells": [
  {
   "cell_type": "markdown",
   "metadata": {},
   "source": [
    "# Baseline Sensitivity Study for a pulse of 7keK without noise\n",
    "\n"
   ]
  },
  {
   "cell_type": "code",
   "execution_count": 1,
   "metadata": {},
   "outputs": [],
   "source": [
    "# ----IMPORT MODULES --------------\n",
    "from __future__ import print_function\n",
    "from __future__ import division\n",
    "from multiprocessing import Pool, cpu_count\n",
    "from itertools import repeat\n",
    "from subprocess import check_call, check_output,STDOUT\n",
    "from cycler import cycler\n",
    "from astropy.io import fits\n",
    "from scipy.stats import norm\n",
    "from statistics import mean\n",
    "import math\n",
    "import sys, os\n",
    "import shutil, tempfile, shlex\n",
    "import re\n",
    "import warnings\n",
    "import numpy as np\n",
    "from sklearn.metrics import mean_squared_error\n",
    "from numpy.polynomial import Polynomial\n",
    "import auxpy\n",
    "import matplotlib.pyplot as plt\n",
    "from mpl_toolkits.mplot3d import Axes3D\n",
    "from matplotlib import cm\n",
    "from matplotlib.ticker import LinearLocator, FormatStrFormatter\n",
    "from ipywidgets import interact, interactive, fixed, interact_manual\n",
    "import ipywidgets as widgets\n",
    "\n",
    "cwd = os.getcwd()\n",
    "tmpDir = tempfile.mkdtemp()\n",
    "os.environ[\"PFILES\"] = tmpDir + \":\" + os.environ[\"PFILES\"]\n",
    "os.environ[\"HEADASNOQUERY\"] = \"\"\n",
    "os.environ[\"HEADASPROMPT\"] = \"/dev/null/\"\n",
    "eurecaDir = \"/dataj6/ceballos/INSTRUMEN/EURECA\"\n",
    "sixteDir = eurecaDir + \"/testHarness/simulations/SIXTE\"\n",
    "sixteInst = os.environ[\"SIXTE\"] + \"/share/sixte/instruments/athena-xifu/\"\n",
    "sixteInst = \"/dataj4/software/SIXTE/git/gitInstall\" + \"/share/sixte/instruments/athena-xifu/\"\n",
    "xmlfile = sixteInst + \"/xifu_detector_lpa_75um_AR0.5_pixoffset_mux40_pitch275um.xml\"\n"
   ]
  },
  {
   "cell_type": "markdown",
   "metadata": {},
   "source": [
    "# Define variables "
   ]
  },
  {
   "cell_type": "code",
   "execution_count": 16,
   "metadata": {},
   "outputs": [],
   "source": [
    "pulseLength=(128,256,512,1024,1500,2048,2500,3000,3500,4096,4500, 5000, 5500, 6000,7000, 8192) # or shorter lengths\n",
    "ofLength=(128,256,512,1024,2048,4096,8192) # for 0-padding or shorter filters otherwise\n"
   ]
  },
  {
   "cell_type": "markdown",
   "metadata": {},
   "source": [
    "# ... and filenames"
   ]
  },
  {
   "cell_type": "code",
   "execution_count": 17,
   "metadata": {},
   "outputs": [],
   "source": [
    "name = \"pulse7keVnonoise\"\n",
    "name_TBhigher = \"pulse7keVnonoise_TBhigher\"\n",
    "\n",
    "inputFile = \"/dataj6/ceballos/INSTRUMEN/EURECA/ERESOL/baselineSensitivity/\" + name + \".fits\"\n",
    "inputFile_TBhigher = \"/dataj6/ceballos/INSTRUMEN/EURECA/ERESOL/baselineSensitivity/\" + name_TBhigher + \".fits\"\n",
    "\n",
    "libfile = \"/dataj6/ceballos/INSTRUMEN/EURECA/testHarness/simulations/SIXTE/LIBRARIES/xifusimLPA75um/GLOBAL/ADC/library6keV_PL8192_20000p_jitter_bbfb.fits\"\n",
    "#xmlfile = \"/home/EURECA/share/sixte/instruments/athena-xifu/xifu_detector_lpa_75um_AR0.5_pixoffset_mux40_pitch275um.xml\"\n",
    "\n",
    "# a) Filenames for 0-padding \n",
    "# ========================================================\n",
    "evtFs = list()\n",
    "evtFs_calib = list()\n",
    "evtTBFs = list()\n",
    "evtTBFs_calib = list()\n",
    "\n",
    "for i in range(0,len(pulseLength)):    \n",
    "    file = (\"/dataj6/ceballos/INSTRUMEN/EURECA/ERESOL/baselineSensitivity/\" + name + \"_pL\" + str(pulseLength[i]) + \".fits\")\n",
    "    #print(file)\n",
    "    evtFs.append(file)\n",
    "    \n",
    "    file = (\"/dataj6/ceballos/INSTRUMEN/EURECA/ERESOL/baselineSensitivity/\" + name + \"_pL\" + str(pulseLength[i]) + \"_HR.calib\")\n",
    "    #print(file)\n",
    "    evtFs_calib.append(file)\n",
    "    \n",
    "    file = (\"/dataj6/ceballos/INSTRUMEN/EURECA/ERESOL/baselineSensitivity/\" + name + \"_TBhigher_pL\" + str(pulseLength[i]) + \".fits\")\n",
    "    #print(file)\n",
    "    evtTBFs.append(file)\n",
    "    \n",
    "    file = (\"/dataj6/ceballos/INSTRUMEN/EURECA/ERESOL/baselineSensitivity/\" + name + \"_TBhigher_pL\" + str(pulseLength[i]) + \"_HR.calib\")\n",
    "    #print(file)\n",
    "    evtTBFs_calib.append(file)\n",
    "\n",
    "# a) Optimal Filtering\n",
    "# =============================\n",
    "evtFs_OPTFILT = list()\n",
    "evtFs_calib_OPTFILT = list()\n",
    "evtTBFs_OPTFILT = list()\n",
    "evtTBFs_calib_OPTFILT = list()\n",
    "\n",
    "for i in range(0,len(ofLength)):    \n",
    "    file = (\"/dataj6/ceballos/INSTRUMEN/EURECA/ERESOL/baselineSensitivity/\" + name + \"_OPTFILT\" + str(ofLength[i]) + \".fits\")\n",
    "    #print(file)\n",
    "    evtFs_OPTFILT.append(file)\n",
    "    \n",
    "    file = (\"/dataj6/ceballos/INSTRUMEN/EURECA/ERESOL/baselineSensitivity/\" + name + \"_OPTFILT\" + str(ofLength[i]) + \"_HR.calib\")\n",
    "    #print(file)\n",
    "    evtFs_calib_OPTFILT.append(file)\n",
    "    \n",
    "    file = (\"/dataj6/ceballos/INSTRUMEN/EURECA/ERESOL/baselineSensitivity/\" + name + \"_TBhigher_OPTFILT\" + str(ofLength[i]) + \".fits\")\n",
    "    #print(file)\n",
    "    evtTBFs_OPTFILT.append(file)\n",
    "    \n",
    "    file = (\"/dataj6/ceballos/INSTRUMEN/EURECA/ERESOL/baselineSensitivity/\" + name + \"_TBhigher_OPTFILT\" + str(ofLength[i]) + \"_HR.calib\")\n",
    "    #print(file)\n",
    "    evtTBFs_calib_OPTFILT.append(file)"
   ]
  },
  {
   "cell_type": "markdown",
   "metadata": {},
   "source": [
    "# Run 0-padding\n"
   ]
  },
  {
   "cell_type": "code",
   "execution_count": 18,
   "metadata": {
    "scrolled": false
   },
   "outputs": [
    {
     "name": "stdout",
     "output_type": "stream",
     "text": [
      "Reconstructing:  /dataj6/ceballos/INSTRUMEN/EURECA/ERESOL/baselineSensitivity/pulse7keVnonoise_pL1500.fits\n",
      "tesreconstruction Recordfile=/dataj6/ceballos/INSTRUMEN/EURECA/ERESOL/baselineSensitivity/pulse7keVnonoise.fits TesEventFile=/dataj6/ceballos/INSTRUMEN/EURECA/ERESOL/baselineSensitivity/pulse7keVnonoise_pL1500.fits Rcmethod=SIRENA PulseLength=1500 LibraryFile=/dataj6/ceballos/INSTRUMEN/EURECA/testHarness/simulations/SIXTE/LIBRARIES/xifusimLPA75um/GLOBAL/ADC/library6keV_PL8192_20000p_jitter_bbfb.fits samplesUp=3 nSgms=3.5 samplesDown=4 opmode=1 OFLib=yes FilterDomain=T detectionMode=STC Fitting35=3 FilterMethod=F0 clobber=yes EventListSize=1000 EnergyMethod=OPTFILT LagsOrNot=1 XMLFile=/dataj4/software/SIXTE/git/gitInstall/share/sixte/instruments/athena-xifu//xifu_detector_lpa_75um_AR0.5_pixoffset_mux40_pitch275um.xml filtEeV=6000.0 OFStrategy=FIXED OFLength=8192\n",
      "Reconstructing:  /dataj6/ceballos/INSTRUMEN/EURECA/ERESOL/baselineSensitivity/pulse7keVnonoise_TBhigher_pL1500.fits\n",
      "tesreconstruction Recordfile=/dataj6/ceballos/INSTRUMEN/EURECA/ERESOL/baselineSensitivity/pulse7keVnonoise_TBhigher.fits TesEventFile=/dataj6/ceballos/INSTRUMEN/EURECA/ERESOL/baselineSensitivity/pulse7keVnonoise_TBhigher_pL1500.fits Rcmethod=SIRENA PulseLength=1500 LibraryFile=/dataj6/ceballos/INSTRUMEN/EURECA/testHarness/simulations/SIXTE/LIBRARIES/xifusimLPA75um/GLOBAL/ADC/library6keV_PL8192_20000p_jitter_bbfb.fits samplesUp=3 nSgms=3.5 samplesDown=4 opmode=1 OFLib=yes FilterDomain=T detectionMode=STC Fitting35=3 FilterMethod=F0 clobber=yes EventListSize=1000 EnergyMethod=OPTFILT LagsOrNot=1 XMLFile=/dataj4/software/SIXTE/git/gitInstall/share/sixte/instruments/athena-xifu//xifu_detector_lpa_75um_AR0.5_pixoffset_mux40_pitch275um.xml filtEeV=6000.0 OFStrategy=FIXED OFLength=8192\n",
      "Reconstructing:  /dataj6/ceballos/INSTRUMEN/EURECA/ERESOL/baselineSensitivity/pulse7keVnonoise_pL2500.fits\n",
      "tesreconstruction Recordfile=/dataj6/ceballos/INSTRUMEN/EURECA/ERESOL/baselineSensitivity/pulse7keVnonoise.fits TesEventFile=/dataj6/ceballos/INSTRUMEN/EURECA/ERESOL/baselineSensitivity/pulse7keVnonoise_pL2500.fits Rcmethod=SIRENA PulseLength=2500 LibraryFile=/dataj6/ceballos/INSTRUMEN/EURECA/testHarness/simulations/SIXTE/LIBRARIES/xifusimLPA75um/GLOBAL/ADC/library6keV_PL8192_20000p_jitter_bbfb.fits samplesUp=3 nSgms=3.5 samplesDown=4 opmode=1 OFLib=yes FilterDomain=T detectionMode=STC Fitting35=3 FilterMethod=F0 clobber=yes EventListSize=1000 EnergyMethod=OPTFILT LagsOrNot=1 XMLFile=/dataj4/software/SIXTE/git/gitInstall/share/sixte/instruments/athena-xifu//xifu_detector_lpa_75um_AR0.5_pixoffset_mux40_pitch275um.xml filtEeV=6000.0 OFStrategy=FIXED OFLength=8192\n",
      "Reconstructing:  /dataj6/ceballos/INSTRUMEN/EURECA/ERESOL/baselineSensitivity/pulse7keVnonoise_TBhigher_pL2500.fits\n",
      "tesreconstruction Recordfile=/dataj6/ceballos/INSTRUMEN/EURECA/ERESOL/baselineSensitivity/pulse7keVnonoise_TBhigher.fits TesEventFile=/dataj6/ceballos/INSTRUMEN/EURECA/ERESOL/baselineSensitivity/pulse7keVnonoise_TBhigher_pL2500.fits Rcmethod=SIRENA PulseLength=2500 LibraryFile=/dataj6/ceballos/INSTRUMEN/EURECA/testHarness/simulations/SIXTE/LIBRARIES/xifusimLPA75um/GLOBAL/ADC/library6keV_PL8192_20000p_jitter_bbfb.fits samplesUp=3 nSgms=3.5 samplesDown=4 opmode=1 OFLib=yes FilterDomain=T detectionMode=STC Fitting35=3 FilterMethod=F0 clobber=yes EventListSize=1000 EnergyMethod=OPTFILT LagsOrNot=1 XMLFile=/dataj4/software/SIXTE/git/gitInstall/share/sixte/instruments/athena-xifu//xifu_detector_lpa_75um_AR0.5_pixoffset_mux40_pitch275um.xml filtEeV=6000.0 OFStrategy=FIXED OFLength=8192\n",
      "Reconstructing:  /dataj6/ceballos/INSTRUMEN/EURECA/ERESOL/baselineSensitivity/pulse7keVnonoise_pL3500.fits\n",
      "tesreconstruction Recordfile=/dataj6/ceballos/INSTRUMEN/EURECA/ERESOL/baselineSensitivity/pulse7keVnonoise.fits TesEventFile=/dataj6/ceballos/INSTRUMEN/EURECA/ERESOL/baselineSensitivity/pulse7keVnonoise_pL3500.fits Rcmethod=SIRENA PulseLength=3500 LibraryFile=/dataj6/ceballos/INSTRUMEN/EURECA/testHarness/simulations/SIXTE/LIBRARIES/xifusimLPA75um/GLOBAL/ADC/library6keV_PL8192_20000p_jitter_bbfb.fits samplesUp=3 nSgms=3.5 samplesDown=4 opmode=1 OFLib=yes FilterDomain=T detectionMode=STC Fitting35=3 FilterMethod=F0 clobber=yes EventListSize=1000 EnergyMethod=OPTFILT LagsOrNot=1 XMLFile=/dataj4/software/SIXTE/git/gitInstall/share/sixte/instruments/athena-xifu//xifu_detector_lpa_75um_AR0.5_pixoffset_mux40_pitch275um.xml filtEeV=6000.0 OFStrategy=FIXED OFLength=8192\n",
      "Reconstructing:  /dataj6/ceballos/INSTRUMEN/EURECA/ERESOL/baselineSensitivity/pulse7keVnonoise_TBhigher_pL3500.fits\n",
      "tesreconstruction Recordfile=/dataj6/ceballos/INSTRUMEN/EURECA/ERESOL/baselineSensitivity/pulse7keVnonoise_TBhigher.fits TesEventFile=/dataj6/ceballos/INSTRUMEN/EURECA/ERESOL/baselineSensitivity/pulse7keVnonoise_TBhigher_pL3500.fits Rcmethod=SIRENA PulseLength=3500 LibraryFile=/dataj6/ceballos/INSTRUMEN/EURECA/testHarness/simulations/SIXTE/LIBRARIES/xifusimLPA75um/GLOBAL/ADC/library6keV_PL8192_20000p_jitter_bbfb.fits samplesUp=3 nSgms=3.5 samplesDown=4 opmode=1 OFLib=yes FilterDomain=T detectionMode=STC Fitting35=3 FilterMethod=F0 clobber=yes EventListSize=1000 EnergyMethod=OPTFILT LagsOrNot=1 XMLFile=/dataj4/software/SIXTE/git/gitInstall/share/sixte/instruments/athena-xifu//xifu_detector_lpa_75um_AR0.5_pixoffset_mux40_pitch275um.xml filtEeV=6000.0 OFStrategy=FIXED OFLength=8192\n",
      "Reconstructing:  /dataj6/ceballos/INSTRUMEN/EURECA/ERESOL/baselineSensitivity/pulse7keVnonoise_pL4500.fits\n",
      "tesreconstruction Recordfile=/dataj6/ceballos/INSTRUMEN/EURECA/ERESOL/baselineSensitivity/pulse7keVnonoise.fits TesEventFile=/dataj6/ceballos/INSTRUMEN/EURECA/ERESOL/baselineSensitivity/pulse7keVnonoise_pL4500.fits Rcmethod=SIRENA PulseLength=4500 LibraryFile=/dataj6/ceballos/INSTRUMEN/EURECA/testHarness/simulations/SIXTE/LIBRARIES/xifusimLPA75um/GLOBAL/ADC/library6keV_PL8192_20000p_jitter_bbfb.fits samplesUp=3 nSgms=3.5 samplesDown=4 opmode=1 OFLib=yes FilterDomain=T detectionMode=STC Fitting35=3 FilterMethod=F0 clobber=yes EventListSize=1000 EnergyMethod=OPTFILT LagsOrNot=1 XMLFile=/dataj4/software/SIXTE/git/gitInstall/share/sixte/instruments/athena-xifu//xifu_detector_lpa_75um_AR0.5_pixoffset_mux40_pitch275um.xml filtEeV=6000.0 OFStrategy=FIXED OFLength=8192\n",
      "Reconstructing:  /dataj6/ceballos/INSTRUMEN/EURECA/ERESOL/baselineSensitivity/pulse7keVnonoise_TBhigher_pL4500.fits\n",
      "tesreconstruction Recordfile=/dataj6/ceballos/INSTRUMEN/EURECA/ERESOL/baselineSensitivity/pulse7keVnonoise_TBhigher.fits TesEventFile=/dataj6/ceballos/INSTRUMEN/EURECA/ERESOL/baselineSensitivity/pulse7keVnonoise_TBhigher_pL4500.fits Rcmethod=SIRENA PulseLength=4500 LibraryFile=/dataj6/ceballos/INSTRUMEN/EURECA/testHarness/simulations/SIXTE/LIBRARIES/xifusimLPA75um/GLOBAL/ADC/library6keV_PL8192_20000p_jitter_bbfb.fits samplesUp=3 nSgms=3.5 samplesDown=4 opmode=1 OFLib=yes FilterDomain=T detectionMode=STC Fitting35=3 FilterMethod=F0 clobber=yes EventListSize=1000 EnergyMethod=OPTFILT LagsOrNot=1 XMLFile=/dataj4/software/SIXTE/git/gitInstall/share/sixte/instruments/athena-xifu//xifu_detector_lpa_75um_AR0.5_pixoffset_mux40_pitch275um.xml filtEeV=6000.0 OFStrategy=FIXED OFLength=8192\n",
      "Reconstructing:  /dataj6/ceballos/INSTRUMEN/EURECA/ERESOL/baselineSensitivity/pulse7keVnonoise_pL5000.fits\n",
      "tesreconstruction Recordfile=/dataj6/ceballos/INSTRUMEN/EURECA/ERESOL/baselineSensitivity/pulse7keVnonoise.fits TesEventFile=/dataj6/ceballos/INSTRUMEN/EURECA/ERESOL/baselineSensitivity/pulse7keVnonoise_pL5000.fits Rcmethod=SIRENA PulseLength=5000 LibraryFile=/dataj6/ceballos/INSTRUMEN/EURECA/testHarness/simulations/SIXTE/LIBRARIES/xifusimLPA75um/GLOBAL/ADC/library6keV_PL8192_20000p_jitter_bbfb.fits samplesUp=3 nSgms=3.5 samplesDown=4 opmode=1 OFLib=yes FilterDomain=T detectionMode=STC Fitting35=3 FilterMethod=F0 clobber=yes EventListSize=1000 EnergyMethod=OPTFILT LagsOrNot=1 XMLFile=/dataj4/software/SIXTE/git/gitInstall/share/sixte/instruments/athena-xifu//xifu_detector_lpa_75um_AR0.5_pixoffset_mux40_pitch275um.xml filtEeV=6000.0 OFStrategy=FIXED OFLength=8192\n",
      "Reconstructing:  /dataj6/ceballos/INSTRUMEN/EURECA/ERESOL/baselineSensitivity/pulse7keVnonoise_TBhigher_pL5000.fits\n",
      "tesreconstruction Recordfile=/dataj6/ceballos/INSTRUMEN/EURECA/ERESOL/baselineSensitivity/pulse7keVnonoise_TBhigher.fits TesEventFile=/dataj6/ceballos/INSTRUMEN/EURECA/ERESOL/baselineSensitivity/pulse7keVnonoise_TBhigher_pL5000.fits Rcmethod=SIRENA PulseLength=5000 LibraryFile=/dataj6/ceballos/INSTRUMEN/EURECA/testHarness/simulations/SIXTE/LIBRARIES/xifusimLPA75um/GLOBAL/ADC/library6keV_PL8192_20000p_jitter_bbfb.fits samplesUp=3 nSgms=3.5 samplesDown=4 opmode=1 OFLib=yes FilterDomain=T detectionMode=STC Fitting35=3 FilterMethod=F0 clobber=yes EventListSize=1000 EnergyMethod=OPTFILT LagsOrNot=1 XMLFile=/dataj4/software/SIXTE/git/gitInstall/share/sixte/instruments/athena-xifu//xifu_detector_lpa_75um_AR0.5_pixoffset_mux40_pitch275um.xml filtEeV=6000.0 OFStrategy=FIXED OFLength=8192\n"
     ]
    },
    {
     "name": "stdout",
     "output_type": "stream",
     "text": [
      "Reconstructing:  /dataj6/ceballos/INSTRUMEN/EURECA/ERESOL/baselineSensitivity/pulse7keVnonoise_pL5500.fits\n",
      "tesreconstruction Recordfile=/dataj6/ceballos/INSTRUMEN/EURECA/ERESOL/baselineSensitivity/pulse7keVnonoise.fits TesEventFile=/dataj6/ceballos/INSTRUMEN/EURECA/ERESOL/baselineSensitivity/pulse7keVnonoise_pL5500.fits Rcmethod=SIRENA PulseLength=5500 LibraryFile=/dataj6/ceballos/INSTRUMEN/EURECA/testHarness/simulations/SIXTE/LIBRARIES/xifusimLPA75um/GLOBAL/ADC/library6keV_PL8192_20000p_jitter_bbfb.fits samplesUp=3 nSgms=3.5 samplesDown=4 opmode=1 OFLib=yes FilterDomain=T detectionMode=STC Fitting35=3 FilterMethod=F0 clobber=yes EventListSize=1000 EnergyMethod=OPTFILT LagsOrNot=1 XMLFile=/dataj4/software/SIXTE/git/gitInstall/share/sixte/instruments/athena-xifu//xifu_detector_lpa_75um_AR0.5_pixoffset_mux40_pitch275um.xml filtEeV=6000.0 OFStrategy=FIXED OFLength=8192\n",
      "Reconstructing:  /dataj6/ceballos/INSTRUMEN/EURECA/ERESOL/baselineSensitivity/pulse7keVnonoise_TBhigher_pL5500.fits\n",
      "tesreconstruction Recordfile=/dataj6/ceballos/INSTRUMEN/EURECA/ERESOL/baselineSensitivity/pulse7keVnonoise_TBhigher.fits TesEventFile=/dataj6/ceballos/INSTRUMEN/EURECA/ERESOL/baselineSensitivity/pulse7keVnonoise_TBhigher_pL5500.fits Rcmethod=SIRENA PulseLength=5500 LibraryFile=/dataj6/ceballos/INSTRUMEN/EURECA/testHarness/simulations/SIXTE/LIBRARIES/xifusimLPA75um/GLOBAL/ADC/library6keV_PL8192_20000p_jitter_bbfb.fits samplesUp=3 nSgms=3.5 samplesDown=4 opmode=1 OFLib=yes FilterDomain=T detectionMode=STC Fitting35=3 FilterMethod=F0 clobber=yes EventListSize=1000 EnergyMethod=OPTFILT LagsOrNot=1 XMLFile=/dataj4/software/SIXTE/git/gitInstall/share/sixte/instruments/athena-xifu//xifu_detector_lpa_75um_AR0.5_pixoffset_mux40_pitch275um.xml filtEeV=6000.0 OFStrategy=FIXED OFLength=8192\n",
      "Reconstructing:  /dataj6/ceballos/INSTRUMEN/EURECA/ERESOL/baselineSensitivity/pulse7keVnonoise_pL7000.fits\n",
      "tesreconstruction Recordfile=/dataj6/ceballos/INSTRUMEN/EURECA/ERESOL/baselineSensitivity/pulse7keVnonoise.fits TesEventFile=/dataj6/ceballos/INSTRUMEN/EURECA/ERESOL/baselineSensitivity/pulse7keVnonoise_pL7000.fits Rcmethod=SIRENA PulseLength=7000 LibraryFile=/dataj6/ceballos/INSTRUMEN/EURECA/testHarness/simulations/SIXTE/LIBRARIES/xifusimLPA75um/GLOBAL/ADC/library6keV_PL8192_20000p_jitter_bbfb.fits samplesUp=3 nSgms=3.5 samplesDown=4 opmode=1 OFLib=yes FilterDomain=T detectionMode=STC Fitting35=3 FilterMethod=F0 clobber=yes EventListSize=1000 EnergyMethod=OPTFILT LagsOrNot=1 XMLFile=/dataj4/software/SIXTE/git/gitInstall/share/sixte/instruments/athena-xifu//xifu_detector_lpa_75um_AR0.5_pixoffset_mux40_pitch275um.xml filtEeV=6000.0 OFStrategy=FIXED OFLength=8192\n",
      "Reconstructing:  /dataj6/ceballos/INSTRUMEN/EURECA/ERESOL/baselineSensitivity/pulse7keVnonoise_TBhigher_pL7000.fits\n",
      "tesreconstruction Recordfile=/dataj6/ceballos/INSTRUMEN/EURECA/ERESOL/baselineSensitivity/pulse7keVnonoise_TBhigher.fits TesEventFile=/dataj6/ceballos/INSTRUMEN/EURECA/ERESOL/baselineSensitivity/pulse7keVnonoise_TBhigher_pL7000.fits Rcmethod=SIRENA PulseLength=7000 LibraryFile=/dataj6/ceballos/INSTRUMEN/EURECA/testHarness/simulations/SIXTE/LIBRARIES/xifusimLPA75um/GLOBAL/ADC/library6keV_PL8192_20000p_jitter_bbfb.fits samplesUp=3 nSgms=3.5 samplesDown=4 opmode=1 OFLib=yes FilterDomain=T detectionMode=STC Fitting35=3 FilterMethod=F0 clobber=yes EventListSize=1000 EnergyMethod=OPTFILT LagsOrNot=1 XMLFile=/dataj4/software/SIXTE/git/gitInstall/share/sixte/instruments/athena-xifu//xifu_detector_lpa_75um_AR0.5_pixoffset_mux40_pitch275um.xml filtEeV=6000.0 OFStrategy=FIXED OFLength=8192\n"
     ]
    }
   ],
   "source": [
    "# RECONSTRUCT by using 0-padding\n",
    "run = 1\n",
    "if run:\n",
    "    for i in range(0,len(pulseLength)):\n",
    "        if not os.path.isfile(evtFs[i]):\n",
    "            comm = (\"tesreconstruction Recordfile=\" + inputFile + \" TesEventFile=\" + evtFs[i] + \" Rcmethod=SIRENA\" + \n",
    "                \" PulseLength=\"+ str(pulseLength[i]) + \" LibraryFile=\" + libfile +\n",
    "                \" samplesUp=3\" + \" nSgms=3.5\" + \" samplesDown=4\" + \n",
    "                \" opmode=1 OFLib=yes FilterDomain=T\" + \" detectionMode=STC Fitting35=3\" + \n",
    "                \" FilterMethod=F0 clobber=yes EventListSize=1000 EnergyMethod=OPTFILT\" + \n",
    "                \" LagsOrNot=1\" +\n",
    "                \" XMLFile=\" + xmlfile + \" filtEeV=6000.0 OFStrategy=FIXED OFLength=8192\")\n",
    "            try:\n",
    "                print(\"Reconstructing: \", evtFs[i])\n",
    "                print(comm)\n",
    "                args = shlex.split(comm)\n",
    "                check_call(args, stderr=STDOUT)\n",
    "            except:\n",
    "                print(\"Error running tool for SIRENA reconstruction with command:\\n\", comm)\n",
    "                shutil.rmtree(tmpDir)\n",
    "                raise\n",
    "        if not os.path.isfile(evtTBFs[i]):\n",
    "            comm = (\"tesreconstruction Recordfile=\" + inputFile_TBhigher + \" TesEventFile=\" + evtTBFs[i] + \" Rcmethod=SIRENA\" + \n",
    "                \" PulseLength=\"+ str(pulseLength[i]) + \" LibraryFile=\" + libfile +\n",
    "                \" samplesUp=3\" + \" nSgms=3.5\" + \" samplesDown=4\" + \n",
    "                \" opmode=1 OFLib=yes FilterDomain=T\" + \" detectionMode=STC Fitting35=3\" + \n",
    "                \" FilterMethod=F0 clobber=yes EventListSize=1000 EnergyMethod=OPTFILT\" + \n",
    "                \" LagsOrNot=1\" +\n",
    "                \" XMLFile=\" + xmlfile + \" filtEeV=6000.0 OFStrategy=FIXED OFLength=8192\")\n",
    "            try:\n",
    "                print(\"Reconstructing: \", evtTBFs[i])\n",
    "                print(comm)\n",
    "                args = shlex.split(comm)\n",
    "                check_call(args, stderr=STDOUT)\n",
    "            except:\n",
    "                print(\"Error running tool for SIRENA reconstruction with command:\\n\", comm)\n",
    "                shutil.rmtree(tmpDir)\n",
    "                raise"
   ]
  },
  {
   "cell_type": "markdown",
   "metadata": {},
   "source": [
    "# Run OPTIMAL FILTER\n"
   ]
  },
  {
   "cell_type": "code",
   "execution_count": 5,
   "metadata": {
    "scrolled": false
   },
   "outputs": [],
   "source": [
    "# RECONSTRUCT by using OPTIMAL FILTERING\n",
    "run = 0\n",
    "if run:\n",
    "    for i in range(0,len(ofLength)):\n",
    "        comm = (\"tesreconstruction Recordfile=\" + inputFile + \" TesEventFile=\" + evtFs_OPTFILT[i] + \" Rcmethod=SIRENA\" + \n",
    "            \" PulseLength=8192\" + \" LibraryFile=\" + libfile +\n",
    "            \" samplesUp=3\" + \" nSgms=3.5\" + \" samplesDown=4\" + \n",
    "            \" opmode=1 OFLib=yes FilterDomain=T\" + \" detectionMode=STC Fitting35=3\" + \n",
    "            \" FilterMethod=F0 clobber=yes EventListSize=1000 EnergyMethod=OPTFILT\" + \n",
    "            \" LagsOrNot=1\" +\n",
    "            \" XMLFile=\" + xmlfile + \" filtEeV=6000.0 OFStrategy=FIXED OFLength=\" + str(ofLength[i]))\n",
    "        try:\n",
    "            print(\"Reconstructing: \", evtFs_OPTFILT[i])\n",
    "            print(comm)\n",
    "            args = shlex.split(comm)\n",
    "            check_call(args, stderr=STDOUT)\n",
    "        except:\n",
    "            print(\"Error running tool for SIRENA reconstruction with command:\\n\", comm)\n",
    "            shutil.rmtree(tmpDir)\n",
    "            raise\n",
    "                \n",
    "        comm = (\"tesreconstruction Recordfile=\" + inputFile_TBhigher + \" TesEventFile=\" + evtTBFs_OPTFILT[i] + \" Rcmethod=SIRENA\" + \n",
    "            \" PulseLength=8192\" + \" LibraryFile=\" + libfile +\n",
    "            \" samplesUp=3\" + \" nSgms=3.5\" + \" samplesDown=4\" + \n",
    "            \" opmode=1 OFLib=yes FilterDomain=T\" + \" detectionMode=STC Fitting35=3\" + \n",
    "            \" FilterMethod=F0 clobber=yes EventListSize=1000 EnergyMethod=OPTFILT\" + \n",
    "            \" LagsOrNot=1\" +\n",
    "            \" XMLFile=\" + xmlfile + \" filtEeV=6000.0 OFStrategy=FIXED OFLength=\" + str(ofLength[i]))\n",
    "        try:\n",
    "            print(\"Reconstructing: \", evtTBFs_OPTFILT[i])\n",
    "            print(comm)\n",
    "            args = shlex.split(comm)\n",
    "            check_call(args, stderr=STDOUT)\n",
    "        except:\n",
    "            print(\"Error running tool for SIRENA reconstruction with command:\\n\", comm)\n",
    "            shutil.rmtree(tmpDir)\n",
    "            raise"
   ]
  },
  {
   "cell_type": "markdown",
   "metadata": {},
   "source": [
    "# CALIBRATE 0-padding files\n"
   ]
  },
  {
   "cell_type": "code",
   "execution_count": 6,
   "metadata": {},
   "outputs": [],
   "source": [
    "run = 0\n",
    "if run:\n",
    "    coeffsFile = \"/dataj6/ceballos/INSTRUMEN/EURECA/ERESOL/PAIRS/eresolLPA75um_xifusim/coeffs_polyfit.dat\"\n",
    "    for i in range(0,len(pulseLength)):\n",
    "        alias = \"pL\" + str(pulseLength[i]) + \"_STC_T_fixedlib6OF_OPTFILT8192_jitter_bbfb\"\n",
    "        auxpy.convertEnergies(evtFs[i],evtFs_calib[i],coeffsFile,alias)\n",
    "        \n",
    "        auxpy.convertEnergies(evtTBFs[i],evtTBFs_calib[i],coeffsFile,alias)"
   ]
  },
  {
   "cell_type": "markdown",
   "metadata": {},
   "source": [
    "# CALIBRATE OPTIMAL FILTERING files\n"
   ]
  },
  {
   "cell_type": "code",
   "execution_count": 7,
   "metadata": {},
   "outputs": [],
   "source": [
    "run = 0\n",
    "if run:\n",
    "    coeffsFile = \"/dataj6/ceballos/INSTRUMEN/EURECA/ERESOL/PAIRS/eresolLPA75um_xifusim/coeffs_polyfit.dat\"\n",
    "    for i in range(0,len(ofLength)):\n",
    "        alias = \"pL8192_STC_T_fixedlib6OF_OPTFILT\" + str(ofLength[i]) + \"_jitter_bbfb\"\n",
    "        auxpy.convertEnergies(evtFs_OPTFILT[i],evtFs_calib_OPTFILT[i],coeffsFile,alias)\n",
    "        \n",
    "        auxpy.convertEnergies(evtTBFs_OPTFILT[i],evtTBFs_calib_OPTFILT[i],coeffsFile,alias)"
   ]
  },
  {
   "cell_type": "markdown",
   "metadata": {},
   "source": [
    "# Plot the OPTIMAL FILTERING baseline sensitivity"
   ]
  },
  {
   "cell_type": "code",
   "execution_count": 19,
   "metadata": {
    "scrolled": false
   },
   "outputs": [
    {
     "data": {
      "image/png": "[encoded data removed]",
      "text/plain": [
       "<Figure size 1152x432 with 1 Axes>"
      ]
     },
     "metadata": {
      "needs_background": "light"
     },
     "output_type": "display_data"
    }
   ],
   "source": [
    "run = 1\n",
    "if run:\n",
    "    fig = plt.figure(figsize=(16,6))\n",
    "    fig.suptitle('OPTIFILT Baseline Sensitivity', fontsize=14, fontweight='bold')\n",
    "    \n",
    "    # No calibrated\n",
    "    nocalib_OPTFILT = list()\n",
    "    TBhigher_nocalib_OPTFILT = list()\n",
    "    \n",
    "    calib_OPTFILT = list()\n",
    "    TBhigher_calib_OPTFILT = list()\n",
    "    \n",
    "    for i in range (0,len(ofLength)):\n",
    "        file = fits.open(evtFs_OPTFILT[i], memmap=True)\n",
    "        fileTab = file[1].data\n",
    "        fileSIGNAL = fileTab['SIGNAL']\n",
    "        file.close()\n",
    "        \n",
    "        nocalib_OPTFILT.append(fileSIGNAL[0])\n",
    "    \n",
    "        file = fits.open(evtTBFs_OPTFILT[i], memmap=True)\n",
    "        fileTab = file[1].data\n",
    "        fileSIGNAL = fileTab['SIGNAL']\n",
    "        file.close()\n",
    "        \n",
    "        TBhigher_nocalib_OPTFILT.append(fileSIGNAL[0])\n",
    "        \n",
    "        #file = fits.open(evtFs_calib_OPTFILT[i], memmap=True)\n",
    "        #fileTab = file[1].data\n",
    "        #fileSIGNAL = fileTab['SIGNAL']\n",
    "        #file.close()\n",
    "        \n",
    "        #calib_OPTFILT.append(fileSIGNAL[0])\n",
    "    \n",
    "        #file = fits.open(evtTBFs_calib_OPTFILT[i], memmap=True)\n",
    "        #fileTab = file[1].data\n",
    "        #fileSIGNAL = fileTab['SIGNAL']\n",
    "        #file.close()\n",
    "        \n",
    "        #TBhigher_calib_OPTFILT.append(fileSIGNAL[0])\n",
    "        \n",
    "    AE_eV_nocalib_OPTFILT = list()\n",
    "    #AE_eV_calib_OPTFILT = list()\n",
    "    for i in range(0,len(ofLength)):\n",
    "        AE_eV_nocalib_OPTFILT.append(abs(nocalib_OPTFILT[i]-TBhigher_nocalib_OPTFILT[i])*1e3/0.1) # +0.1uK TBhigher with respect to TB=55mK\n",
    "        #AE_eV_calib_OPTFILT.append(abs(calib_OPTFILT[i]-TBhigher_calib_OPTFILT[i])*1e3/0.1) # +0.1uK TBhigher with respect to TB=55mK\n",
    "    \n",
    "    plt.plot(ofLength,AE_eV_nocalib_OPTFILT, marker='o', linestyle='solid', ms=5,label='nocalib',color='blue')\n",
    "    #plt.plot(ofLength,AE_eV_calib_OPTFILT, marker='v', linestyle='dotted', ms=5,label='calib',color='blue')\n",
    "    #plt.plot(512,(3.17370410616157-3.17360568817963)*1e3,'or',  ms=5,label='Sum0Filt=1 nocalib')\n",
    "    #plt.plot(512,(6.99757955314489-6.99718615454381)*1e3, 'vr',  ms=5,label='Sum0Filt=1 calib')\n",
    "    \n",
    "    plt.legend()\n",
    "    plt.ylabel('ΔE (eV/µK)')\n",
    "    plt.xlabel('ofLength (samples) = OPTFILT')\n",
    "    plt.grid(True)\n",
    "\n",
    "    plt.ylim(0.,0.3)\n",
    "\n",
    "    plt.show()\n",
    "    "
   ]
  },
  {
   "cell_type": "markdown",
   "metadata": {},
   "source": [
    "# Plot the 0-padding baseline sensitivity"
   ]
  },
  {
   "cell_type": "code",
   "execution_count": 27,
   "metadata": {
    "scrolled": false
   },
   "outputs": [
    {
     "data": {
      "image/png": "[encoded data removed]",
      "text/plain": [
       "<Figure size 1152x432 with 1 Axes>"
      ]
     },
     "metadata": {
      "needs_background": "light"
     },
     "output_type": "display_data"
    },
    {
     "name": "stdout",
     "output_type": "stream",
     "text": [
      "ΔE 0-padding( 128 ): 0.05201245091512874  eV => 0.0010048515235703132 %\n",
      "ΔE 0-padding( 256 ): 0.12237538424386685  eV => 0.001782467416122949 %\n",
      "ΔE 0-padding( 512 ): 0.1601900111314336  eV => 0.0022552134992001294 %\n",
      "ΔE 0-padding( 1024 ): 0.14425081417357433  eV => 0.002036798379227487 %\n",
      "ΔE 0-padding( 1500 ): 0.12959250204502837  eV => 0.001834769233900096 %\n",
      "ΔE 0-padding( 2048 ): 0.1106592986666044  eV => 0.0015721999777440086 %\n",
      "ΔE 0-padding( 2500 ): 0.096828209130706  eV => 0.0013792223538007604 %\n",
      "ΔE 0-padding( 3000 ): 0.07577137552949864  eV => 0.0010835195568510703 %\n",
      "ΔE 0-padding( 3500 ): 0.05743828329407563  eV => 0.0008241720015648382 %\n",
      "ΔE 0-padding( 4096 ): 0.03625454265687722  eV => 0.0005222769911126694 %\n",
      "ΔE 0-padding( 4500 ): 0.02002244657184349  eV => 0.00028932087695079207 %\n",
      "ΔE 0-padding( 5000 ): 0.001938291323000385  eV => 2.8103583716254204e-05 %\n",
      "ΔE 0-padding( 5500 ): 0.017103778340299414  eV => 0.00024888494650103277 %\n",
      "ΔE 0-padding( 6000 ): 0.0375622860993019  eV => 0.000548712819322857 %\n",
      "ΔE 0-padding( 7000 ): 0.06966150793985548  eV => 0.001023871179084298 %\n",
      "ΔE 0-padding( 8192 ): 0.10459810520835333  eV => 0.0015477091381833922 %\n",
      "ΔE(8192)OPTFILT: 0.10459810520835333  eV => 0.0015477091381833922 %\n",
      "ΔE(8192)OPTFILT: 0.10459810520835333\n"
     ]
    }
   ],
   "source": [
    "run = 1\n",
    "if run:\n",
    "    fig = plt.figure(figsize=(16,6))\n",
    "    fig.suptitle('0-padding Baseline Sensitivity', fontsize=14, fontweight='bold')\n",
    "    \n",
    "    # No calibrated\n",
    "    nocalib = list()\n",
    "    TBhigher_nocalib = list()\n",
    "    \n",
    "    calib = list()\n",
    "    TBhigher_calib = list()\n",
    "    \n",
    "    for i in range (0,len(pulseLength)):\n",
    "        file = fits.open(evtFs[i], memmap=True)\n",
    "        fileTab = file[1].data\n",
    "        fileSIGNAL = fileTab['SIGNAL']\n",
    "        file.close()\n",
    "        \n",
    "        nocalib.append(fileSIGNAL[0])\n",
    "    \n",
    "        file = fits.open(evtTBFs[i], memmap=True)\n",
    "        fileTab = file[1].data\n",
    "        fileSIGNAL = fileTab['SIGNAL']\n",
    "        file.close()\n",
    "        \n",
    "        TBhigher_nocalib.append(fileSIGNAL[0])\n",
    "        \n",
    "        #file = fits.open(evtFs_calib[i], memmap=True)\n",
    "        #fileTab = file[1].data\n",
    "        #fileSIGNAL = fileTab['SIGNAL']\n",
    "        #file.close()\n",
    "        \n",
    "        #calib.append(fileSIGNAL[0])\n",
    "    \n",
    "        #file = fits.open(evtTBFs_calib[i], memmap=True)\n",
    "        #fileTab = file[1].data\n",
    "        #fileSIGNAL = fileTab['SIGNAL']\n",
    "        #file.close()\n",
    "        \n",
    "        #TBhigher_calib.append(fileSIGNAL[0])\n",
    "        \n",
    "    AE_eV_nocalib = list()\n",
    "    AE_eV_nocalib_rel = list()\n",
    "    AE_eV_calib = list()\n",
    "    for i in range(0,len(pulseLength)):\n",
    "        AE_eV_nocalib.append(abs(nocalib[i]-TBhigher_nocalib[i])*1e3/0.1) # +0.1uK TBhigher with respect to TB=55mK\n",
    "        AE_eV_nocalib_rel.append(100*AE_eV_nocalib[i]/(nocalib[i]*1e3))\n",
    "        #AE_eV_calib.append(abs(calib[i]-TBhigher_calib[i])*1e3/0.1) # +0.1uK TBhigher with respect to TB=55mK\n",
    "    \n",
    "    plt.plot(pulseLength,AE_eV_nocalib, marker='o', linestyle='solid', ms=5,label='ADC-0-padding',color='blue')\n",
    "    #plt.plot(pulseLength,AE_eV_calib, marker='v', linestyle='dotted', ms=5,label='calib',color='blue')\n",
    "    #plt.plot(512,(3.17370410616157-3.17360568817963)*1e3,'or',  ms=5,label='Sum0Filt=1 nocalib')\n",
    "    #plt.plot(512,(6.99757955314489-6.99718615454381)*1e3, 'vr',  ms=5,label='Sum0Filt=1 calib')\n",
    "    #plt.plot(8192,AE_eV_nocalib_OPTFILT[6], 'vr',  ms=5,label='8192 OPTFILT')\n",
    "    plt.axhline(y=AE_eV_nocalib_OPTFILT[6],linestyle='--',color='red',label=\"OPTFILT8192\")\n",
    "    plt.axhline(y=AE_eV_nocalib_OPTFILT[5],linestyle='--',color='orange',label=\"OPTFILT4096\")\n",
    "\n",
    "    plt.legend()\n",
    "    plt.ylabel('ΔE (eV/µK)')\n",
    "    plt.xlabel('pulseLength (samples) = 0-padding')\n",
    "    plt.grid(True)\n",
    "\n",
    "    #plt.ylim(0.001,0.2)\n",
    "\n",
    "    plt.show()\n",
    "    #fig.savefig('baselineSensitivity0padding_zoom.png', dpi=fig.dpi)\n",
    "    \n",
    "    # plot differences in %\n",
    "    #------------------------\n",
    "    #plt.plot(pulseLength,AE_eV_nocalib_rel, marker='o', linestyle='solid', ms=5,label='ADC-0-padding',color='blue')\n",
    "    #plt.legend()\n",
    "    #plt.ylabel('ΔE/E (%)')\n",
    "    #plt.xlabel('pulseLength (samples) = 0-padding')\n",
    "    #plt.grid(True)\n",
    "    #plt.show()\n",
    "    for il in range(0,len(pulseLength)):\n",
    "        print(\"ΔE 0-padding(\",pulseLength[il],\"):\",AE_eV_nocalib[il],\n",
    "              \" eV =>\",AE_eV_nocalib[il]/(nocalib[il]*1e3)*100,\"%\")\n",
    "    print(\"ΔE(8192)OPTFILT:\",AE_eV_nocalib_OPTFILT[-1],\" eV =>\",\n",
    "          AE_eV_nocalib_OPTFILT[-1]/(nocalib_OPTFILT[-1]*1e3)*100,\"%\")\n",
    "    "
   ]
  },
  {
   "cell_type": "code",
   "execution_count": null,
   "metadata": {},
   "outputs": [],
   "source": []
  },
  {
   "cell_type": "code",
   "execution_count": null,
   "metadata": {},
   "outputs": [],
   "source": []
  }
 ],
 "metadata": {
  "kernelspec": {
   "display_name": "Python 3",
   "language": "python",
   "name": "python3"
  },
  "language_info": {
   "codemirror_mode": {
    "name": "ipython",
    "version": 3
   },
   "file_extension": ".py",
   "mimetype": "text/x-python",
   "name": "python",
   "nbconvert_exporter": "python",
   "pygments_lexer": "ipython3",
   "version": "3.6.8"
  }
 },
 "nbformat": 4,
 "nbformat_minor": 2
}
