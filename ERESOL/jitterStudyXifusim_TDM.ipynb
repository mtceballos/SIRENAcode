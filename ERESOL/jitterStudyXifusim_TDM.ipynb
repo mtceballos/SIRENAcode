{
 "cells": [
  {
   "cell_type": "markdown",
   "metadata": {},
   "source": [
    "# Study for jitter effect in Energy resolution (>=0.7.0)\n",
    "\n",
    "for xifusim-simulated files under different:\n",
    "\n",
    "* Sampling rates (s1=156250, s2=s1/2, s4=s1/4)\n",
    "* TDM configurations\n",
    "\n",
    "- Libraries for test pulses reconstruction are always jitter+noise (as real pulses are)\n",
    "- Curves plot (to show dependance of the energy error with arrival phase) and polynomial surfaces (to define the dependance inputEnergy <-> reconstructedEnergy <-> arrivalPhase) can be defined from noisy (5000 pulses) or nonoise (1000) pulses samples.\n",
    "- It is observed that when the fitting is done with nonoise curves, the final FWHM vs. ArrivalPhase plots show estructure (are a bit curved), behaviour which is not observed when polynomial curves are created with samples of noisy pulses (no matter if the no-noise pulses are 1000 or 5000).\n",
    "\n"
   ]
  },
  {
   "cell_type": "markdown",
   "metadata": {},
   "source": [
    " For surface calibration, evt files are (usually) previously created with runCompareACDC.sh and calibrated here (test files are those to be calibrated and calibration files are those used for the gainScale curve also).\n",
    " - Simulated files (5000p & test files)\n",
    " - Reconstructed files\n",
    " - Surface creation -> polyfit -> coefficients\n",
    " - Calibration of \"test\" files"
   ]
  },
  {
   "cell_type": "code",
   "execution_count": 55,
   "metadata": {
    "scrolled": true
   },
   "outputs": [],
   "source": [
    "# ----IMPORT MODULES --------------\n",
    "from astropy.io import fits\n",
    "import math\n",
    "import sys, os\n",
    "import shutil, tempfile, shlex\n",
    "import re\n",
    "import warnings\n",
    "import numpy as np\n",
    "from sixtevars import XMLfll\n",
    "from sklearn.metrics import mean_squared_error\n",
    "from numpy.polynomial import Polynomial\n",
    "from gainScale2DFit import fit_2D_gain_scale, polyfit2d\n",
    "from normalize_in_interval import normalize_in_interval\n",
    "from commands import run_comm\n",
    "import matplotlib.pyplot as plt\n",
    "from mpl_toolkits.mplot3d import Axes3D\n",
    "from matplotlib import cm, colors\n",
    "from matplotlib.ticker import LinearLocator, FormatStrFormatter\n",
    "import matplotlib.style as mplstyle\n",
    "import heasoftpy as hsp\n",
    "import ipywidgets as widgets\n",
    "%matplotlib widget\n",
    "\n",
    "mplstyle.use('fast')\n",
    "\n",
    "cwd = os.getcwd()\n",
    "tmpDir = tempfile.mkdtemp()\n",
    "os.environ[\"PFILES\"] = tmpDir + \":\" + os.environ[\"PFILES\"]\n",
    "os.environ[\"HEADASNOQUERY\"] = \"\"\n",
    "os.environ[\"HEADASPROMPT\"] = \"/dev/null/\"\n"
   ]
  },
  {
   "cell_type": "markdown",
   "metadata": {},
   "source": [
    "## Define variables "
   ]
  },
  {
   "cell_type": "code",
   "execution_count": null,
   "metadata": {
    "scrolled": true
   },
   "outputs": [],
   "source": [
    "#      Simulation options to calculate jitter correction\n",
    "# ========================================================\n",
    "pixel=\"LPA2.5a\"\n",
    "dre = \"fll\"\n",
    "smprt = \"\" # \"\" or \"samprate2\" or \"samprate4\"\n",
    "npulsesLib = 20000 # number of pulses for libraries\n",
    "npulsesGain = 5000 # number of pulses for gainScale\n",
    "preBufferSize = 0\n",
    "domain=\"T\"  # or \"F\"\n",
    "recStr=\"OPTFILT\" #, \"I2RFITTED\"\n",
    "lDir = \"ADC\"\n",
    "if recStr == \"I2R\" or recStr == \"I2RFITTED\" or recStr == \"I2RNOL\":\n",
    "    lDir = \"R\"\n",
    "pulseLength=8192 # 8192 or shorter lengths\n",
    "ofLength=8192 # 8192 for 0-padding or shorter filters otherwise\n",
    "pB=0 # or >0 for using preBuffer to construct filters\n",
    "noiseForSFC = \"\" # \"\" for noisy files and \"_nonoise\" for nonoise files \n",
    "if noiseForSFC == \"_nonoise\": \n",
    "    SFCpulses = 1000 # number of pulses for curve/surface creation (nonoise)\n",
    "    noiseStr=\"NO NOISE\"\n",
    "if noiseForSFC == \"\":\n",
    "    SFCpulses = 5000 # number of pulses for curve/surface creation (noisy)\n",
    "    noiseStr=\"NOISY\"\n",
    "    \n",
    "TSpulses = 5000 # number of pulses for test of FWHM (noisy)\n",
    "#TSpulses = \"2E5\" # number of pulses for test of FWHM (noisy)\n",
    "\n",
    "eurecaDir = \"/dataj6/ceballos/INSTRUMEN/EURECA\"\n",
    "sixteDir = eurecaDir + \"/testHarness/simulations/SIXTE\"\n",
    "sixteInst = os.environ[\"SIXTE\"] + \"/share/sixte/instruments/athena-xifu/\"\n",
    "pairsDir = eurecaDir + \"/ERESOL/PAIRS\"\n",
    "impDir = pairsDir + \"/PIXIMPACT\"\n",
    "ereDir = pairsDir + \"/eresol\" + pixel\n",
    "gainDir = ereDir + \"/gainScale\"\n",
    "tesDir = pairsDir + \"/xifusim\" + pixel\n",
    "libDir = sixteDir + \"/LIBRARIES/xifusim\" + pixel + \"/GLOBAL/\" + lDir \n",
    "\n",
    "xmlfile = XMLfll\n",
    "eners_keV = (0.2, 0.5, 1, 2, 3, 4, 5, 6, 7, 8, 9, 10, 11, 12)  # for surface fitting\n",
    "calibEnergies = [0.2, 0.5, 1, 2, 3, 4, 5, 6, 7, 8, 9, 10, 11, 12]\n",
    "\n",
    "eners_keV = (1, 2, 3, 4, 5, 6, 7, 8, 9, 10, 11, 12)  # for surface fitting\n",
    "calibEnergies = [1, 2, 3, 4, 5, 6, 7, 8,9, 10, 11, 12]\n",
    "\n",
    "libEnergies = (6,) # optimal filter in library\n",
    "test_keV = (1,2,3,4,5,6,7,8,9,10,11,12) # for testing\n",
    "#test_keV = (7,)\n",
    "\n",
    "# samprate\n",
    "smprtStr = \"\"\n",
    "if smprt == \"samprate2\":\n",
    "    smprtStr = \"_samprate2\"\n",
    "    samprate = 78125. # Hz\n",
    "    nSamples = 4096\n",
    "    largeFilter = 4096\n",
    "    nSgms = 4 #6\n",
    "    samplesUp = 2 #2\n",
    "    samplesDown = 4 #3 \n",
    "    singleSeparation = 20000\n",
    "    #TSexpos=540 # for the test-noisy pulses\n",
    "    #NNexpos=269 # for the nonoise pulses\n",
    "elif smprt == \"samprate4\":\n",
    "    smprtStr = \"_samprate4\"\n",
    "    samprate = 39062.5 # Hz\n",
    "    nSamples = 2048\n",
    "    largeFilter = 2048\n",
    "    nSgms = 4 #6\n",
    "    samplesUp = 2 #2\n",
    "    samplesDown = 4 #3 \n",
    "    singleSeparation = 10000\n",
    "else:\n",
    "    samprate = 156250. # Hz\n",
    "    nSamples = 8192\n",
    "    largeFilter = 8192\n",
    "    nSgms = 3.5\n",
    "    samplesUp = 3\n",
    "    samplesDown = 4\n",
    "    singleSeparation = 40000\n",
    "    #TSexpos=525 # for the test-noisy pulses\n",
    "    #NNexpos=262 # for the nonoise pulses\n",
    "\n",
    "triggerSizeTC = preBufferSize + 2*singleSeparation + preBufferSize\n",
    "triggerSizeTS = preBufferSize + pulseLength + preBufferSize\n",
    "triggerTS3val = triggerSizeTS - preBufferSize\n",
    "\n",
    "# DRE\n",
    "dreStr = \"_\" + dre\n",
    "\n",
    "# preBuffer (for reconstruction)\n",
    "pBstr = \"\"\n",
    "if pB > 0:\n",
    "    pBstr = \"_pB\" + str(pB)\n",
    "\n",
    "# polynomial fits files\n",
    "coeffsfile = ereDir + \"/coeffs_polyfit.dat\"\n",
    "surfaceFile = ereDir + \"/coeffs_poly2Dfit_pL\" + str(pulseLength) + \"_\" + recStr + str(ofLength) + pBstr + dreStr + \".dat\"\n",
    "\n",
    "# define optimized colors for offset plots\n",
    "cols = [(165,0,38),(215,48,39),(244,109,67),(253,174,97),(254,224,144),(224,243,248),(171,217,233),(116,173,209),\n",
    "        (69,117,180),(49,54,149)]\n",
    "reversed_cols = cols[::-1]\n",
    "for i in range(0,len(cols)):\n",
    "        cols[i] = tuple(round((x/255.),2) for x in reversed_cols[i])\n",
    "        # print(\"Color=\", cols[i])\n",
    "\n"
   ]
  },
  {
   "cell_type": "markdown",
   "metadata": {},
   "source": [
    "## ... and filenames"
   ]
  },
  {
   "cell_type": "code",
   "execution_count": null,
   "metadata": {
    "scrolled": true
   },
   "outputs": [],
   "source": [
    "# a) Filenames for surface fitting and dependency curves \n",
    "# ========================================================\n",
    "evtFs = list()\n",
    "calibFs = list()\n",
    "tesFs = list()\n",
    "PL = max(pulseLength, ofLength)\n",
    "libStr = \"_fixedlib6OF_\"\n",
    "libfile = (libDir + \"/library6keV_PL\" + str(PL) + \"_\" + str(npulsesLib) + \"p\" + smprtStr + noiseForSFC + pBstr + dreStr + \".fits\")\n",
    "\n",
    "for i in range(0,len(eners_keV)):\n",
    "    \n",
    "    # xifusim-simulated file\n",
    "    file = (tesDir + \"/sep\" + str(singleSeparation) + \"sam_\" + str(SFCpulses) + \"p_\" + str(eners_keV[i]) +\n",
    "            \"keV\" + smprtStr + noiseForSFC + dreStr + \".fits\")\n",
    "    tesFs.append(file)\n",
    "    \n",
    "    # reconstructed (uncalibrated) file\n",
    "    file = (gainDir + \"/events_sep\" + str(singleSeparation) + \"sam_\" + str(SFCpulses) + \"p_SIRENA\" +\n",
    "            str(nSamples)+ \"_pL\" + str(pulseLength) + \"_\" + str(eners_keV[i]) +\n",
    "            \"keV_STC_\" + domain + libStr + recStr + str(ofLength) + pBstr + smprtStr + noiseForSFC + dreStr + \".fits\")\n",
    "    evtFs.append(file)\n",
    "\n",
    "    # reconstructed AND 1D-calibrated files\n",
    "    file = (ereDir + \"/events_sep\" + str(singleSeparation) + \"sam_\" + str(SFCpulses) + \"p_SIRENA\" +\n",
    "            str(nSamples)+ \"_pL\" + str(pulseLength) + \"_\" + str(eners_keV[i]) +\n",
    "            \"keV_STC_\" + domain + libStr + recStr + str(ofLength) + pBstr + smprtStr + noiseForSFC + dreStr + \"_HR.calib1D\")\n",
    "    calibFs.append(file)\n",
    "\n",
    "# a) Filenames for test (noisy)\n",
    "# =============================\n",
    "#test_impFs = list()\n",
    "test_tesFs = list()\n",
    "test_evtFs = list()\n",
    "test_calibFs = list()\n",
    "tnpulsesLib = 20000\n",
    "    \n",
    "tlibfile = (sixteDir + \"/LIBRARIES/xifusimLPA75um/GLOBAL/\" + libDir + \"/library6keV_PL\" + str(PL) + \"_\" +\n",
    "           str(tnpulsesLib) + \"p\" + smprtStr + dreStr + \".fits\")\n",
    "\n",
    "for i in range(len(test_keV)):\n",
    "    file = (tesDir + \"/sep\" + str(singleSeparation) + \"sam_\" + str(TSpulses) + \"p_\" +\n",
    "            str(test_keV[i]) + \"keV\" + smprtStr + dreStr + \".fits\")\n",
    "    test_tesFs.append(file)\n",
    "    file = (ereDir + \"/events_sep\" + str(singleSeparation) + \"sam_\" + str(TSpulses) +\n",
    "            \"p_SIRENA\" + str(nSamples)+ \"_pL\" + str(pulseLength) + \"_\" + str(test_keV[i]) +\n",
    "            \"keV_STC_\" + domain + libStr + recStr + str(ofLength) + pBstr + smprtStr + \n",
    "            dreStr + \".fits\")\n",
    "    test_evtFs.append(file)\n",
    "    file = (ereDir + \"/events_sep\" + str(singleSeparation) + \"sam_\" + str(TSpulses) +\n",
    "            \"p_SIRENA\" + str(nSamples)+ \"_pL\" + str(pulseLength) + \"_\" + str(test_keV[i]) +\n",
    "            \"keV_STC_\" + domain + libStr + recStr + str(ofLength) + pBstr + smprtStr +\n",
    "            dreStr + \"_HR.calib1D\")\n",
    "    test_calibFs.append(file)\n",
    "\n"
   ]
  },
  {
   "cell_type": "markdown",
   "metadata": {},
   "source": [
    "## (Optional) RECONSTRUCT Data files for surface fitting (those from gainscale)\n",
    "\n",
    "PIXIMPACT -> XIFUSIM (serpens)-> SIRENA(STC) -> CALIBRATED\n"
   ]
  },
  {
   "cell_type": "code",
   "execution_count": null,
   "metadata": {
    "scrolled": true
   },
   "outputs": [],
   "source": [
    "run = 0\n",
    "# Run SIRENA to reconstruct calibration files\n",
    "# ===========================================\n",
    "if run:\n",
    "    print(\"Reconstructing SURFACE\",SFCpulses, \"single files with lib:\", libfile)\n",
    "    print(\"DRE=\",dre,\"samprate=\",smprtStr)\n",
    "    #sys.exit()\n",
    "    for i in range(0,len(eners_keV)):\n",
    "        comm = (\"tesreconstruction Recordfile=\" + tesFs[i] + \" TesEventFile=\" + evtFs[i] + \" Rcmethod=SIRENA\" + \n",
    "                \" PulseLength=\"+ str(pulseLength) + \" LibraryFile=\" + libfile +\n",
    "                \" samplesUp=\" + str(samplesUp) + \" nSgms=\" + str(nSgms) + \" samplesDown=\" + str(samplesDown) + \n",
    "                \" opmode=1 OFLib=yes FilterDomain=\" + domain + \" detectionMode=STC\" +\n",
    "                \" FilterMethod=F0 clobber=yes EnergyMethod=\" + recStr + \" LagsOrNot=1\" + \n",
    "                \" XMLFile=\" + xmlfile + \" filtEeV=6000.0 OFStrategy=FIXED OFLength=\" + str(ofLength) + \n",
    "                \" preBuffer=\" + str(pB))\n",
    "        mess = \"Reconstructing: \" + tesFs[i]\n",
    "        run_comm(comm, mess)\n",
    "    print(\"########################\")        \n",
    "    print(\"SIRENA files created\")            \n",
    "    print(\"########################\")        \n",
    "#sys.exit()"
   ]
  },
  {
   "cell_type": "code",
   "execution_count": null,
   "metadata": {
    "jupyter": {
     "source_hidden": true
    }
   },
   "outputs": [],
   "source": [
    "run = 0\n",
    "# Correct energies from gain scale\n",
    "#======================================\n",
    "if run: \n",
    "    print(\"Correcting SURFACE\",SFCpulses, \"pulses single files with lib:\", libfile)\n",
    "    print(\"DRE=\",dre,\"samprate=\",smprtStr)\n",
    "    for i in range(0,len(eners_keV)):\n",
    "        alias = \"pL\" + str(pulseLength) + \"_STC_T_fixedlib6OF_\" + recStr  + str(ofLength) + smprtStr + \\\n",
    "        noiseForSFC + dreStr \n",
    "        print(\"alias=\", alias)\n",
    "        comm = (\"python calibEnergies.py --inFile=\" + evtFs[i] + \" --outFile=\" + calibFs[i] + \n",
    "                \" --coeffsFile=\" + coeffsfile + \" --alias=\" + alias)\n",
    "        mess = \"Calibrating: \" + evtFs[i]\n",
    "        run_comm(comm, mess)\n",
    "\n",
    "    print(\"########################\")        \n",
    "    print(\"CALIBRATED files created\")            \n",
    "    print(\"########################\")        \n",
    "#sys.exit()"
   ]
  },
  {
   "cell_type": "markdown",
   "metadata": {
    "jupyter": {
     "source_hidden": true
    }
   },
   "source": [
    "## (Optional) RECONSTRUCT Test Files \n",
    "PIXIMPACT -> XIFUSIM (serpens)-> SIRENA(STC) -> CALIBRATED\n"
   ]
  },
  {
   "cell_type": "code",
   "execution_count": null,
   "metadata": {
    "jupyter": {
     "source_hidden": true
    }
   },
   "outputs": [],
   "source": [
    "run = 0\n",
    "# Run SIRENA over test files\n",
    "# ==========================\n",
    "if run:\n",
    "    print(\"Creating SIRENA test files for DRE=\",dre,\"SAMPRATE=\",smprt,\"and libfile=\", tlibfile)\n",
    "    for i in range(0,len(test_keV)):\n",
    "        comm = (\"tesreconstruction Recordfile=\" + test_tesFs[i] + \" TesEventFile=\" + test_evtFs[i] +\n",
    "                \" PulseLength=\" + str(pulseLength) + \" LibraryFile=\" + tlibfile +\n",
    "                \" samplesUp=\" + str(samplesUp) + \" nSgms=\" + str(nSgms) + \" samplesDown=\" + str(samplesDown) + \n",
    "                \" opmode=1 OFLib=yes FilterDomain=\" + domain + \" detectionMode=STC\" +\n",
    "                \" FilterMethod=F0 clobber=yes EventListSize=1000 EnergyMethod=\" + recStr + \" LagsOrNot=1\" +\n",
    "                \" XMLFile=\" + xmlfile + \" filtEeV=6000.0 OFStrategy=FIXED OFLength=\" + str(ofLength)+ \n",
    "                \" preBuffer=\" + str(pB) )\n",
    "        mess = \"Reconstructing: \" + test_tesFs[i]\n",
    "        run_comm(comm, mess)\n",
    "    print(\"########################\")        \n",
    "    print(\"test SIRENA files created\")            \n",
    "    print(\"########################\")   "
   ]
  },
  {
   "cell_type": "code",
   "execution_count": null,
   "metadata": {
    "jupyter": {
     "source_hidden": true
    },
    "scrolled": true
   },
   "outputs": [],
   "source": [
    "run=0\n",
    "if run:\n",
    "    print(\"Creating CALIB test files for DRE,SAMPRATE\",dre,smprt)\n",
    "    # Correct energies from gain scale\n",
    "    # ================================\n",
    "    for i in range(0,len(test_keV)):\n",
    "        alias = \"pL\" + str(pulseLength) + \"_STC_T_fixedlib6OF_\" + recStr  + str(ofLength) + smprtStr + dreStr \n",
    "        comm = (\"python calibEnergies.py --inFile=\" + test_evtFs[i] + \" --outFile=\" + test_calibFs[i] + \n",
    "                \" --coeffsFile=\" + coeffsfile + \" --alias=\" + alias)\n",
    "        mess = \"Calibrating: \" + test_evtFs[i]\n",
    "        run_comm(comm, mess)\n",
    "    print(\"##################################\")\n",
    "    print(\"TEST Files created and calibrated\")\n",
    "    print(\"##################################\")"
   ]
  },
  {
   "cell_type": "markdown",
   "metadata": {},
   "source": [
    "## Define SURFACE for fitting\n",
    "A surface is defined along three axes: reconstructed PH, OFfset and input (calibration energy)"
   ]
  },
  {
   "cell_type": "markdown",
   "metadata": {},
   "source": [
    "### a) Read Surface Data and Select non-0-PHI events\n",
    "Events with PHI=0.0 would indicate that no parabola could be fit (multiple pulses?)\n",
    "Reconstructed (calibrated and uncalibrated) data"
   ]
  },
  {
   "cell_type": "code",
   "execution_count": 21,
   "metadata": {},
   "outputs": [
    {
     "name": "stdout",
     "output_type": "stream",
     "text": [
      "Common number of pulses= 5024\n",
      "Common umber of non-0-phi pulses= 5024\n",
      "PHI=0 events: 0\n"
     ]
    }
   ],
   "source": [
    "# Find minimum number of total pulses AND non-0-PHI pulses\n",
    "npls = list()\n",
    "nn0pls = list()\n",
    "for i in range(0,len(eners_keV)):\n",
    "    #print (\"Opening file \",evtFs[i])\n",
    "    uncal = fits.open(evtFs[i], memmap=True)\n",
    "    naxis2 = uncal[1].header[\"NAXIS2\"]\n",
    "    npls.append(naxis2)\n",
    "    uncalTab = uncal[1].data\n",
    "    uncalPHIS = uncalTab['PHI']\n",
    "    non0 = np.count_nonzero(uncalPHIS)\n",
    "    nn0pls.append(non0)\n",
    "    uncal.close()\n",
    "nCpulses = np.amin(npls)\n",
    "non0ct = np.amin(nn0pls)\n",
    "print(\"Common number of pulses=\",nCpulses)\n",
    "print(\"Common number of non-0-phi pulses=\",non0ct)\n",
    "print(\"PHI=0 events:\",nCpulses-non0ct)"
   ]
  },
  {
   "cell_type": "code",
   "execution_count": 22,
   "metadata": {
    "scrolled": true
   },
   "outputs": [
    {
     "name": "stdout",
     "output_type": "stream",
     "text": [
      "Reading files for calibration Energy= 1\n",
      "Reading files for calibration Energy= 2\n",
      "Reading files for calibration Energy= 3\n",
      "Reading files for calibration Energy= 4\n",
      "Reading files for calibration Energy= 5\n",
      "Reading files for calibration Energy= 6\n",
      "Reading files for calibration Energy= 7\n",
      "Reading files for calibration Energy= 8\n",
      "Reading files for calibration Energy= 9\n",
      "Reading files for calibration Energy= 10\n",
      "Reading files for calibration Energy= 11\n",
      "Reading files for calibration Energy= 12\n"
     ]
    }
   ],
   "source": [
    "# Read data in calibration (gainScale) files\n",
    "ph_values_non0 = np.zeros((len(eners_keV),non0ct))\n",
    "phcal_values_non0 = np.zeros((len(eners_keV),non0ct))\n",
    "PHI_values_non0 = np.zeros((len(eners_keV),non0ct))\n",
    "PHIn_values_non0 = np.zeros((len(eners_keV),non0ct))\n",
    "\n",
    "for i in range(0,len(eners_keV)):\n",
    "    print(\"Reading files for calibration Energy=\", eners_keV[i])\n",
    "    # Detected events (uncalibrated)\n",
    "    uncal = fits.open(evtFs[i], memmap=True)\n",
    "    uncalTab = uncal[1].data\n",
    "    uncalTimes = uncalTab['TIME']\n",
    "    uncalEners = uncalTab['SIGNAL']\n",
    "    uncalPHIS = uncalTab['PHI']\n",
    "    uncalLAGS = uncalTab['LAGS']\n",
    "    non0indices = np.nonzero(uncalPHIS)[0:non0ct]\n",
    "    \n",
    "    ph_values_non0[i,] = uncalEners[non0indices]\n",
    "    PHI_values_non0[i,] = uncalPHIS[non0indices]\n",
    "    PHIn_values_non0[i,] = uncalPHIS[non0indices] + uncalLAGS[non0indices] \n",
    "    uncal.close()\n",
    "    \n",
    "    # Calibrated events (gain-scale corrected)\n",
    "    cal = fits.open(calibFs[i], memmap=True)\n",
    "    calTab = cal[1].data\n",
    "    calTimes = calTab['TIME']\n",
    "    calEners = calTab['SIGNAL']\n",
    "    phcal_values_non0[i,] = calEners[non0indices]\n",
    "    cal.close()"
   ]
  },
  {
   "cell_type": "markdown",
   "metadata": {},
   "source": [
    "### b) Plot curves\n",
    "First, initial curves are plotted:\n",
    "    - Relative Error in Calibrated energy vs Offset\n",
    "    - Relative Error in UNCalibrated energy vs Offset"
   ]
  },
  {
   "cell_type": "code",
   "execution_count": 25,
   "metadata": {
    "collapsed": true,
    "jupyter": {
     "outputs_hidden": true,
     "source_hidden": true
    }
   },
   "outputs": [
    {
     "data": {
      "application/vnd.jupyter.widget-view+json": {
       "model_id": "a31398b3860a4f48af51637c618a868c",
       "version_major": 2,
       "version_minor": 0
      },
      "text/plain": [
       "Canvas(toolbar=Toolbar(toolitems=[('Home', 'Reset original view', 'home', 'home'), ('Back', 'Back to previous …"
      ]
     },
     "metadata": {},
     "output_type": "display_data"
    }
   ],
   "source": [
    "plot=1\n",
    "if plot:\n",
    "    fig = plt.figure(figsize=(8,6))\n",
    "\n",
    "    # Plot RelativeErrCorrEner vs PHI measured Phases\n",
    "    # =================================================\n",
    "    ax = fig.add_subplot(221)\n",
    "    ax.set_ylabel(\"Rel. Ener estimation error (%)\\n (gain scale corrected)\")\n",
    "    for i in range(len(eners_keV)):\n",
    "        inkeV = eners_keV[i]\n",
    "        relErr = (phcal_values_non0[i,] - inkeV)*100./inkeV  # [%] Relative Energy Estimation Error\n",
    "        labelLeg = \"E=\" + str(inkeV) + \" keV\"\n",
    "        #fc = cols[i]\n",
    "        #ax.plot(PHI_values[i,], relErr, marker='o', markerfacecolor=fc, linestyle='none', \n",
    "        #         markeredgecolor=cols[i], label=labelLeg, ms=3)\n",
    "        ax.plot(PHI_values_non0[i,], relErr, marker='o', linestyle='none', label=labelLeg, ms=3)\n",
    "        ax.axvline(x=0, linestyle=\"dashed\",color=\"gray\")\n",
    "        ax.legend(numpoints=3,prop={'size': 6})\n",
    "\n",
    "    # Plot RelativeErrCorrEner vs Measured (PHI+n) Phases\n",
    "    # =================================================\n",
    "    ax = fig.add_subplot(222)\n",
    "    ax.set_ylabel(\"Rel Ener estimation error (%)\\n (gain scale corrected)\")\n",
    "    for i in range(len(eners_keV)):\n",
    "        inkeV = eners_keV[i]\n",
    "        relErr = (phcal_values_non0[i,] - inkeV)*100./inkeV  # [%] Relative Energy Estimation Error\n",
    "        labelLeg = \"E=\" + str(inkeV) + \" keV\"\n",
    "        #fc = cols[i]\n",
    "        #ax.plot(PHIn_values[i,], relErr, marker='o', markerfacecolor=fc, linestyle='none', \n",
    "        #         markeredgecolor=cols[i], label=labelLeg, ms=3)\n",
    "        ax.plot(PHIn_values_non0[i,], relErr, marker='o', linestyle='none', label=labelLeg, ms=3)\n",
    "        ax.axvline(x=0, linestyle=\"dashed\",color=\"gray\")\n",
    "        ax.legend(numpoints=3,prop={'size': 6})\n",
    "\n",
    "        minErr = min(relErr)\n",
    "        maxErr = max(relErr)\n",
    "        #print(\"E,minErr,maxErr, Diff=\", eners_keV[i], minErr, maxErr, abs(maxErr-minErr))\n",
    "\n",
    "    # Plot RelativeErrUncorrEner vs Measured (PHI) Phases\n",
    "    # ====================================================\n",
    "    ax = fig.add_subplot(223)\n",
    "    ax.set_xlabel(\"Measured (PHI) arrival phase\")\n",
    "    ax.set_ylabel(\"Relative Energy estimation error (%)\\n (uncalibrated)\")\n",
    "    for i in range(len(eners_keV)):\n",
    "        inkeV = eners_keV[i]\n",
    "        relErr = (ph_values_non0[i,] - inkeV)*100./inkeV  # [%] Relative Energy Estimation Error\n",
    "        labelLeg = \"E=\" + str(inkeV) + \" keV\"\n",
    "        #fc = cols[i]\n",
    "        #ax.plot(PHI_values[i,], relErr, marker='o', markerfacecolor=fc, linestyle='none', \n",
    "        #         markeredgecolor=cols[i], label=labelLeg, ms=3)\n",
    "        ax.plot(PHI_values_non0[i,], relErr, marker='o', linestyle='none', label=labelLeg, ms=3)\n",
    "        ax.axvline(x=0, linestyle=\"dashed\",color=\"gray\")\n",
    "        ax.legend(numpoints=3,prop={'size': 6})\n",
    "\n",
    "    # Plot RelativeErrUnCorrEner vs measures (PHI+n) phases\n",
    "    # =================================================\n",
    "    ax = fig.add_subplot(224)\n",
    "    ax.set_xlabel(\"Measured (PHI+n) arrival phase\")\n",
    "    ax.set_ylabel(\"Relative Energy estimation error (%)\\n (uncalibrated)\")\n",
    "    for i in range(len(eners_keV)):\n",
    "        inkeV = eners_keV[i]\n",
    "        relErr = (ph_values_non0[i,] - inkeV)*100./inkeV  # [%] Relative Energy Estimation Error\n",
    "        labelLeg = \"E=\" + str(inkeV) + \" keV\"\n",
    "        #fc = cols[i]\n",
    "        #ax.plot(PHIn_values[i,], relErr, marker='o', markerfacecolor=fc, linestyle='none', \n",
    "        #         markeredgecolor=cols[i], label=labelLeg, ms=3)\n",
    "        ax.plot(PHIn_values_non0[i,], relErr, marker='o', linestyle='none', label=labelLeg, ms=3)\n",
    "        ax.axvline(x=0, linestyle=\"dashed\",color=\"gray\")\n",
    "        ax.legend(numpoints=3,prop={'size': 6})\n",
    "\n",
    "    fileplot = (ereDir + \"/EreconFLL\" + smprtStr + \"_SFC\" + str(SFCpulses) + \"p\" + noiseForSFC + \"_\" +\n",
    "                str(TSpulses) + \"p_pL\" + str(pulseLength) + \"_\" + recStr + str(ofLength) + pBstr + \"_offsets.png\")\n",
    "    fig.savefig(fileplot)    \n",
    "    fig.tight_layout()"
   ]
  },
  {
   "cell_type": "markdown",
   "metadata": {},
   "source": [
    "###  c) Plot 3D surfaces \n",
    "3D visualization: \n",
    "    - (relative err in calib energy) vs Offset vs (input energy)\n",
    "    - (uncalibrated reconstructed PH) vs offset vs (input energy): surface to be fitted"
   ]
  },
  {
   "cell_type": "code",
   "execution_count": 27,
   "metadata": {
    "collapsed": true,
    "jupyter": {
     "outputs_hidden": true,
     "source_hidden": true
    }
   },
   "outputs": [
    {
     "name": "stdout",
     "output_type": "stream",
     "text": [
      "Plotting 3D surfaces\n"
     ]
    },
    {
     "data": {
      "application/vnd.jupyter.widget-view+json": {
       "model_id": "3d263189dd3b49388816d31cc2aeb0ba",
       "version_major": 2,
       "version_minor": 0
      },
      "text/plain": [
       "Canvas(toolbar=Toolbar(toolitems=[('Home', 'Reset original view', 'home', 'home'), ('Back', 'Back to previous …"
      ]
     },
     "metadata": {},
     "output_type": "display_data"
    },
    {
     "data": {
      "application/vnd.jupyter.widget-view+json": {
       "model_id": "6408f624c50d4619a52d22e75ca71549",
       "version_major": 2,
       "version_minor": 0
      },
      "text/plain": [
       "Canvas(toolbar=Toolbar(toolitems=[('Home', 'Reset original view', 'home', 'home'), ('Back', 'Back to previous …"
      ]
     },
     "metadata": {},
     "output_type": "display_data"
    }
   ],
   "source": [
    "plot=1\n",
    "if plot:\n",
    "    plt.close()\n",
    "    print(\"Plotting 3D surfaces\")\n",
    "    X = np.zeros((len(eners_keV), non0ct))\n",
    "    Y = np.zeros((len(eners_keV), non0ct))\n",
    "    YS = np.zeros((len(eners_keV), non0ct))\n",
    "    Z = np.zeros((len(eners_keV), non0ct))\n",
    "\n",
    "    # PLOT      EcalibError  vs. offset  vs. Einput\n",
    "    # ==============================================\n",
    "    fig = plt.figure(figsize=(10,5))\n",
    "    suptitle='Error in (cal)Energy estimation for samprate=' + str(samprate)\n",
    "    fig.suptitle(suptitle, fontsize=14, fontweight='bold')\n",
    "\n",
    "    #ax = fig.add_subplot(131, projection='3d')\n",
    "    ax = fig.add_subplot(121, projection='3d')\n",
    "    ax.set_xlabel('PHI (arrival phase)')\n",
    "    ax.set_ylabel('Rel. E estim (cal) %')\n",
    "    ax.set_zlabel('Input energy (keV)')\n",
    "    for i in range(0,len(eners_keV)):\n",
    "        X[i,] = PHI_values_non0[i,]\n",
    "        Y[i,] = (phcal_values_non0[i,]-eners_keV[i])*100./eners_keV[i]\n",
    "        Z[i,] = np.repeat(eners_keV[i], non0ct)\n",
    "        #XS[i,] = np.sort(X[i,],0)\n",
    "        YS[i,] = [x for _,x in sorted(zip(X[i,],Y[i,]))]\n",
    "        #ax.scatter(xs=X[i,], ys=Y[i,], zs=eners_keV[i], zdir='z', s=20, c=cols[i], depthshade=True)\n",
    "        ax.scatter(xs=X[i,], ys=Y[i,], zs=eners_keV[i], zdir='z', s=20, depthshade=True)\n",
    "    XS = np.sort(X,1)\n",
    "\n",
    "    #ax2 = fig.add_subplot(132, projection='3d')\n",
    "    #ax2.plot_wireframe(X=XS, Y=YS, Z=Z)\n",
    "    #ax2.set_xlabel('PHI (arrival phase)')\n",
    "    #ax2.set_ylabel('Rel. E estim (cal) %')\n",
    "    #ax2.set_zlabel('Input energy (keV)')\n",
    "\n",
    "    #ax3 = fig.add_subplot(133, projection='3d')\n",
    "    ax3 = fig.add_subplot(122, projection='3d')\n",
    "    surf = ax3.plot_surface(X=XS, Y=YS, Z=Z, cmap=cm.coolwarm, antialiased=True)\n",
    "    ax3.set_xlabel('PHI (arrival phase)')\n",
    "    ax3.set_ylabel('Rel. E estim (cal) %')\n",
    "    ax3.set_zlabel('Input energy (keV)')\n",
    "    fig.colorbar(surf, shrink=0.5, aspect=5)\n",
    "    plt.tight_layout()\n",
    "\n",
    "    \n",
    "    # PLOT      Euncalib  vs. offset  vs. Einput\n",
    "    # ===============================================\n",
    "    fig = plt.figure(figsize=(10,5))\n",
    "    fig.suptitle('(Uncalibrated) reconstructed PH', fontsize=14, fontweight='bold')\n",
    "\n",
    "    #ax = fig.add_subplot(131, projection='3d')\n",
    "    ax = fig.add_subplot(121, projection='3d')\n",
    "    ax.set_xlabel('PHI (arrival phase)')\n",
    "    ax.set_ylabel('Recons PH')\n",
    "    ax.set_zlabel('Input energy (keV)')\n",
    "    for i in range(0,len(eners_keV)):\n",
    "        Y[i,] = ph_values_non0[i,]\n",
    "        YS[i,] = [x for _,x in sorted(zip(X[i,],Y[i,]))]\n",
    "        #ax.scatter(xs=X[i,], ys=Y[i,], zs=eners_keV[i], zdir='z', s=20, c=cols[i], depthshade=True)\n",
    "        ax.scatter(xs=X[i,], ys=Y[i,], zs=eners_keV[i], zdir='z', s=20, depthshade=True)\n",
    "    XS = np.sort(X,1)\n",
    "\n",
    "    #ax2 = fig.add_subplot(132, projection='3d')\n",
    "    #ax2.plot_wireframe(X=XS, Y=YS, Z=Z)\n",
    "    #ax2.set_xlabel('PHI (arrival phase)')\n",
    "    #ax2.set_ylabel('Uncal E (keV)')\n",
    "    #ax2.set_zlabel('Input energy (keV)')\n",
    "\n",
    "    #ax3 = fig.add_subplot(133, projection='3d')\n",
    "    ax3 = fig.add_subplot(122, projection='3d')\n",
    "    surf = ax3.plot_surface(X=XS, Y=YS, Z=Z, cmap=cm.coolwarm, antialiased=True)\n",
    "    ax3.set_xlabel('PHI (arrival phase)')\n",
    "    ax3.set_ylabel('Recons PH')\n",
    "    ax3.set_zlabel('Input energy (keV)')\n",
    "    fig.colorbar(surf, shrink=0.5, aspect=5)\n",
    "    plt.tight_layout()\n"
   ]
  },
  {
   "cell_type": "markdown",
   "metadata": {},
   "source": [
    "## Fitting of a 2D polynomial to PH (reconstructed-uncalib-PH) vs Offsets\n",
    "\n",
    "Based on PP functions. Functions input:\n",
    "\n",
    "* Reconstructed Pulse Heights (ph_values): PH are reconstructed with a 20000p library + not corrected/calibrated\n",
    "\n",
    "* Arrival Phases (phase_values)\n",
    "\n",
    "* Calibration Energies (energy_list)"
   ]
  },
  {
   "cell_type": "markdown",
   "metadata": {},
   "source": [
    "### a) Decide best degree of surface, based on residuals of fitting surface over calibration files"
   ]
  },
  {
   "cell_type": "code",
   "execution_count": 71,
   "metadata": {},
   "outputs": [
    {
     "data": {
      "application/vnd.jupyter.widget-view+json": {
       "model_id": "b7ec38c416474264b49799ce8afd63bc",
       "version_major": 2,
       "version_minor": 0
      },
      "text/plain": [
       "Canvas(toolbar=Toolbar(toolitems=[('Home', 'Reset original view', 'home', 'home'), ('Back', 'Back to previous …"
      ]
     },
     "metadata": {},
     "output_type": "display_data"
    }
   ],
   "source": [
    "#plot residuals of correction for different degree(s) of fitting surface\n",
    "plt.close()\n",
    "fig = plt.figure(figsize=(12,10))\n",
    "ii=0\n",
    "nrows=4\n",
    "ncols=3\n",
    "mindeg=2\n",
    "maxdeg=6\n",
    "cmap = plt.cm.get_cmap('Dark2')     \n",
    "\n",
    "for i in range(0,len(eners_keV)):  \n",
    "    ii+=1\n",
    "    ax = fig.add_subplot(nrows,ncols,ii)\n",
    "    for deg in range(mindeg,maxdeg+1):\n",
    "        coeffs=fit_2D_gain_scale(ph_values_non0, PHI_values_non0, eners_keV, deg=deg, show=True)\n",
    "        # Arrival Phases & Corrected energies\n",
    "        corrE = np.polynomial.polynomial.polyval2d(ph_values_non0[i,],PHI_values_non0[i,],coeffs)\n",
    "        lab = \"deg=\"+str(deg)\n",
    "        color = 'C'+str(deg-mindeg)\n",
    "        #norm = colors.Normalize(vmin=mindeg, vmax=maxdeg)\n",
    "        #color = cmap(norm(deg))\n",
    "        #color=cmap(deg-mindeg)\n",
    "        #print(norm(deg))\n",
    "        ax.plot(PHI_values_non0[i,], corrE-eners_keV[i], marker='o', linestyle='none', ms=1, alpha=0.05,color=color)\n",
    "        \n",
    "        fpol = Polynomial.fit(PHI_values_non0[i,],corrE-eners_keV[i],2)\n",
    "        xs = np.linspace(np.min(PHI_values_non0[i,]),np.max(PHI_values_non0[i,]),50)\n",
    "        #ax.plot(xs,fpol(xs), linestyle='-', color='white', linewidth=4)\n",
    "        ax.plot(xs,fpol(xs), linestyle='-',color=color,label=lab)\n",
    "        \n",
    "        ax.legend(prop={'size': 6})\n",
    "        \n",
    "        \n",
    "    tit=\"E=\"+str(eners_keV[i])+\"keV\"\n",
    "    ax.title.set_text(tit)\n",
    "    ax.set_xlabel(\"PHI (arrival phase)\")\n",
    "    ax.set_ylabel(\"Err in CorrEnerg (keV)\")\n",
    "plt.tight_layout()\n"
   ]
  },
  {
   "cell_type": "markdown",
   "metadata": {},
   "source": [
    "### b) Check numerical values of some corrections"
   ]
  },
  {
   "cell_type": "code",
   "execution_count": 74,
   "metadata": {},
   "outputs": [
    {
     "name": "stdout",
     "output_type": "stream",
     "text": [
      "Do & Test 2D fitting of test files\n",
      "Checking a particular pulse of every calibration energy\n",
      "Einput  PH       PHIn_val   ph_cal(1D) E_corr(poly)\n",
      " 1      1.1066     +0.0226      1.0038     1.0001\n",
      " 2      2.1680     +0.0087      2.0060     2.0013\n",
      " 3      3.1842     -0.0006      3.0009     3.0003\n",
      " 4      4.1616     -0.0120      3.9965     4.0006\n",
      " 5      5.1003     -0.0180      4.9954     5.0006\n",
      " 6      5.9999     -0.0010      5.9997     5.9998\n",
      " 7      6.8508     +0.1085      7.0016     6.9983\n",
      " 8      7.6535     +0.2247      8.0040     8.0009\n",
      " 9      8.4006     +0.3195      8.9998     8.9990\n",
      "10      9.0968     +0.4034      9.9974     9.9988\n",
      "11      9.7405     +0.4829      10.9982     11.0000\n",
      "12      10.3277     +0.5874      11.9999     11.9993\n"
     ]
    }
   ],
   "source": [
    "BESTDEG=4\n",
    "\n",
    "print(\"Do & Test 2D fitting of test files\")   \n",
    "# with total PHI+LAGS\n",
    "#coeffs=fit_2D_gain_scale(ph_values_non0, PHIn_values_non0, eners_keV, deg=6, show=True)\n",
    "\n",
    "BESTcoeffs=fit_2D_gain_scale(ph_values_non0, PHI_values_non0, eners_keV, deg=BESTDEG, show=True)\n",
    "\n",
    "print(\"Checking a particular pulse of every calibration energy\")\n",
    "print(\"Einput  PH       PHIn_val   ph_cal(1D) E_corr(poly)\")\n",
    "phnum=10\n",
    "for i in range(len(eners_keV)):\n",
    "    corrE = np.polynomial.polynomial.polyval2d(ph_values_non0[i,phnum],PHI_values_non0[i,phnum],coeffs)\n",
    "    print('{:2d}'.format(eners_keV[i]),\"    \", \n",
    "          '{:0.4f}'.format(ph_values_non0[i,phnum]), \"   \", \n",
    "          '{:+0.4f}'.format(PHIn_values_non0[i,phnum]),\"    \", \n",
    "          '{:0.4f}'.format(phcal_values_non0[i,phnum]),\"   \", \n",
    "          '{:0.4f}'.format(corrE))\n",
    "\n",
    "np.savetxt(surfaceFile, coeffs, header='Polynomial surface coefficients. Use as: \\\n",
    "    calibEnergy=np.polynomial.polynomial.polyval2d(pulse_height,offsetN,np.array(coeffs))')\n"
   ]
  },
  {
   "cell_type": "markdown",
   "metadata": {},
   "source": [
    "## Test files energy corrections\n",
    "\n",
    "Compare resconstructed energies from 1keV to 12 keV before and after corrections.\n",
    "For this, we use *TSpulses* reconstructed with a *jitter_noisy* library using the coefficients calculated above."
   ]
  },
  {
   "cell_type": "code",
   "execution_count": 76,
   "metadata": {},
   "outputs": [
    {
     "name": "stdout",
     "output_type": "stream",
     "text": [
      "Correcting energies for  5000 pulses with DRE= fll and samprate= 156250.0\n"
     ]
    },
    {
     "data": {
      "application/vnd.jupyter.widget-view+json": {
       "model_id": "4d01c8dabd024776b8b8621d39675d52",
       "version_major": 2,
       "version_minor": 0
      },
      "text/plain": [
       "Canvas(toolbar=Toolbar(toolitems=[('Home', 'Reset original view', 'home', 'home'), ('Back', 'Back to previous …"
      ]
     },
     "metadata": {},
     "output_type": "display_data"
    },
    {
     "name": "stdout",
     "output_type": "stream",
     "text": [
      "Reading  /dataj6/ceballos/INSTRUMEN/EURECA/ERESOL/PAIRS/eresolLPA2.5a/events_sep40000sam_5000p_SIRENA8192_pL8192_1keV_STC_T_fixedlib6OF_OPTFILT8192_fll.fits\n",
      "2.00274792174607 FWHM=2.003~eV\n",
      "Reading  /dataj6/ceballos/INSTRUMEN/EURECA/ERESOL/PAIRS/eresolLPA2.5a/events_sep40000sam_5000p_SIRENA8192_pL8192_2keV_STC_T_fixedlib6OF_OPTFILT8192_fll.fits\n",
      "1.982190151702288 FWHM=1.982~eV\n",
      "Reading  /dataj6/ceballos/INSTRUMEN/EURECA/ERESOL/PAIRS/eresolLPA2.5a/events_sep40000sam_5000p_SIRENA8192_pL8192_3keV_STC_T_fixedlib6OF_OPTFILT8192_fll.fits\n",
      "1.9261349663882998 FWHM=1.926~eV\n",
      "Reading  /dataj6/ceballos/INSTRUMEN/EURECA/ERESOL/PAIRS/eresolLPA2.5a/events_sep40000sam_5000p_SIRENA8192_pL8192_4keV_STC_T_fixedlib6OF_OPTFILT8192_fll.fits\n",
      "1.889507995116385 FWHM=1.890~eV\n",
      "Reading  /dataj6/ceballos/INSTRUMEN/EURECA/ERESOL/PAIRS/eresolLPA2.5a/events_sep40000sam_5000p_SIRENA8192_pL8192_5keV_STC_T_fixedlib6OF_OPTFILT8192_fll.fits\n",
      "1.8243423931110685 FWHM=1.824~eV\n",
      "Reading  /dataj6/ceballos/INSTRUMEN/EURECA/ERESOL/PAIRS/eresolLPA2.5a/events_sep40000sam_5000p_SIRENA8192_pL8192_6keV_STC_T_fixedlib6OF_OPTFILT8192_fll.fits\n",
      "1.7674864880258836 FWHM=1.767~eV\n",
      "Reading  /dataj6/ceballos/INSTRUMEN/EURECA/ERESOL/PAIRS/eresolLPA2.5a/events_sep40000sam_5000p_SIRENA8192_pL8192_7keV_STC_T_fixedlib6OF_OPTFILT8192_fll.fits\n",
      "1.7507663273100982 FWHM=1.751~eV\n",
      "Reading  /dataj6/ceballos/INSTRUMEN/EURECA/ERESOL/PAIRS/eresolLPA2.5a/events_sep40000sam_5000p_SIRENA8192_pL8192_8keV_STC_T_fixedlib6OF_OPTFILT8192_fll.fits\n",
      "1.737410778690518 FWHM=1.737~eV\n",
      "Reading  /dataj6/ceballos/INSTRUMEN/EURECA/ERESOL/PAIRS/eresolLPA2.5a/events_sep40000sam_5000p_SIRENA8192_pL8192_9keV_STC_T_fixedlib6OF_OPTFILT8192_fll.fits\n",
      "1.6438515470716766 FWHM=1.644~eV\n",
      "Reading  /dataj6/ceballos/INSTRUMEN/EURECA/ERESOL/PAIRS/eresolLPA2.5a/events_sep40000sam_5000p_SIRENA8192_pL8192_10keV_STC_T_fixedlib6OF_OPTFILT8192_fll.fits\n",
      "1.6503533304861728 FWHM=1.650~eV\n",
      "Reading  /dataj6/ceballos/INSTRUMEN/EURECA/ERESOL/PAIRS/eresolLPA2.5a/events_sep40000sam_5000p_SIRENA8192_pL8192_11keV_STC_T_fixedlib6OF_OPTFILT8192_fll.fits\n",
      "1.6042317615391366 FWHM=1.604~eV\n",
      "Reading  /dataj6/ceballos/INSTRUMEN/EURECA/ERESOL/PAIRS/eresolLPA2.5a/events_sep40000sam_5000p_SIRENA8192_pL8192_12keV_STC_T_fixedlib6OF_OPTFILT8192_fll.fits\n",
      "1.5494956592748577 FWHM=1.549~eV\n"
     ]
    }
   ],
   "source": [
    "# plot corrections for all the calibration energies\n",
    "plot = 1\n",
    "ii=0\n",
    "if plot:\n",
    "    print(\"Correcting energies for \", TSpulses, \"pulses with DRE=\", dre, \"and samprate=\",samprate)\n",
    "\n",
    "    fig = plt.figure(figsize=(9,30))\n",
    "    irws = len(test_keV)\n",
    "    #irws=3\n",
    "    ncols=3\n",
    "    nrows=irws\n",
    "\n",
    "    for i in range(0,irws):\n",
    "        # Detected uncal events\n",
    "        print(\"Reading \", test_evtFs[i])\n",
    "        uncal = fits.open(test_evtFs[i], memmap=True)\n",
    "        uncalTab = uncal[1].data\n",
    "        arrPhase = uncalTab['PHI']\n",
    "        # arrival phase to (-0.5,0.5) interval\n",
    "        #arrPhase = uncalTab['PHI'] - 1.*np.trunc(uncalTab['PHI']/0.5)\n",
    "        # taking into account LAGS\n",
    "        #arrPhase = uncalTab['PHI'] + uncalTab['LAGS']\n",
    "        arrPhase = arrPhase[np.nonzero(arrPhase)]\n",
    "        uncalEners = uncalTab['SIGNAL']\n",
    "        uncalEners = uncalEners[np.nonzero(arrPhase)]\n",
    "        uncal.close()\n",
    "\n",
    "        # Detected cal events\n",
    "        cal = fits.open(test_calibFs[i], memmap=True)\n",
    "        calTab = cal[1].data\n",
    "        calEners = calTab['SIGNAL']\n",
    "        cal.close()\n",
    "\n",
    "        # Arrival Phases & Corrected energies\n",
    "        corrE = np.polynomial.polynomial.polyval2d(uncalEners, arrPhase,BESTcoeffs)\n",
    "\n",
    "        # FWHM calculations\n",
    "        fwhmUnCal = 2.35*np.std(uncalEners)*1000# ~eV\n",
    "        fwhmUnCalStr = 'FWHM={:0.3f}~eV'.format(fwhmUnCal)\n",
    "        print(fwhmUnCal,fwhmUnCalStr)\n",
    "        \n",
    "        fwhmCal = 2.35*np.std(calEners)*1000 # eV\n",
    "        fwhmCal_err = fwhmCal/np.sqrt(2*len(calEners)-2) # eV\n",
    "        fwhmCalStr = 'FWHM={:0.3f}+/-{:0.3f} eV'.format(fwhmCal, fwhmCal_err) # eV\n",
    "\n",
    "        fwhmCorr = 2.35*np.std(corrE)*1000. # eV\n",
    "        fwhmCorr_err = fwhmCorr/np.sqrt(2*len(corrE)-2)\n",
    "        fwhmCorrStr = 'FWHM={:0.3f}+/-{:0.3f} eV'.format(fwhmCorr, fwhmCorr_err) # eV\n",
    "\n",
    "        #--------------------------- PLOTTING ----------------------------------------#\n",
    "\n",
    "        # Plot UnCalE vs ArrPhse \n",
    "        # ============================\n",
    "        ii+=1\n",
    "        #figstr = str(irws)+\"3\"+str(3*i+1)\n",
    "        #ax=plt.subplot2grid((irws,3),(i,0))\n",
    "        ax = fig.add_subplot(nrows,ncols,ii)\n",
    "        if ii == nrows*3-2:\n",
    "            ax.set_xlabel(\"PHI (arrival phase)\")\n",
    "        ax.set_ylabel(\"Recons PH\")\n",
    "        ax.plot(arrPhase, uncalEners, marker='o', linestyle='none', ms=3)\n",
    "        ax.axhline(np.mean(uncalEners),linestyle='-', color='grey', linewidth=1)\n",
    "        ax.text(0.95, 0.01, fwhmUnCalStr,verticalalignment='bottom', horizontalalignment='right',\n",
    "        transform=ax.transAxes, color='green', fontsize=8)\n",
    "\n",
    "        # Plot CalE vs ArrPhse \n",
    "        # ============================\n",
    "        ii+=1\n",
    "        #figstr = str(irws)+\"3\"+str(3*i+2)\n",
    "        #ax=plt.subplot2grid((irws,3),(i,1))\n",
    "        ax = fig.add_subplot(nrows,ncols,ii)\n",
    "        if ii == nrows*3-1:\n",
    "            ax.set_xlabel(\"PHI (arrival phase)\")\n",
    "        ylabel=\"Calib Energy (keV)\"\n",
    "        ax.set_ylabel(ylabel)\n",
    "        ax.plot(arrPhase, calEners, marker='o', linestyle='none', ms=3)\n",
    "        ax.axhline(np.mean(calEners),linestyle='-', color='grey', linewidth=1)\n",
    "        ax.text(0.95, 0.01, fwhmCalStr,verticalalignment='bottom', horizontalalignment='right',\n",
    "        transform=ax.transAxes, color='green', fontsize=8)\n",
    "        fpol = Polynomial.fit(arrPhase,calEners,2)\n",
    "        xs = np.linspace(np.min(arrPhase),np.max(arrPhase),50)\n",
    "        ax.plot(xs,fpol(xs), linestyle='-', color='white', linewidth=4)\n",
    "        ax.plot(xs,fpol(xs), linestyle='-', color='green', linewidth=2)\n",
    "\n",
    "        # Plot CorrE vs ArrPhse \n",
    "        # ============================\n",
    "        figstr = str(irws)+\"3\"+str(3*i+3)\n",
    "        ii+=1\n",
    "        #ax=plt.subplot2grid((irws,3),(i,2))\n",
    "        ax = fig.add_subplot(nrows,ncols,ii)\n",
    "        if ii == nrows*3:\n",
    "            ax.set_xlabel(\"PHI (arrival phase)\")\n",
    "        ax.set_ylabel(\"Corr Energy (keV)\")\n",
    "        ax.text(0.95, 0.01, fwhmCorrStr,verticalalignment='bottom', horizontalalignment='right',\n",
    "        transform=ax.transAxes, color='green', fontsize=8)\n",
    "        # plot initial polynomial fit\n",
    "        #-----------------------------\n",
    "        fpol = Polynomial.fit(arrPhase,corrE,2)\n",
    "        #corrEcorr = test_keV[i]+corrE-fpol(arrPhase)\n",
    "        #ax.plot(arrPhase, corrEcorr, marker='o', linestyle='none', ms=3)\n",
    "        ax.plot(arrPhase, corrE, marker='o', linestyle='none', ms=3)\n",
    "        xs = np.linspace(np.min(arrPhase),np.max(arrPhase),50)\n",
    "        ax.plot(xs,fpol(xs), linestyle='-', color='white', linewidth=4)\n",
    "        ax.plot(xs,fpol(xs), linestyle='-', color='red', linewidth=2)\n",
    "        rms = np.sqrt(mean_squared_error(corrE,fpol(arrPhase)))\n",
    "\n",
    "        ax.axhline(np.mean(corrE),linestyle='-', color='grey', linewidth=1)\n",
    "\n",
    "        # plot secondary polynomial fit\n",
    "        #fpol2 = Polynomial.fit(arrPhase,corrEcorr,2)\n",
    "        #ax.plot(xs,fpol2(xs), linestyle='-', color='white', linewidth=4)\n",
    "        #ax.plot(xs,fpol2(xs), linestyle='-', color='green', linewidth=2)\n",
    "        #fwhmCorr2 = 2.35*np.std(corrEcorr)*1000. # eV\n",
    "        #fwhmCorr2_err = fwhmCorr2/np.sqrt(2*-2)\n",
    "        #fwhmCorr2Str = 'FWHM={:0.2f}+/-{:0.3f} eV'.format(fwhmCorr2, fwhmCorr2_err) # eV\n",
    "        #xl2 = np.min(arrPhase)\n",
    "        #ax.annotate(fwhmCorr2Str, xy=(xl2,yl), color=\"green\")\n",
    "\n",
    "    plt.tight_layout()\n"
   ]
  },
  {
   "cell_type": "code",
   "execution_count": null,
   "metadata": {},
   "outputs": [],
   "source": [
    "plt.close()\n",
    "# Correct and Plot alone 7 keV figure\n",
    "\n",
    "for i in range(0,len(test_keV)):\n",
    "    if test_keV[i] == 7:\n",
    "        # Detected uncal events\n",
    "        uncal = fits.open(test_evtFs[i], memmap=True)\n",
    "        uncalTab = uncal[1].data\n",
    "        #arrPhase = uncalTab['PHI'] + uncalTab['LAGS']\n",
    "        arrPhase = uncalTab['PHI']\n",
    "        uncalEners = uncalTab['SIGNAL']\n",
    "        uncal.close()\n",
    "\n",
    "        uncalEners_non0 = uncalEners[np.nonzero(arrPhase)]\n",
    "        arrPhase_non0 = arrPhase[np.nonzero(arrPhase)]\n",
    "    \n",
    "corrE7 = np.polynomial.polynomial.polyval2d(uncalEners_non0, arrPhase_non0,coeffs)\n",
    "fwhmCorr7 = 2.35*np.std(corrE7)*1000. # eV\n",
    "fwhmCorr7_err = fwhmCorr7/np.sqrt(2*float(TSpulses)-2)\n",
    "if fwhmCorr7_err < 0.01:\n",
    "    fwhmCorrStr7 = 'FWHM={:0.3f}+/-{:0.3f} eV'.format(fwhmCorr7, fwhmCorr7_err) # eV\n",
    "elif fwhmCorr7_err < 0.1:\n",
    "    fwhmCorrStr7 = 'FWHM={:0.2f}+/-{:0.2f} eV'.format(fwhmCorr7, fwhmCorr7_err) # eV\n",
    "else:\n",
    "    fwhmCorrStr7 = 'FWHM={:0.1f}+/-{:0.1f} eV'.format(fwhmCorr7, fwhmCorr7_err) # eV\n",
    "\n",
    "fpol7 = Polynomial.fit(arrPhase,corrE7,2)\n",
    "\n",
    "fig2 = plt.figure(figsize=(5,3))\n",
    "#suptitle = 'Sampling frequency={:0.2f} kHz'.format(samprate)\n",
    "suptitle = \"7 keV photons, \" + recStr + \" filter-\" + str(ofLength) + \"samples long\"\n",
    "fig2.suptitle(suptitle)\n",
    "ax2 = fig2.add_subplot(\"111\")\n",
    "ax2.set_xlabel(\"PHI arrival phase\")\n",
    "ax2.set_ylabel(\"Corrected Energy (keV)\")\n",
    "ax2.text(0.95, 0.01, fwhmCorrStr7,verticalalignment='bottom', horizontalalignment='right',\n",
    "        transform=ax2.transAxes, color='green', fontsize=8)\n",
    "ax2.plot(arrPhase, corrE7, marker='o', linestyle='none', ms=3)\n",
    "xs = np.linspace(np.min(arrPhase),np.max(arrPhase),50)\n",
    "ax2.plot(xs,fpol7(xs), linestyle='-', color='white', linewidth=4)\n",
    "ax2.plot(xs,fpol7(xs), linestyle='-', color='red', linewidth=2)\n",
    "fileplot2 = (ereDir+ \"/EreconBBFB\"+ smprtStr + \"_SFC\" + str(SFCpulses) + \"p\" + noiseForSFC + \"_\" +\n",
    "            str(TSpulses) + \"p_pL\" + str(pulseLength) + \"_\" + recStr + str(ofLength) + pBstr + \"_7keV.png\")\n",
    "fig2.savefig(fileplot2)\n",
    "plt.tight_layout()"
   ]
  }
 ],
 "metadata": {
  "kernelspec": {
   "display_name": "Python 3",
   "language": "python",
   "name": "python3"
  },
  "language_info": {
   "codemirror_mode": {
    "name": "ipython",
    "version": 3
   },
   "file_extension": ".py",
   "mimetype": "text/x-python",
   "name": "python",
   "nbconvert_exporter": "python",
   "pygments_lexer": "ipython3",
   "version": "3.8.3"
  },
  "toc-autonumbering": false
 },
 "nbformat": 4,
 "nbformat_minor": 4
}
